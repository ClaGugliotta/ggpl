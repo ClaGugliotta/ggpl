{
 "cells": [
  {
   "cell_type": "code",
   "execution_count": 1,
   "metadata": {},
   "outputs": [
    {
     "name": "stdout",
     "output_type": "stream",
     "text": [
      "Evaluating fenvs.py..\n",
      "...fenvs.py imported in 0.006055 seconds\n"
     ]
    }
   ],
   "source": [
    "from larlib import *"
   ]
  },
  {
   "cell_type": "code",
   "execution_count": null,
   "metadata": {
    "collapsed": true
   },
   "outputs": [],
   "source": [
    "b=matrix([[-1,3,-3,1],[3,-6,3,0],[-3,3,0,0],[1,0,0,0]])"
   ]
  },
  {
   "cell_type": "code",
   "execution_count": null,
   "metadata": {
    "collapsed": true
   },
   "outputs": [],
   "source": [
    "x= lambda p: p[0]\n",
    "y= lambda p: -p[1]**3+3*p[1]**2-3*p[1]+1\n",
    "z= lambda p: 3*p[1]**3-6*p[1]**2+3*p[1]\n",
    "y2=lambda p: -3*p[1]**3+3*p[1]**2\n",
    "z2=lambda p: p[1]**3\n",
    "dom= PROD([QUOTE([1]),QUOTE([1])])\n",
    "mappa= MAP([x,y])(dom)\n",
    "mappa= MAP([x,z])(dom)\n",
    "mappa= MAP([x,y2])(dom)\n",
    "mappa= MAP([x,z2])(dom)\n",
    "VIEW(mappa)"
   ]
  },
  {
   "cell_type": "code",
   "execution_count": null,
   "metadata": {
    "collapsed": true
   },
   "outputs": [],
   "source": []
  }
 ],
 "metadata": {
  "kernelspec": {
   "display_name": "Python 2",
   "language": "python",
   "name": "python2"
  },
  "language_info": {
   "codemirror_mode": {
    "name": "ipython",
    "version": 2
   },
   "file_extension": ".py",
   "mimetype": "text/x-python",
   "name": "python",
   "nbconvert_exporter": "python",
   "pygments_lexer": "ipython2",
   "version": "2.7.14"
  }
 },
 "nbformat": 4,
 "nbformat_minor": 2
}
