{
 "cells": [
  {
   "cell_type": "markdown",
   "metadata": {},
   "source": [
    "S. Stefano Rotondo al Celio\n",
    "==============="
   ]
  },
  {
   "cell_type": "code",
   "execution_count": 1,
   "metadata": {},
   "outputs": [
    {
     "name": "stdout",
     "output_type": "stream",
     "text": [
      "Evaluating fenvs.py..\n",
      "...fenvs.py imported in 0.005682 seconds\n"
     ]
    }
   ],
   "source": [
    "from larlib import *\n",
    "r0 = 24; #cubiti; raggio interno del muro interno\n",
    "r2 = 48; #cubiti; raggio esterno del muro medio\n",
    "r3 = 72; #cubiti; raggio esterno del muro esterno\n",
    "r4 = 88; #cubiti; raggio esterno scale esterne\n",
    "wsteps = 10;  #cubiti; profondita' scale esterne\n",
    "nsteps = 10;  #numero alzate/pedate scale esterne\n",
    "wstep = wsteps/nsteps; #cubiti; larghezza pedata\n",
    "hstep = 1/3; #cubiti; altezza alzata\n",
    "hw4 = 29; #cubiti; altezza all'imposta del muro esterno\n",
    "hbasament = hstep*nsteps;\n",
    "\n",
    "##DEF cylMap = MAP:[S2 * sin ~ S1, S2 * cos ~ S1, S3];\n",
    "cylMap = MAP([lambda p: (p[1]) * math.cos(p[0]), lambda p: (p[1]) * math.sin(p[0]), lambda p: (p[2])])\n",
    "\n",
    "\n",
    "def vdom(h):\n",
    "    return PROD([\n",
    "        COMP([\n",
    "            EMBED(1),\n",
    "            INTERVALS(PI*3/24)\n",
    "        ])(3),\n",
    "        QUOTE([h])\n",
    "    ])\n",
    "\n",
    "\n",
    "def hdom(w):\n",
    "    return COMP([S(2)(-1), EMBED(1)])(PROD([INTERVALS(PI*3/24)(3), QUOTE([w])]))\n",
    "\n",
    "\n",
    "def steps(w, h):\n",
    "    def steps1(n):\n",
    "        return COMP([STRUCT, CAT, N(n)])([vdom(h), T(3)(h), hdom(w), T(2)(-w)])\n",
    "    return steps1\n",
    "\n",
    "\n",
    "hbasament = hstep * nsteps\n",
    "\n",
    "stair = RIGHT([\n",
    "    COMP([MKPOL, UKPOL])(steps(wstep, hstep)(nsteps)),\n",
    "    COMP([S(2)(-1), SKEL_2, CUBOID])([PI/24, wsteps, hbasament])\n",
    "])\n",
    "\n",
    "ramp = cylMap(T(2)(r4)(stair))\n",
    "stairs = STRUCT(NN(12)([ramp, R([1, 2])(PI / 6)]))\n",
    "\n",
    "basisSector = COMP([cylMap, EMBED(1)])(PROD([INTERVALS(2 * PI / 12)(4), INTERVALS(r4 - (wstep * (nsteps - 1)))(1)]))\n",
    "\n",
    "basis = COMP([STRUCT, NN(12)])([basisSector, R([1, 2])(2 * PI / 12)])\n",
    "\n",
    "basement = COMP([R([1, 2])(PI / -48), STRUCT])([stairs, T(3)(hstep * nsteps), basis])"
   ]
  },
  {
   "cell_type": "code",
   "execution_count": 3,
   "metadata": {},
   "outputs": [],
   "source": [
    "ExtWall2Da = INTERSECTION([\n",
    "    MKPOL([[[0, 0], [7, 0], [7, 5], [0, 8], [7, 3], [9, 4], [10.5, 1.5], [10.5, 0], [11, 1.5], [11, 3]],\n",
    "           [range(1, 5), [2, 8, 7, 6, 5], [6, 7, 9, 10]], [[1], [2], [3]]]),\n",
    "    PROD([COMP([QUOTE, N(12)])(1), Q(8)])\n",
    "])\n",
    "\n",
    "\n",
    "ExtWall2Db = INTERSECTION([\n",
    "    MKPOL([[[0.5, 0], [4, 0], [5, 0], [6, 0], [6, 3], [5.5, 3.5], [5, 3], [4.5, 3.5], [4, 3], [2, 4], [0, 3], [0, 1.5], [0.5, 1.5]], [[10, 11, 12, 13], [1, 2, 9, 10, 13], [2, 3, 7, 8, 9], [3, 4, 5, 6, 7]], range(1, 5)]),\n",
    "    PROD([COMP([QUOTE, N(6)])(1), Q(4)])\n",
    "])\n",
    "\n",
    "ExtWall2D = STRUCT([ExtWall2Da, T(1)(11), ExtWall2Db])\n",
    "\n",
    "sizxExtWall = SIZE(1)(ExtWall2D)\n",
    "\n",
    "ExtWall = R([2, 3])(PI/2)(PROD([ExtWall2D, QUOTE([1.5])]))\n",
    "\n",
    "CurvedExtWall = COMP([cylMap, T(2)(r3), S([1, 3])([PI/(4*sizxExtWall), hw4/8])])(ExtWall)\n",
    "\n",
    "DoubleExtWall = STRUCT([CurvedExtWall, S(1)(-1), CurvedExtWall])\n",
    "\n",
    "FullExtWall = COMP([STRUCT, NN(4)])([DoubleExtWall, R([1, 2])(PI/2)])\n",
    "\n",
    "hCol = 12\n",
    "\n",
    "def Column(args):\n",
    "    w, h = args\n",
    "    basis = CUBOID([w, w, 2*w/3])\n",
    "    trunk = CYLINDER([w/2*.85, h-w])(8)\n",
    "    capitel = CUBOID([w, w, w/3])\n",
    "    return TOP([TOP([basis, trunk]), capitel])\n",
    "\n",
    "\n",
    "arcAngle = 2*PI/50.4\n",
    "wallAngle = -3.2*arcAngle/4\n",
    "RotCross = 3.2*arcAngle/4 + 2.5*arcAngle\n",
    "\n",
    "MyColumn = COMP([MKPOL, UKPOL, T(2)(r2-.75), Column])([1.5, hCol])\n",
    "\n",
    "The4cols = COMP([R([1, 2])(arcAngle*.4/3.2), MKPOL, UKPOL, STRUCT, NN(4)])([R([1, 2])(-arcAngle), MyColumn])\n",
    "\n",
    "The5Cols = COMP([R([1, 2])(arcAngle*.4/3.2), MKPOL, UKPOL, STRUCT, NN(5)])([R([1,2])(-arcAngle), MyColumn])\n",
    "\n",
    "TheBotWal = COMP([cylMap, MKPOL, UKPOL, T(2)(r2-.75), CUBOID])([3.2*arcAngle/4, 1.5, hCol])\n",
    "\n",
    "TheSecCols = STRUCT([R([1, 2])(RotCross), TheBotWal, R([1, 2])(wallAngle), The4cols, R([1,2])(-5*arcAngle), TheBotWal, R([1,2])(wallAngle), The5Cols])\n",
    "\n",
    "TheMedColumns = COMP([STRUCT, NN(4)])([TheSecCols, R([1, 2])(PI/-2)])\n",
    "                    "
   ]
  },
  {
   "cell_type": "code",
   "execution_count": null,
   "metadata": {
    "collapsed": true
   },
   "outputs": [],
   "source": []
  }
 ],
 "metadata": {
  "kernelspec": {
   "display_name": "Python 2",
   "language": "python",
   "name": "python2"
  },
  "language_info": {
   "codemirror_mode": {
    "name": "ipython",
    "version": 2
   },
   "file_extension": ".py",
   "mimetype": "text/x-python",
   "name": "python",
   "nbconvert_exporter": "python",
   "pygments_lexer": "ipython2",
   "version": "2.7.13"
  }
 },
 "nbformat": 4,
 "nbformat_minor": 2
}
