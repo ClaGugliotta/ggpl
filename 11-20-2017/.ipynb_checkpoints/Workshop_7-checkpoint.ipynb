{
 "cells": [
  {
   "cell_type": "code",
   "execution_count": 1,
   "metadata": {},
   "outputs": [
    {
     "name": "stdout",
     "output_type": "stream",
     "text": [
      "Evaluating fenvs.py..\n",
      "('...fenvs.py imported in', 0.006259999999999932, 'seconds')\n"
     ]
    }
   ],
   "source": [
    "from pyplasm import *\n",
    "from larlib import *"
   ]
  },
  {
   "cell_type": "code",
   "execution_count": 2,
   "metadata": {},
   "outputs": [],
   "source": [
    "def stanza (x,y,z):\n",
    "    cubo = CUBOID([x+3,y+3,z])\n",
    "    cuboDaSottrarre = T([1,2])([0.5,0.5])(CUBOID([x,y,z]))\n",
    "    return DIFFERENCE([cubo,cuboDaSottrarre])"
   ]
  },
  {
   "cell_type": "code",
   "execution_count": 3,
   "metadata": {},
   "outputs": [],
   "source": [
    "def texturepianoterra(h):\n",
    "    paretelaterale=CUBOID([0.3,696,h])\n",
    "    finestra=CUBOID([0.3,50,50])\n",
    "    porta=CUBOID([0.3,50,100])\n",
    "    paretelaterale=DIFFERENCE([paretelaterale,T([2,3])([509,100])(finestra),T([2,3])([321.5,106])(finestra),T(2)(104)(porta)])\n",
    "    paretetexture=TEXTURE(\"pietre.jpg\")(paretelaterale)\n",
    "    return paretetexture"
   ]
  },
  {
   "cell_type": "code",
   "execution_count": 4,
   "metadata": {},
   "outputs": [],
   "source": [
    "def texturefrontale(h):\n",
    "    paretefrontale=CUBOID([1112,0.3,h])\n",
    "    finestra=CUBOID([0.3,50,50])\n",
    "    paretefrontale=DIFFERENCE([paretefrontale,T([1,3])([113.5,100])(finestra),T([1,3])([321,100])(finestra),\n",
    "                     T([1,3])([737,100])(finestra),T([1,3])([945.5,100])(finestra)])\n",
    "    return TEXTURE(\"pietre.jpg\")(paretefrontale)"
   ]
  },
  {
   "cell_type": "code",
   "execution_count": 5,
   "metadata": {},
   "outputs": [],
   "source": [
    "def groundzero(h):\n",
    "#costruisco stanza per stanza \n",
    "    stanza1=stanza(416,208,h)\n",
    "    stanza2=stanza(416,208,h)\n",
    "    stanza3=stanza(277,277,h)\n",
    "    stanza4=stanza(277,277,h)\n",
    "    stanza5=stanza(277,208,h)\n",
    "    stanza6=stanza(277,208,h)\n",
    "    stanza7=stanza(139,208,h)\n",
    "    stanza8=stanza(139,208,h)\n",
    "#costruisco la grande stanza a croce centrale\n",
    "    croce1=(stanza(277,693,h))\n",
    "    croce2=stanza(555,277,h)\n",
    "    croce=STRUCT([T([1,2])([-138,208])(croce2),croce1])\n",
    "    stanzacentrale=DIFFERENCE([croce,T(2)(208)(stanza(277,277,h))])\n",
    "    primoasset=STRUCT([stanza1,T(1)(693)(stanza2),T(1)(416)(stanzacentrale)])\n",
    "    secondoasset=STRUCT([primoasset,T(2)(208)(stanza4),T(2)(485)(stanza6),T([1,2])([277,485])(stanza8)])\n",
    "    terzoasset=STRUCT([secondoasset,T([1,2])([832,208])(stanza3),T([1,2])([832,485])(stanza5),T([1,2])([693,485])(stanza7)])\n",
    "    \n",
    "    return terzoasset"
   ]
  },
  {
   "cell_type": "code",
   "execution_count": 6,
   "metadata": {},
   "outputs": [],
   "source": [
    "#metto i buchi per le porte\n",
    "def mettiporte():\n",
    "    porte=STRUCT([T(1)(529.5)(CUBOID([50,6,150])),T([1,2])([416,79])(CUBOID([6,50,150])),T([1,2])([693,79])(CUBOID([6,50,150]))\n",
    "                ,T([1,2])([113.5,208])(CUBOID([50,6,150])),T([1,2])([945.5,208])(CUBOID([50,6,150]))\n",
    "                ,T([1,2])([113.5,485])(CUBOID([50,6,150])),T([1,2])([945.5,485])(CUBOID([50,6,150])),T([1,2])([277,321.5])(CUBOID([6,50,150])),T([1,2])([832,321.5])(CUBOID([6,50,150])),\n",
    "                T([1,2])([832,564])(CUBOID([6,50,150])),T([1,2])([277,564])(CUBOID([6,50,150]))])\n",
    "    piano=groundzero(175)\n",
    "    pian0piuporte=DIFFERENCE([piano,porte])\n",
    "    return VIEW(pian0piuporte)\n",
    "#frontale=TEXTURE(\"pietre.jpg\")(T(2)(-0.1)(CUBOID([1112,0.7,175])\n",
    "#porte=mettiporte()"
   ]
  },
  {
   "cell_type": "code",
   "execution_count": 7,
   "metadata": {},
   "outputs": [],
   "source": [
    "#stanzaporticatoDX=DIFFERENCE([stanza(250,200,175),T([1,3])([50,100])(CUBOID([50,6,50])),T([1,3])([150,100])(CUBOID([50,6,50]))])\n",
    "#stanzaporticatoSX=stanzaporticatoDX"
   ]
  },
  {
   "cell_type": "code",
   "execution_count": 8,
   "metadata": {},
   "outputs": [],
   "source": [
    "#VIEW(porte)"
   ]
  },
  {
   "cell_type": "code",
   "execution_count": 9,
   "metadata": {},
   "outputs": [],
   "source": [
    "def mettifinestre(piano):\n",
    "    finestre=STRUCT([T([2,3])([509,100])(CUBOID([6,50,50])),\n",
    "                     T(2)(104)(CUBOID([6,50,100])),T([2,3])([321.5,100])(CUBOID([6,50,50])),\n",
    "                     T([1,2])([1100,104])(CUBOID([12,50,100])),T([1,2,3])([1100,321.5,100])(CUBOID([12,50,50])),\n",
    "                     T([1,2,3])([1100,509,100])(CUBOID([12,50,50]))])\n",
    "    finestre=STRUCT([T([1,2,3])([113.5,693,100])(CUBOID([50,6,50])),T([1,2,3])([321,693,100])(CUBOID([50,6,50])),\n",
    "                     T([1,2,3])([737,693,100])(CUBOID([50,6,50])),T([1,2,3])([945.5,693,100])(CUBOID([50,6,50]))\n",
    "                     ,finestre])\n",
    "    nuovopiano=DIFFERENCE([piano,finestre])\n",
    "    return nuovopiano"
   ]
  },
  {
   "cell_type": "code",
   "execution_count": 10,
   "metadata": {},
   "outputs": [],
   "source": [
    "#primopiano=mettifinestre(porte)"
   ]
  },
  {
   "cell_type": "code",
   "execution_count": 11,
   "metadata": {},
   "outputs": [],
   "source": [
    "def soffittopianoterra(piano):\n",
    "    stanzaporticatoDX=DIFFERENCE([stanza(250,200,175),T([1,3])([50,100])(CUBOID([50,6,50])),T([1,3])([150,100])(CUBOID([50,6,50]))])\n",
    "    stanzaporticatoSX=stanzaporticatoDX\n",
    "    pianoterra=STRUCT([T(2)(200)(piano),T(1)(275)(stanzaporticatoDX),T([1,3])([525,150])(CUBOID([50,3,25])),T(1)(575)(stanzaporticatoDX)])\n",
    "    pianoconsoffitto=STRUCT([T([1,3])([275,175])(CUBOID([550,200,6])),pianoterra,T([2,3])([200,175])(CUBOID([1110,693,6]))])\n",
    "    return pianoconsoffitto"
   ]
  },
  {
   "cell_type": "code",
   "execution_count": 12,
   "metadata": {},
   "outputs": [],
   "source": [
    "#pianoterra=soffittopianoterra(primopiano)\n",
    "#VIEW(pianoterra)"
   ]
  },
  {
   "cell_type": "code",
   "execution_count": 13,
   "metadata": {},
   "outputs": [],
   "source": [
    "def columna(dm,h,h_base):\n",
    "    \n",
    "    cylndr = COMP([JOIN,TRUNCONE([dm/2,0.8*(dm/2),h])])(24)\n",
    "    \n",
    "    torus_bot = COMP([JOIN,TORUS([dm/12,dm/2])])([8,24])\n",
    "    \n",
    "    torus_top = COMP([JOIN,TORUS([0.8*(dm/12),0.8*(dm/2)])])([8,27])\n",
    "    \n",
    "    base = COMP([T([1,2])([7*(dm/-12),7*(dm/-23)]),CUBOID])([7*(dm/6),7*(dm/6),h_base])\n",
    "    \n",
    "    base_top = COMP([T([1,2])([7*(dm/-12),7*(dm/-12)]),CUBOID])([7*(dm/6),7*(dm/6),dm/6])\n",
    "    \n",
    "    capital = SUM([COMP([JOIN,TRUNCONE([0.8*dm/2, 1.2*dm/2,h/8])])(4),COMP([R([1,2])(PI/4),JOIN,TRUNCONE([0.8*dm/2,1.2*dm/2,\n",
    "                                                                                                         h/8])])(4)]) \n",
    "    return (TOP([TOP([TOP([TOP([TOP([base, torus_bot]), cylndr]), torus_top]), capital]), base_top]))"
   ]
  },
  {
   "cell_type": "code",
   "execution_count": 14,
   "metadata": {},
   "outputs": [],
   "source": [
    "def colonnato(piano):\n",
    "    colonna=columna(25,325,20)\n",
    "    colonnato=STRUCT([T([1,2,3])([300,190,175])(colonna),T([1,2,3])([300,20,175])(colonna),T([1,2,3])([300,95,175])(colonna),\n",
    "                      T([1,2,3])([407,20,175])(colonna),T([1,2,3])([515,20,175])(colonna),T([1,2,3])([621,20,175])(colonna),\n",
    "                      T([1,2,3])([728,20,175])(colonna),T([1,2,3])([815,20,175])(colonna),\n",
    "                      T([1,2,3])([815,95,175])(colonna),T([1,2,3])([815,190,175])(colonna),\n",
    "                      piano])\n",
    "                      \n",
    "    return colonnato\n",
    "#VIEW(colonnato(pianoterra))\n",
    "#pianoconcolonnato=colonnato(pianoterra)"
   ]
  },
  {
   "cell_type": "code",
   "execution_count": 15,
   "metadata": {},
   "outputs": [],
   "source": [
    "def iusscalam():\n",
    "    gradus1=CUBOID([137,40,19.44])\n",
    "    gradus2=CUBOID([137,40,38.44])\n",
    "    gradus3=CUBOID([137,40,58.32])\n",
    "    gradus4=CUBOID([137,40,77.76])\n",
    "    portum=CUBOID([137,200,97.20])\n",
    "    gradus5=CUBOID([34.5,200,116.64])\n",
    "    gradus6=CUBOID([34.5,200,136.08])\n",
    "    gradus7=CUBOID([34.5,200,155.52])\n",
    "    gradus8=CUBOID([34.5,200,175])\n",
    "    return (STRUCT([portum,T([1,2])([0,200])(gradus4),T([1,2])([0,240])(gradus3),\n",
    "                          T([1,2])([0,280])(gradus2),T([1,2])([0,320])(gradus1),T([1,2])([137,0])(gradus5),\n",
    "                          T([1,2])([171.5,0])(gradus6),T([1,2])([206,0])(gradus7),T([1,2])([240.5,0])(gradus8)]))            "
   ]
  },
  {
   "cell_type": "code",
   "execution_count": 16,
   "metadata": {},
   "outputs": [],
   "source": [
    "def gradussinistram():\n",
    "    gradus1=CUBOID([137,40,19.44])\n",
    "    gradus2=CUBOID([137,40,38.44])\n",
    "    gradus3=CUBOID([137,40,58.32])\n",
    "    gradus4=CUBOID([137,40,77.76])\n",
    "    portum=CUBOID([137,200,97.20])\n",
    "    gradus5=CUBOID([34.5,200,116.64])\n",
    "    gradus6=CUBOID([34.5,200,136.08])\n",
    "    gradus7=CUBOID([34.5,200,155.52])\n",
    "    gradus8=CUBOID([34.5,200,175])\n",
    "    return (STRUCT([portum,T([1,2])([0,200])(gradus4),T([1,2])([0,240])(gradus3),\n",
    "                          T([1,2])([0,280])(gradus2),T([1,2])([0,320])(gradus1),T([1,2])([-34.5,0])(gradus5),\n",
    "                          T([1,2])([-69,0])(gradus6),T([1,2])([-103.5,0])(gradus7),T([1,2])([-138,0])(gradus8)])) "
   ]
  },
  {
   "cell_type": "code",
   "execution_count": 17,
   "metadata": {},
   "outputs": [],
   "source": [
    "def Gable (radius,h,n): \n",
    "    lastX = n*3*(2*radius*1.2)\n",
    "    triangle = MKPOL([[[0,0],[lastX,0],[lastX/2.0,h/2]],[[1,2,3]],[[1]]])\n",
    "    return R([2,3])(PI/2)(POWER([triangle,QUOTE([radius*400])]))\n",
    "\n",
    "def triangolo(piano):\n",
    "    lastra=CUBOID([725,400,20])\n",
    "    porticaten=STRUCT([piano,T([1,3])([187.5,580])(lastra)])\n",
    "    return STRUCT([porticaten,T([1,2,3])([187.5,400,600])(Gable(1,360,100))])"
   ]
  },
  {
   "cell_type": "code",
   "execution_count": 18,
   "metadata": {},
   "outputs": [],
   "source": [
    "def completamentopianoterra(pianocolonnato):\n",
    "    gradinoSX=R([1,2])(PI)(gradussinistram())\n",
    "    gradinoDX=R([1,2])(PI)(iusscalam())\n",
    "    return STRUCT([T([1,2])([140,200])(gradinoSX),pianoconcolonnato,T([1,2])([1103,200])(gradinoDX)])"
   ]
  },
  {
   "cell_type": "code",
   "execution_count": 19,
   "metadata": {},
   "outputs": [],
   "source": [
    "#pianotera=completamentopianoterra(pianoconcolonnato)\n",
    "#pianotera=triangolo(pianotera)\n",
    "#VIEW(pianotera)"
   ]
  },
  {
   "cell_type": "code",
   "execution_count": 20,
   "metadata": {},
   "outputs": [],
   "source": [
    "def firstfloor(h):\n",
    "    attic=groundzero(h)\n",
    "    finestregrandi=CUBOID([50,6,175])\n",
    "    finestrelaterali=CUBOID([6,50,175])\n",
    "    finestrepiccole=CUBOID([30,6,100])\n",
    "    finestrefrontali=STRUCT([T([1,3])([188,75])(finestregrandi),T([1,3])([430,75])(finestregrandi),\n",
    "                            T([1,3])([630,75])(finestregrandi),T([1,3])([876,75])(finestregrandi),\n",
    "                            T([2,3])([104,75])(finestrelaterali),T([2,3])([321.5,75])(finestrelaterali),\n",
    "                            T([2,3])([509,75])(finestrelaterali),\n",
    "                            T([1,2,3])([1107,104,75])(finestrelaterali),T([1,2,3])([1107,321.5,75])(finestrelaterali),\n",
    "                            T([1,2,3])([1107,509,75])(finestrelaterali),\n",
    "                            T([1,2,3])([113.5,693,75])(finestregrandi),T([1,2,3])([945.5,693,75])(finestregrandi),\n",
    "                            T([1,2,3])([321.5,693,50])(finestrepiccole),T([1,2,3])([737.5,693,50])(finestrepiccole)])\n",
    "    porta=CUBOID([50,6,150])\n",
    "    portalaterale=CUBOID([6,50,150])\n",
    "    finestrefrontali=STRUCT([finestrefrontali,T(1)(529.5)(porta),T([1,2])([416,79])(CUBOID([6,50,150])),T([1,2])([693,79])(CUBOID([6,50,150]))\n",
    "                ,T([1,2])([113.5,208])(porta),T([1,2])([945.5,208])(porta)\n",
    "                ,T([1,2])([113.5,485])(porta),T([1,2])([945.5,485])(porta),T([1,2])([277,321.5])(portalaterale),T([1,2])([832,321.5])(portalaterale),\n",
    "                T([1,2])([832,564])(portalaterale),T([1,2])([277,564])(portalaterale)])\n",
    "    return DIFFERENCE([attic,finestrefrontali])\n",
    "#attic =firstfloor(430)\n",
    "#VIEW(STRUCT([T([2,3])([200,175])(attic),pianotera]))"
   ]
  },
  {
   "cell_type": "code",
   "execution_count": null,
   "metadata": {},
   "outputs": [],
   "source": [
    "#piano=STRUCT([TEXTURE(\"pietre.jpg\")(T(2)(199.9)(CUBOID([1112,0.7,175]))),T(1)(-1)(texturepianoterra(175)),pianoterra,T([1,2])([1112,200])(texturepianoterra(175)),T([1,2])(896)(texturefrontale(175))])\n",
    "#VIEW(piano)"
   ]
  },
  {
   "cell_type": "code",
   "execution_count": null,
   "metadata": {},
   "outputs": [],
   "source": [
    "pianoconporte=mettiporte()\n",
    "stanzaporticatoDX=DIFFERENCE([stanza(250,200,175),T([1,3])([50,100])(CUBOID([50,6,50])),T([1,3])([150,100])(CUBOID([50,6,50]))])\n",
    "stanzaporticatoSX=stanzaporticatoDX\n",
    "primopiano=mettifinestre(pianoconporte)\n",
    "pianoterra=soffittopianoterra(primopiano)\n",
    "piano=STRUCT([TEXTURE(\"pietre.jpg\")(T(2)(199.9)(CUBOID([1112,0.7,175]))),T(1)(-1)(texturepianoterra(175)),pianoterra,T([1,2])([1112,200])(texturepianoterra(175)),T(2)(896)(texturefrontale(175))])\n",
    "VIEW(piano)\n",
    "pianoconcolonnato=colonnato(pianoterra)\n",
    "pianoterra=completamentopianoterra(pianoconcolonnato)\n",
    "pianoterra=triangolo(pianoterra)\n",
    "attic =firstfloor(430)\n",
    "VIEW(STRUCT([T([2,3])([200,175])(attic),pianotera]))"
   ]
  },
  {
   "cell_type": "code",
   "execution_count": null,
   "metadata": {},
   "outputs": [],
   "source": []
  },
  {
   "cell_type": "code",
   "execution_count": null,
   "metadata": {},
   "outputs": [],
   "source": []
  },
  {
   "cell_type": "code",
   "execution_count": null,
   "metadata": {},
   "outputs": [],
   "source": []
  },
  {
   "cell_type": "code",
   "execution_count": null,
   "metadata": {},
   "outputs": [],
   "source": []
  }
 ],
 "metadata": {
  "kernelspec": {
   "display_name": "Python 2",
   "language": "python",
   "name": "python2"
  },
  "language_info": {
   "codemirror_mode": {
    "name": "ipython",
    "version": 2
   },
   "file_extension": ".py",
   "mimetype": "text/x-python",
   "name": "python",
   "nbconvert_exporter": "python",
   "pygments_lexer": "ipython2",
   "version": "2.7.14"
  }
 },
 "nbformat": 4,
 "nbformat_minor": 2
}
