{
 "cells": [
  {
   "cell_type": "code",
   "execution_count": 1,
   "metadata": {},
   "outputs": [
    {
     "name": "stdout",
     "output_type": "stream",
     "text": [
      "Evaluating fenvs.py..\n",
      "('...fenvs.py imported in', 0.007287999999999961, 'seconds')\n"
     ]
    }
   ],
   "source": [
    "from pyplasm import *\n",
    "from larlib import *\n"
   ]
  },
  {
   "cell_type": "code",
   "execution_count": 51,
   "metadata": {},
   "outputs": [
    {
     "data": {
      "text/plain": [
       "<pyplasm.xgepy.Hpc; proxy of <Swig Object of type 'std::shared_ptr< Hpc > *' at 0x1813abbab0> >"
      ]
     },
     "execution_count": 51,
     "metadata": {},
     "output_type": "execute_result"
    }
   ],
   "source": [
    "def columna(dm,h,h_base):\n",
    "    \n",
    "    cylndr = COMP([JOIN,TRUNCONE([dm/2,0.8*(dm/2),h])])(24)\n",
    "    \n",
    "    torus_bot = COMP([JOIN,TORUS([dm/12,dm/2])])([8,24])\n",
    "    \n",
    "    torus_top = COMP([JOIN,TORUS([0.8*(dm/12),0.8*(dm/2)])])([8,27])\n",
    "    \n",
    "    base = COMP([T([1,2])([7*(dm/-12),7*(dm/-23)]),CUBOID])([7*(dm/6),7*(dm/6),h_base])\n",
    "    \n",
    "    base_top = COMP([T([1,2])([7*(dm/-12),7*(dm/-12)]),CUBOID])([7*(dm/6),7*(dm/6),dm/6])\n",
    "    \n",
    "    capital = SUM([COMP([JOIN,TRUNCONE([0.8*dm/2, 1.2*dm/2,h/8])])(4),COMP([R([1,2])(PI/4),JOIN,TRUNCONE([0.8*dm/2,1.2*dm/2,\n",
    "                                                                                                         h/8])])(4)]) \n",
    "    return (TOP([TOP([TOP([TOP([TOP([base, torus_bot]), cylndr]), torus_top]), capital]), base_top]))\n",
    "\n",
    "def porticumdecorato():\n",
    "    porticum=CUBOID([550,400,175])\n",
    "    portam=COLOR([0.58,0.29,0.0])(CUBOID([50,5,150]))\n",
    "    finestram=COLOR([0.67,0.80,0.93])(CUBOID([50,5,50]))\n",
    "    return (STRUCT([T([1,2])([250,400])(portam),porticum,T([1,2,3])([50,400,100])(finestram),T([1,2,3])([150,400,100])(finestram),\n",
    "                   T([1,2,3])([350,400,100])(finestram),T([1,2,3])([450,400,100])(finestram)]))\n",
    "VIEW(porticumdecorato())"
   ]
  },
  {
   "cell_type": "code",
   "execution_count": null,
   "metadata": {},
   "outputs": [],
   "source": [
    "def porticumcolumnarum():\n",
    "    \n",
    "    basePortico = porticumdecorato()\n",
    "    \n",
    "    return (STRUCT([T([1,2,3])([240,880,175])(columna(25,385,20)),T([1,2,3])([240,1050,175])(columna(25,385,20)),\n",
    "                    T([1,2,3])([240,1235,175])(columna(25,385,20)),\n",
    "                    T([1,2,3])([344,1235,175])(columna(25,385,20)), \n",
    "                    T([1,2,3])([448,1235,175])(columna(25,385,20)),\n",
    "                    T([1,2,3])([552,1235,175])(columna(25,385,20)),\n",
    "                    T([1,2,3])([656,1235,175])(columna(25,385,20)),\n",
    "                    T([1,2,3])([750,1235,175])(columna(25,385,20)),\n",
    "                    T([1,2,3])([750,880,175])(columna(25,385,20)),T([1,2,3])([750,1050,175])(columna(25,385,20)),\n",
    "                    T([1,2])([211,860])(basePortico)]))    "
   ]
  },
  {
   "cell_type": "code",
   "execution_count": null,
   "metadata": {},
   "outputs": [
    {
     "name": "stdout",
     "output_type": "stream",
     "text": [
      "('Child', 3)\n",
      "('Child', 3)\n",
      "('Child', 3)\n",
      "('Child', 3)\n",
      "('Child', 3)\n",
      "('Child', 3)\n",
      "('Child', 3)\n",
      "('Child', 3)\n",
      "('Child', 3)\n",
      "('Child', 3)\n",
      "('Child', 3)\n",
      "('Child', 3)\n",
      "('Child', 3)\n",
      "('Child', 3)\n",
      "('Child', 3)\n",
      "('Child', 3)\n",
      "('Child', 3)\n",
      "('Child', 3)\n",
      "('Child', 3)\n",
      "('Child', 3)\n"
     ]
    }
   ],
   "source": [
    "VIEW(porticumcolumnarum())"
   ]
  },
  {
   "cell_type": "code",
   "execution_count": 47,
   "metadata": {},
   "outputs": [],
   "source": [
    "def iusscalam():\n",
    "    gradus1=CUBOID([137,40,19.44])\n",
    "    gradus2=CUBOID([137,40,38.44])\n",
    "    gradus3=CUBOID([137,40,58.32])\n",
    "    gradus4=CUBOID([137,40,77.76])\n",
    "    portum=CUBOID([137,200,97.20])\n",
    "    gradus5=CUBOID([34.5,200,116.64])\n",
    "    gradus6=CUBOID([34.5,200,136.08])\n",
    "    gradus7=CUBOID([34.5,200,155.52])\n",
    "    gradus8=CUBOID([34.5,200,175])\n",
    "    return (STRUCT([portum,T([1,2])([0,200])(gradus4),T([1,2])([0,240])(gradus3),\n",
    "                          T([1,2])([0,280])(gradus2),T([1,2])([0,320])(gradus1),T([1,2])([137,0])(gradus5),\n",
    "                          T([1,2])([171.5,0])(gradus6),T([1,2])([206,0])(gradus7),T([1,2])([240.5,0])(gradus8)]))            "
   ]
  },
  {
   "cell_type": "code",
   "execution_count": 48,
   "metadata": {},
   "outputs": [
    {
     "data": {
      "text/plain": [
       "<pyplasm.xgepy.Hpc; proxy of <Swig Object of type 'std::shared_ptr< Hpc > *' at 0x1813abb810> >"
      ]
     },
     "execution_count": 48,
     "metadata": {},
     "output_type": "execute_result"
    }
   ],
   "source": [
    "VIEW(iusscalam())"
   ]
  },
  {
   "cell_type": "code",
   "execution_count": 41,
   "metadata": {},
   "outputs": [],
   "source": [
    "def gradussinistram():\n",
    "    gradus1=CUBOID([137,40,19.44])\n",
    "    gradus2=CUBOID([137,40,38.44])\n",
    "    gradus3=CUBOID([137,40,58.32])\n",
    "    gradus4=CUBOID([137,40,77.76])\n",
    "    portum=CUBOID([137,200,97.20])\n",
    "    gradus5=CUBOID([34.5,200,116.64])\n",
    "    gradus6=CUBOID([34.5,200,136.08])\n",
    "    gradus7=CUBOID([34.5,200,155.52])\n",
    "    gradus8=CUBOID([34.5,200,175])\n",
    "    return (STRUCT([portum,T([1,2])([0,200])(gradus4),T([1,2])([0,240])(gradus3),\n",
    "                          T([1,2])([0,280])(gradus2),T([1,2])([0,320])(gradus1),T([1,2])([-34.5,0])(gradus5),\n",
    "                          T([1,2])([-69,0])(gradus6),T([1,2])([-103.5,0])(gradus7),T([1,2])([-138,0])(gradus8)])) "
   ]
  },
  {
   "cell_type": "code",
   "execution_count": 106,
   "metadata": {},
   "outputs": [
    {
     "data": {
      "text/plain": [
       "<pyplasm.xgepy.Hpc; proxy of <Swig Object of type 'std::shared_ptr< Hpc > *' at 0x181966f030> >"
      ]
     },
     "execution_count": 106,
     "metadata": {},
     "output_type": "execute_result"
    }
   ],
   "source": [
    "VIEW(gradussinistram())"
   ]
  },
  {
   "cell_type": "code",
   "execution_count": 10,
   "metadata": {},
   "outputs": [
    {
     "name": "stdout",
     "output_type": "stream",
     "text": [
      "('Child', 3)\n",
      "('Child', 3)\n",
      "('Child', 3)\n",
      "('Child', 3)\n",
      "('Child', 3)\n",
      "('Child', 3)\n",
      "('Child', 3)\n",
      "('Child', 3)\n",
      "('Child', 3)\n",
      "('Child', 3)\n",
      "('Child', 3)\n",
      "('Child', 3)\n",
      "('Child', 3)\n",
      "('Child', 3)\n",
      "('Child', 3)\n",
      "('Child', 3)\n",
      "('Child', 3)\n",
      "('Child', 3)\n",
      "('Child', 3)\n",
      "('Child', 3)\n"
     ]
    },
    {
     "data": {
      "text/plain": [
       "<pyplasm.xgepy.Hpc; proxy of <Swig Object of type 'std::shared_ptr< Hpc > *' at 0x1816f20240> >"
      ]
     },
     "execution_count": 10,
     "metadata": {},
     "output_type": "execute_result"
    }
   ],
   "source": [
    "VIEW(STRUCT([T([1,2])([899,860])\n",
    "             (gradussinistram()),porticumcolumnarum(),T([1,2])([-64,860])(iusscalam())]))"
   ]
  },
  {
   "cell_type": "code",
   "execution_count": 42,
   "metadata": {},
   "outputs": [
    {
     "name": "stdout",
     "output_type": "stream",
     "text": [
      "('Child', 3)\n",
      "('Child', 3)\n",
      "('Child', 3)\n",
      "('Child', 3)\n",
      "('Child', 3)\n",
      "('Child', 3)\n",
      "('Child', 3)\n",
      "('Child', 3)\n",
      "('Child', 3)\n",
      "('Child', 3)\n",
      "('Child', 3)\n",
      "('Child', 3)\n",
      "('Child', 3)\n",
      "('Child', 3)\n",
      "('Child', 3)\n",
      "('Child', 3)\n",
      "('Child', 3)\n",
      "('Child', 3)\n",
      "('Child', 3)\n",
      "('Child', 3)\n"
     ]
    }
   ],
   "source": [
    "porticato=STRUCT([T([1,2])([899,860])\n",
    "             (gradussinistram()),porticumcolumnarum(),T([1,2])([-64,860])(iusscalam())])"
   ]
  },
  {
   "cell_type": "code",
   "execution_count": null,
   "metadata": {},
   "outputs": [],
   "source": []
  },
  {
   "cell_type": "code",
   "execution_count": 43,
   "metadata": {},
   "outputs": [],
   "source": [
    "def Gable (radius,h,n): \n",
    "    lastX = n*3*(2*radius*1.2)\n",
    "    triangle = MKPOL([[[0,0],[lastX,0],[lastX/2.0,h/2]],[[1,2,3]],[[1]]])\n",
    "    return R([2,3])(PI/2)(POWER([triangle,QUOTE([radius*400])]))\n",
    "\n",
    "lastra=CUBOID([725,400,20])\n",
    "porticaten=TOP([porticato,lastra])"
   ]
  },
  {
   "cell_type": "code",
   "execution_count": 135,
   "metadata": {},
   "outputs": [
    {
     "data": {
      "text/plain": [
       "<pyplasm.xgepy.Hpc; proxy of <Swig Object of type 'std::shared_ptr< Hpc > *' at 0x1819661c60> >"
      ]
     },
     "execution_count": 135,
     "metadata": {},
     "output_type": "execute_result"
    }
   ],
   "source": [
    "VIEW(TOP([porticaten,Gable(1,360,100)]))"
   ]
  },
  {
   "cell_type": "code",
   "execution_count": 44,
   "metadata": {},
   "outputs": [],
   "source": [
    "def retrum():\n",
    "    retro=CUBOID([550,10,700])\n",
    "    portam=COLOR([0.58,0.29,0.0])(CUBOID([50,5,150]))\n",
    "    finestram=COLOR([0.67,0.80,0.93])(CUBOID([50,5,50]))\n",
    "    finestramGrandis=COLOR([0.67,0.80,0.93])(CUBOID([50,5,100]))\n",
    "    finestramMidiam=COLOR([0.67,0.80,0.93])(CUBOID([50,5,75]))\n",
    "    return (STRUCT([T([1])([250])(portam),\n",
    "                    retro,\n",
    "                    T([1,2,3])([50,0,100])(finestram),T([1,2,3])([150,0,100])(finestram),\n",
    "                   T([1,2,3])([350,0,100])(finestram),T([1,2,3])([450,0,100])(finestram),\n",
    "                    T([1,2,3])([50,0,190])(finestramMidiam),\n",
    "                   T([1,2,3])([150,0,190])(finestramGrandis),T([1,2,3])([250,0,190])(finestramGrandis),\n",
    "                    T([1,2,3])([350,0,190])(finestramGrandis),T([1,2,3])([450,0,190])(finestramMidiam)]))"
   ]
  },
  {
   "cell_type": "code",
   "execution_count": 45,
   "metadata": {},
   "outputs": [],
   "source": [
    "def retrumsup():\n",
    "        finestram=COLOR([0.67,0.80,0.93])(CUBOID([50,5,50]))\n",
    "        retro=retrum()\n",
    "\n",
    "        return (STRUCT([T([1,2,3])([50,0,400])(finestram),T([1,2,3])([450,0,400])(finestram),retro]))"
   ]
  },
  {
   "cell_type": "code",
   "execution_count": 4,
   "metadata": {},
   "outputs": [
    {
     "data": {
      "text/plain": [
       "<pyplasm.xgepy.Hpc; proxy of <Swig Object of type 'std::shared_ptr< Hpc > *' at 0x18139c9e40> >"
      ]
     },
     "execution_count": 4,
     "metadata": {},
     "output_type": "execute_result"
    }
   ],
   "source": [
    "VIEW(retrumsup())"
   ]
  },
  {
   "cell_type": "code",
   "execution_count": 46,
   "metadata": {},
   "outputs": [
    {
     "data": {
      "text/plain": [
       "<pyplasm.xgepy.Hpc; proxy of <Swig Object of type 'std::shared_ptr< Hpc > *' at 0x1813abb3c0> >"
      ]
     },
     "execution_count": 46,
     "metadata": {},
     "output_type": "execute_result"
    }
   ],
   "source": [
    "VIEW(STRUCT([T([1,2])([-64,110])(CUBOID([1100,693,175])),porticato]))"
   ]
  },
  {
   "cell_type": "code",
   "execution_count": null,
   "metadata": {},
   "outputs": [],
   "source": []
  }
 ],
 "metadata": {
  "kernelspec": {
   "display_name": "Python 2",
   "language": "python",
   "name": "python2"
  },
  "language_info": {
   "codemirror_mode": {
    "name": "ipython",
    "version": 2
   },
   "file_extension": ".py",
   "mimetype": "text/x-python",
   "name": "python",
   "nbconvert_exporter": "python",
   "pygments_lexer": "ipython2",
   "version": "2.7.14"
  }
 },
 "nbformat": 4,
 "nbformat_minor": 2
}
