{
 "cells": [
  {
   "cell_type": "markdown",
   "metadata": {},
   "source": [
    "Villa Foscari\n",
    "======="
   ]
  },
  {
   "cell_type": "markdown",
   "metadata": {},
   "source": [
    "![villa%20foscari%202.jpg](attachment:villa%20foscari%202.jpg)"
   ]
  },
  {
   "cell_type": "markdown",
   "metadata": {},
   "source": [
    "![villa%20foscari.jpg](attachment:villa%20foscari.jpg)"
   ]
  },
  {
   "cell_type": "markdown",
   "metadata": {},
   "source": [
    "![Schermata%202017-11-20%20alle%2014.55.53.png](attachment:Schermata%202017-11-20%20alle%2014.55.53.png)"
   ]
  },
  {
   "cell_type": "markdown",
   "metadata": {},
   "source": [
    "![Schermata%202017-11-20%20alle%2014.56.14.png](attachment:Schermata%202017-11-20%20alle%2014.56.14.png)"
   ]
  },
  {
   "cell_type": "code",
   "execution_count": 1,
   "metadata": {},
   "outputs": [
    {
     "name": "stdout",
     "output_type": "stream",
     "text": [
      "Evaluating fenvs.py..\n",
      "...fenvs.py imported in 0.006117 seconds\n",
      "[[780.0, 420.0], [870.0, 420.0], [750.0, 420.0], [650.0, 420.0], [610.0, 420.0], [520.0, 420.0], [870.0, 480.0], [520.0, 480.0], [870.0, 570.0], [520.0, 570.0], [870.0, 660.0], [520.0, 660.0], [870.0, 730.0], [520.0, 730.0], [840.0, 730.0], [550.0, 730.0], [840.0, 700.0], [550.0, 700.0], [780.0, 700.0], [610.0, 700.0], [780.0, 730.0], [610.0, 730.0], [740.0, 660.0], [650.0, 660.0], [740.0, 570.0], [650.0, 570.0], [780.0, 480.0], [610.0, 480.0], [780.0, 570.0], [610.0, 570.0], [750.0, 480.0], [650.0, 480.0], [780.0, 660.0], [610.0, 660.0]]\n",
      "/n\n",
      "[(0, 1), (2, 0), (3, 2), (4, 3), (5, 4), (6, 1), (7, 5), (8, 6), (9, 7), (10, 8), (11, 9), (12, 10), (13, 11), (14, 12), (15, 13), (16, 14), (17, 15), (18, 16), (19, 17), (20, 18), (21, 19), (21, 20), (22, 10), (23, 11), (23, 22), (24, 8), (25, 9), (22, 24), (23, 25), (26, 6), (27, 7), (28, 26), (29, 27), (0, 26), (4, 27), (30, 26), (31, 27), (2, 30), (3, 31), (18, 32), (19, 33), (0, 1), (2, 0), (3, 2), (4, 3), (5, 4), (6, 1), (7, 5), (8, 6), (9, 7), (10, 8), (11, 9), (12, 10), (13, 11), (14, 12), (15, 13), (16, 14), (17, 15), (18, 16), (19, 17), (20, 18), (21, 19), (21, 20), (22, 10), (23, 11), (23, 22), (24, 8), (25, 9), (22, 24), (23, 25), (26, 6), (27, 7), (28, 26), (29, 27), (0, 26), (4, 27), (30, 26), (31, 27), (2, 30), (3, 31), (18, 32), (19, 33), (0, 1), (2, 0), (3, 2), (4, 3), (5, 4), (6, 1), (7, 5), (8, 6), (9, 7), (10, 8), (11, 9), (12, 10), (13, 11), (14, 12), (15, 13), (16, 14), (17, 15), (18, 16), (19, 17), (20, 18), (21, 19), (21, 20), (22, 10), (23, 11), (23, 22), (24, 8), (25, 9), (22, 24), (23, 25), (26, 6), (27, 7), (28, 26), (29, 27), (0, 26), (4, 27), (30, 26), (31, 27), (2, 30), (3, 31), (18, 32), (19, 33), (0, 1), (2, 0), (3, 2), (4, 3), (5, 4), (6, 1), (7, 5), (8, 6), (9, 7), (10, 8), (11, 9), (12, 10), (13, 11), (14, 12), (15, 13), (16, 14), (17, 15), (18, 16), (19, 17), (20, 18), (21, 19), (21, 20), (22, 10), (23, 11), (23, 22), (24, 8), (25, 9), (22, 24), (23, 25), (26, 6), (27, 7), (28, 26), (29, 27), (0, 26), (4, 27), (30, 26), (31, 27), (2, 30), (3, 31), (18, 32), (19, 33)]\n"
     ]
    },
    {
     "data": {
      "text/plain": [
       "<pyplasm.xgepy.Hpc; proxy of <Swig Object of type 'std::shared_ptr< Hpc > *' at 0x1813ce87b0> >"
      ]
     },
     "execution_count": 1,
     "metadata": {},
     "output_type": "execute_result"
    }
   ],
   "source": [
    "from pyplasm import *\n",
    "from larlib import *\n",
    "import math\n",
    "import csv\n",
    "\n",
    "with open(\"piantinagrande.lines\", \"rb\") as file:\n",
    "    reader = csv.reader(file, delimiter=\",\")\n",
    "    keys={}\n",
    "    nodi=[]\n",
    "    archi=[]\n",
    "    i=0\n",
    "    \n",
    "    for row in reader:\n",
    "        row0 = math.floor(float(row[0])/10)*10\n",
    "        row1 = math.floor(float(row[1])/10)*10\n",
    "        row2 = math.floor(float(row[2])/10)*10\n",
    "        row3 = math.floor(float(row[3])/10)*10\n",
    "        \n",
    "        if not (row0, row1) in keys.keys():\n",
    "            keys[(row0, row1)] = i\n",
    "            nodi.append([row0,row1])\n",
    "            i=i+1\n",
    "        if not  (row2, row3) in keys.keys():\n",
    "            keys[(row2, row3)] = i\n",
    "            nodi.append([row2,row3])\n",
    "            i=i+1\n",
    "        archi.append((keys[(row0,row1)],(keys[(row2,row3)])))\n",
    "print nodi\n",
    "print \"/n\" \n",
    "print archi\n",
    "VIEW(STRUCT(MKPOLS((nodi,archi))))"
   ]
  },
  {
   "cell_type": "markdown",
   "metadata": {},
   "source": [
    "![piantina.png](attachment:piantina.png)"
   ]
  },
  {
   "cell_type": "code",
   "execution_count": null,
   "metadata": {
    "collapsed": true
   },
   "outputs": [],
   "source": []
  }
 ],
 "metadata": {
  "kernelspec": {
   "display_name": "Python 2",
   "language": "python",
   "name": "python2"
  },
  "language_info": {
   "codemirror_mode": {
    "name": "ipython",
    "version": 2
   },
   "file_extension": ".py",
   "mimetype": "text/x-python",
   "name": "python",
   "nbconvert_exporter": "python",
   "pygments_lexer": "ipython2",
   "version": "2.7.13"
  }
 },
 "nbformat": 4,
 "nbformat_minor": 2
}
