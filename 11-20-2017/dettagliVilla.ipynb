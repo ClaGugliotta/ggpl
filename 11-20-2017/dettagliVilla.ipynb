{
 "cells": [
  {
   "cell_type": "code",
   "execution_count": 81,
   "metadata": {},
   "outputs": [],
   "source": [
    "from pyplasm import *\n",
    "from larlib import *\n"
   ]
  },
  {
   "cell_type": "code",
   "execution_count": 120,
   "metadata": {},
   "outputs": [],
   "source": [
    "def columna(dm,h,h_base):\n",
    "    \n",
    "    cylndr = COMP([JOIN,TRUNCONE([dm/2,0.8*(dm/2),h])])(24)\n",
    "    \n",
    "    torus_bot = COMP([JOIN,TORUS([dm/12,dm/2])])([8,24])\n",
    "    \n",
    "    torus_top = COMP([JOIN,TORUS([0.8*(dm/12),0.8*(dm/2)])])([8,27])\n",
    "    \n",
    "    base = COMP([T([1,2])([7*(dm/-12),7*(dm/-23)]),CUBOID])([7*(dm/6),7*(dm/6),h_base])\n",
    "    \n",
    "    base_top = COMP([T([1,2])([7*(dm/-12),7*(dm/-12)]),CUBOID])([7*(dm/6),7*(dm/6),dm/6])\n",
    "    \n",
    "    capital = SUM([COMP([JOIN,TRUNCONE([0.8*dm/2, 1.2*dm/2,h/8])])(4),COMP([R([1,2])(PI/4),JOIN,TRUNCONE([0.8*dm/2,1.2*dm/2,\n",
    "                                                                                                         h/8])])(4)]) \n",
    "    return (TOP([TOP([TOP([TOP([TOP([base, torus_bot]), cylndr]), torus_top]), capital]), base_top]))\n",
    "\n",
    "def porticumcolumnarum():\n",
    "    \n",
    "    basePortico = CUBOID([640,280,100])\n",
    "    \n",
    "    return (STRUCT([T([1,2,3])([240,880,100])(columna(25,385,20)), T([1,2,3])([360,880,100])(columna(25,385,20)),\n",
    "                    T([1,2,3])([480,880,100])(columna(25,385,20)), T([1,2,3])([240,1000,100])(columna(25,385,20)),\n",
    "                    T([1,2,3])([240,1120,100])(columna(25,385,20)),\n",
    "                    T([1,2,3])([600,880,100])(columna(25,385,20)),T([1,2,3])([720,880,100])(columna(25,385,20)),\n",
    "                    T([1,2,3])([840,880,100])(columna(25,385,20)),T([1,2,3])([840,1000,100])(columna(25,385,20)),\n",
    "                    T([1,2,3])([840,1120,100])(columna(25,385,20)),\n",
    "                    T([1,2])([211,860])(basePortico)]))"
   ]
  },
  {
   "cell_type": "code",
   "execution_count": 121,
   "metadata": {},
   "outputs": [
    {
     "name": "stdout",
     "output_type": "stream",
     "text": [
      "('Child', 3)\n",
      "('Child', 3)\n",
      "('Child', 3)\n",
      "('Child', 3)\n",
      "('Child', 3)\n",
      "('Child', 3)\n",
      "('Child', 3)\n",
      "('Child', 3)\n",
      "('Child', 3)\n",
      "('Child', 3)\n",
      "('Child', 3)\n",
      "('Child', 3)\n",
      "('Child', 3)\n",
      "('Child', 3)\n",
      "('Child', 3)\n",
      "('Child', 3)\n",
      "('Child', 3)\n",
      "('Child', 3)\n",
      "('Child', 3)\n",
      "('Child', 3)\n"
     ]
    },
    {
     "data": {
      "text/plain": [
       "<pyplasm.xgepy.Hpc; proxy of <Swig Object of type 'std::shared_ptr< Hpc > *' at 0x10860fcf0> >"
      ]
     },
     "execution_count": 121,
     "metadata": {},
     "output_type": "execute_result"
    }
   ],
   "source": [
    "VIEW(porticumcolumnarum())"
   ]
  },
  {
   "cell_type": "code",
   "execution_count": 127,
   "metadata": {},
   "outputs": [],
   "source": [
    "def iusscalam():\n",
    "    gradus1=CUBOID([140,40,10])\n",
    "    gradus2=CUBOID([140,40,20])\n",
    "    gradus3=CUBOID([140,40,30])\n",
    "    gradus4=CUBOID([140,40,40])\n",
    "    portum=CUBOID([140,120,50])\n",
    "    gradus5=CUBOID([40,120,60])\n",
    "    gradus6=CUBOID([40,120,70])\n",
    "    gradus7=CUBOID([40,120,80])\n",
    "    gradus8=CUBOID([40,120,90])\n",
    "    return (STRUCT([portum,T([1,2])([0,120])(gradus4),T([1,2])([0,160])(gradus3),\n",
    "                          T([1,2])([0,200])(gradus2),T([1,2])([0,240])(gradus1),T([1,2])([140,0])(gradus5),\n",
    "                          T([1,2])([180,0])(gradus6),T([1,2])([220,0])(gradus7),T([1,2])([260,0])(gradus8)]))            "
   ]
  },
  {
   "cell_type": "code",
   "execution_count": 128,
   "metadata": {},
   "outputs": [
    {
     "data": {
      "text/plain": [
       "<pyplasm.xgepy.Hpc; proxy of <Swig Object of type 'std::shared_ptr< Hpc > *' at 0x108612840> >"
      ]
     },
     "execution_count": 128,
     "metadata": {},
     "output_type": "execute_result"
    }
   ],
   "source": [
    "VIEW(iusscalam())"
   ]
  },
  {
   "cell_type": "code",
   "execution_count": 129,
   "metadata": {},
   "outputs": [],
   "source": [
    "def gradussinistram():\n",
    "    gradus1=CUBOID([140,40,10])\n",
    "    gradus2=CUBOID([140,40,20])\n",
    "    gradus3=CUBOID([140,40,30])\n",
    "    gradus4=CUBOID([140,40,40])\n",
    "    portum=CUBOID([140,120,50])\n",
    "    gradus5=CUBOID([40,120,60])\n",
    "    gradus6=CUBOID([40,120,70])\n",
    "    gradus7=CUBOID([40,120,80])\n",
    "    gradus8=CUBOID([40,120,90])\n",
    "    return (STRUCT([portum,T([1,2])([0,120])(gradus4),T([1,2])([0,160])(gradus3),\n",
    "                          T([1,2])([0,200])(gradus2),T([1,2])([0,240])(gradus1),T([1,2])([-40,0])(gradus5),\n",
    "                          T([1,2])([-80,0])(gradus6),T([1,2])([-120,0])(gradus7),T([1,2])([-160,0])(gradus8)])) "
   ]
  },
  {
   "cell_type": "code",
   "execution_count": 130,
   "metadata": {},
   "outputs": [
    {
     "data": {
      "text/plain": [
       "<pyplasm.xgepy.Hpc; proxy of <Swig Object of type 'std::shared_ptr< Hpc > *' at 0x108613f90> >"
      ]
     },
     "execution_count": 130,
     "metadata": {},
     "output_type": "execute_result"
    }
   ],
   "source": [
    "VIEW(gradussinistram())"
   ]
  },
  {
   "cell_type": "code",
   "execution_count": null,
   "metadata": {},
   "outputs": [],
   "source": []
  }
 ],
 "metadata": {
  "kernelspec": {
   "display_name": "Python 2",
   "language": "python",
   "name": "python2"
  },
  "language_info": {
   "codemirror_mode": {
    "name": "ipython",
    "version": 2
   },
   "file_extension": ".py",
   "mimetype": "text/x-python",
   "name": "python",
   "nbconvert_exporter": "python",
   "pygments_lexer": "ipython2",
   "version": "2.7.14"
  }
 },
 "nbformat": 4,
 "nbformat_minor": 2
}
