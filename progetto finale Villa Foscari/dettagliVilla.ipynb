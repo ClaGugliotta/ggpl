{
 "cells": [
  {
   "cell_type": "code",
   "execution_count": 3,
   "metadata": {},
   "outputs": [
    {
     "name": "stdout",
     "output_type": "stream",
     "text": [
      "Evaluating fenvs.py..\n",
      "('...fenvs.py imported in', 0.006045999999999996, 'seconds')\n"
     ]
    }
   ],
   "source": [
    "from pyplasm import *\n",
    "from larlib import *\n"
   ]
  },
  {
   "cell_type": "markdown",
   "metadata": {},
   "source": [
    "Foto malcontenta\n"
   ]
  },
  {
   "cell_type": "code",
   "execution_count": 4,
   "metadata": {},
   "outputs": [],
   "source": [
    "def stanza (x,y,z):\n",
    "    cubo = CUBOID([x+3,y+3,z])\n",
    "    cuboDaSottrarre = T([1,2])([1,1])(CUBOID([x+1,y+1,z]))\n",
    "    return DIFFERENCE([cubo,cuboDaSottrarre])\n",
    "#VIEW(stanza(5,5,5))\n"
   ]
  },
  {
   "cell_type": "markdown",
   "metadata": {},
   "source": [
    "Foto stanza(x,y,z)"
   ]
  },
  {
   "cell_type": "code",
   "execution_count": 5,
   "metadata": {},
   "outputs": [],
   "source": [
    "def groundzero(h):\n",
    "#costruisco stanza per stanza \n",
    "    stanza1=stanza(24,12,h)\n",
    "    stanza2=stanza(24,12,h)\n",
    "    stanza3=stanza(16,16,h)\n",
    "    stanza4=stanza(16,16,h)\n",
    "    stanza5=stanza(16,12,h)\n",
    "    stanza6=stanza(16,12,h)\n",
    "    stanza7=stanza(6,13,h)\n",
    "    stanza8=stanza(6,13,h)\n",
    "#costruisco la grande stanza a croce centrale\n",
    "    croce1=(stanza(16,45,h))\n",
    "    croce2=stanza(32,16,h)\n",
    "    croce=STRUCT([T([1,2])([-8,14])(croce2),croce1])\n",
    "    stanzacentrale=DIFFERENCE([croce,T(2)(15)(stanza(16,14,h))])\n",
    "    stanzacentrale=DIFFERENCE([stanzacentrale,T([1,2])([1,14])(stanza(14,16,h))])\n",
    "    primoasset=STRUCT([stanza1,T(1)(44)(stanza2),T(1)(26)(stanzacentrale)])\n",
    "    secondoasset=STRUCT([primoasset,T(2)(14)(stanza4),T(2)(32)(stanza6),T([1,2])([18,32])(stanza8)])\n",
    "    terzoasset=STRUCT([secondoasset,T([1,2])([52,14])(stanza3),T([1,2])([52,32])(stanza5),T([1,2])([44,32])(stanza7)])\n",
    "    cubo=CUBOID([33,6,h])\n",
    "    #terzoasset=DIFFERENCE([terzoasset,T([1,2])([19,46])(cubo)])\n",
    "    return terzoasset\n",
    "#VIEW(groundzero(2))"
   ]
  },
  {
   "cell_type": "markdown",
   "metadata": {},
   "source": [
    "Foto groundzero(2)"
   ]
  },
  {
   "cell_type": "code",
   "execution_count": 6,
   "metadata": {},
   "outputs": [],
   "source": [
    "#metto i buchi per le porte\n",
    "def mettiporte():\n",
    "    porte=STRUCT([T([1,2])([34,45])(CUBOID([3,6,8])),T(1)(34)(CUBOID([3,6,8])),T([1,2])([24,6])(CUBOID([6,3,8])),T([1,2])([40,6])(CUBOID([6,3,8]))\n",
    "                ,T([1,2])([8,12])(CUBOID([3,6,8])),T([1,2])([62,12])(CUBOID([3,6,8]))\n",
    "                ,T([1,2])([8,28])(CUBOID([3,6,8])),T([1,2])([62,28])(CUBOID([3,6,8])),T([1,2])([16,23])(CUBOID([6,3,8])),T([1,2])([48,23])(CUBOID([6,3,8])),\n",
    "                  T([1,2])([16,38])(CUBOID([6,3,8])),T([1,2])([48,38])(CUBOID([6,3,8])),\n",
    "                 T([1,2])([22,38])(CUBOID([6,3,8])),T([1,2])([42,38])(CUBOID([6,3,8]))])\n",
    "    piano=groundzero(11)\n",
    "    pian0piuporte=DIFFERENCE([piano,porte])\n",
    "    return pian0piuporte\n",
    "#VIEW(mettiporte())"
   ]
  },
  {
   "cell_type": "markdown",
   "metadata": {},
   "source": [
    "Foto piano con inserimento porte"
   ]
  },
  {
   "cell_type": "code",
   "execution_count": 39,
   "metadata": {},
   "outputs": [],
   "source": [
    "def finestrepiccole():\n",
    "        grata1=CUBOID([0.25,0.25,4])\n",
    "        grataor=CUBOID([4,0.25,0.25])\n",
    "        GRATE=STRUCT([T(1)(1)(grata1),T(1)(2)(grata1),T(1)(3)(grata1),\n",
    "                     T(3)(1)(grataor),T(3)(2)(grataor),T(3)(3)(grataor)])\n",
    "        GRATE=COLOR(BLACK)(GRATE)\n",
    "        cornicever=CUBOID([0.125,1,4])\n",
    "        cornice=CUBOID([4,1,0.125])\n",
    "        cornices=STRUCT([CUBOID([4,1,0.25]),CUBOID([0.25,1,4]),T(1)(1.75)(CUBOID([0.25,1,4])),\n",
    "                       T(1)(3.5)(CUBOID([0.25,1,4])),T(3)(3.5)(CUBOID([4,1,0.25])),\n",
    "                       T(1)(1)(cornicever),T(1)(2.75)(cornicever),\n",
    "                       T(3)(1.5)(cornice),T(3)(2.5)(cornice)\n",
    "                       ])\n",
    "        vetro=COLOR([0.67,0.80,0.93])(CUBOID([4,1,4]))\n",
    "        vetro=STRUCT([vetro,T(2)(-0.25)(GRATE),T(2)(0)(cornices)])\n",
    "        return vetro\n",
    "#VIEW(finestrepiccole())\n",
    " \n",
    "  #  finestrepiccoline=CUBOID([4,3,6])\n",
    "  #  finestrelaterali=CUBOID([3,4,8])\n",
    "def finestregrandi():\n",
    "    #finestregrandi=CUBOID([4,3,8])\n",
    "\n",
    "    grata1=CUBOID([0.1,0.5,8])\n",
    "    grataor=CUBOID([4,0.5,0.1])\n",
    "    cornice=CUBOID([4,0.5,0.25])\n",
    "    corniceV=CUBOID([0.25,0.5,8])\n",
    "    GRATE=STRUCT([cornice,corniceV,T(1)(3.75)(corniceV),\n",
    "                 T(1)(1.75)(corniceV),T(1)(2)(corniceV),\n",
    "                 T(3)(7.75)(cornice),T(3)(3.75)(cornice),\n",
    "                 T(1)(0.625)(grata1),T(1)(1)(grata1),T(1)(1.375)(grata1),\n",
    "                 T(1)(2.625)(grata1),T(1)(3)(grata1),T(1)(3.325)(grata1),\n",
    "                 T(3)(1.15)(grataor),T(3)(1.80)(grataor),T(3)(2.45)(grataor),\n",
    "                 T(3)(3.1)(grataor),\n",
    "                 T(3)(4.9)(grataor),T(3)(5.55)(grataor),T(3)(6.2)(grataor),T(3)(6.85)(grataor)])\n",
    "    GRATE=COLOR([0.37,0.25,0])(GRATE)\n",
    "    vetro=COLOR([0.67,0.80,0.93])(CUBOID([4,0.5,8]))\n",
    "    vetro=STRUCT([vetro,T(2)(0)(GRATE)])\n",
    "    return vetro\n",
    "#VIEW(finestregrandi())\n",
    "def finestregrandiF():\n",
    "    grata1=CUBOID([0.125,0.5,8])\n",
    "    grataor=CUBOID([3,0.5,0.125])\n",
    "    cornice=CUBOID([3,0.5,0.25])\n",
    "    corniceV=CUBOID([0.25,0.5,8])\n",
    "    GRATE=STRUCT([cornice,corniceV,T(1)(2.75)(corniceV),\n",
    "                 T(1)(1.25)(corniceV),T(1)(1.5)(corniceV),\n",
    "                 T(3)(7.75)(cornice),T(3)(3.75)(cornice),\n",
    "                 T(1)(0.75)(grata1),\n",
    "                 T(1)(2.25)(grata1),\n",
    "                 T(3)(1.15)(grataor),T(3)(1.80)(grataor),T(3)(2.45)(grataor),\n",
    "                 T(3)(3.1)(grataor),\n",
    "                 T(3)(4.9)(grataor),T(3)(5.55)(grataor),T(3)(6.2)(grataor),T(3)(6.85)(grataor)])\n",
    "    GRATE=COLOR([0.37,0.25,0])(GRATE)\n",
    "    vetro=COLOR([0.67,0.80,0.93])(CUBOID([3,0.5,8]))\n",
    "    vetro=STRUCT([vetro,T(2)(0)(GRATE)])\n",
    "    return vetro\n",
    "#VIEW(finestregrandiF())\n",
    "def finestrepiccoline():\n",
    "        cornicever=CUBOID([0.125,1,6])\n",
    "        cornice=CUBOID([4,1,0.125])\n",
    "        cornices=COLOR([0.37,0.25,0])(STRUCT([CUBOID([4,1,0.5]),CUBOID([0.5,1,6]),T(1)(1.75)(CUBOID([0.5,1,6])),\n",
    "                       T(1)(3.5)(CUBOID([0.5,1,6])),T(3)(5.5)(CUBOID([4,1,0.5])),\n",
    "                       T(1)(1)(cornicever),T(1)(2.75)(cornicever),\n",
    "                       T(3)(1.5)(cornice),T(3)(2.5)(cornice),T(3)(3.5)(cornice),T(3)(4.5)(cornice)\n",
    "                       ]))\n",
    "        vetro=COLOR([0.67,0.80,0.93])(CUBOID([4,1,6]))\n",
    "        vetro=STRUCT([vetro,T(2)(0)(cornices)])\n",
    "        return vetro\n",
    "#VIEW(finestrepiccoline())\n"
   ]
  },
  {
   "cell_type": "markdown",
   "metadata": {},
   "source": [
    "foto finestre varie"
   ]
  },
  {
   "cell_type": "code",
   "execution_count": 8,
   "metadata": {},
   "outputs": [],
   "source": [
    "def mettifinestre(piano):\n",
    "    finestre=STRUCT([T([2,3])([6,4])(CUBOID([4,4,4])),T([2,3])([22,4])(CUBOID([4,4,4])),T([2,3])([36,4])(CUBOID([4,4,4])),\n",
    "                     T([1,2,3])([6,46,4])(CUBOID([4,4,4])),T([1,2,3])([62,46,4])(CUBOID([4,4,4])),\n",
    "                    T([1,2,3])([68,6,4])(CUBOID([4,4,4])),T([1,2,3])([68,22,4])(CUBOID([4,4,4])),T([1,2,3])([68,36,4])(CUBOID([4,4,4])),\n",
    "                    T([1,2,3])([20,46,4])(CUBOID([4,4,4])),T([1,2,3])([28,46,4])(CUBOID([4,4,4])),T([1,2,3])([39,46,4])(CUBOID([4,4,4])),\n",
    "                    T([1,2,3])([46.5,46,4])(CUBOID([4,4,4]))])\n",
    "    nuovopiano=DIFFERENCE([piano,finestre])\n",
    "    return nuovopiano\n",
    "#VIEW(pianofin)"
   ]
  },
  {
   "cell_type": "code",
   "execution_count": 11,
   "metadata": {},
   "outputs": [],
   "source": [
    "#VIEW(mettifinestre(groundzero(10)))"
   ]
  },
  {
   "cell_type": "markdown",
   "metadata": {},
   "source": [
    "Foto con inserimento buchi finestre"
   ]
  },
  {
   "cell_type": "code",
   "execution_count": 12,
   "metadata": {},
   "outputs": [],
   "source": [
    "def porticatofrontale(piano):\n",
    "    stanzaDX=stanza(13,11,11)\n",
    "    stanzaSX=stanzaDX\n",
    "    stanzaDX=DIFFERENCE([stanzaDX,T([1,3])([3,4])(CUBOID([3,4,3])),T([1,3])([10,4])(CUBOID([3,4,3])),T([1,2])([14.5,4])(CUBOID([6,3,8]))])\n",
    "    stanzaSX=DIFFERENCE([stanzaSX,T([1,3])([3,4])(CUBOID([3,4,3])),T([1,3])([9,4])(CUBOID([3,4,3])),T(2)(4)(CUBOID([6,3,8]))])\n",
    "    portone=CUBOID([6,1,11])\n",
    "    portone=DIFFERENCE([portone,T(1)(1)(CUBOID([4,1,8]))])\n",
    "    porticatofrontale=STRUCT([stanzaDX,T(1)(16)(portone),T(1)(22)(stanzaSX)])\n",
    "    pianocompleto=STRUCT([T(1)(16.5)(porticatofrontale),T(2)(14)(piano)])\n",
    "    return  pianocompleto\n",
    "#VIEW(porticatofrontale(pianofin))"
   ]
  },
  {
   "cell_type": "markdown",
   "metadata": {},
   "source": [
    "foto aggiunta porticato piano terra"
   ]
  },
  {
   "cell_type": "code",
   "execution_count": 13,
   "metadata": {},
   "outputs": [],
   "source": [
    "def soffitto(piano):\n",
    "    stanza1=CUBOID([25,13,1])\n",
    "    stanza2=CUBOID([25,13,1])\n",
    "    stanza3=CUBOID([17,17,1])\n",
    "    stanza4=CUBOID([17,17,1])\n",
    "    stanza5=CUBOID([17,13,1])\n",
    "    stanza6=CUBOID([17,13,1])\n",
    "    stanza7=CUBOID([34,17,1])\n",
    "    stanza8=CUBOID([17,14,1])\n",
    "    stanza9=CUBOID([17,15,1])\n",
    "    primoasset=STRUCT([stanza1,T(1)(44)(stanza2),T(1)(26)(stanza8)])\n",
    "    secondoasset=STRUCT([primoasset,T(2)(14)(stanza4),T(2)(32)(stanza6),T([1,2])([26,31])(stanza9)])\n",
    "    terzoasset=STRUCT([secondoasset,T([1,2])([17,14])(stanza7),T([1,2])([52,14])(stanza3),T([1,2])([52,32])(stanza5)])\n",
    "    strutturaport=STRUCT([CUBOID([37,14,1.5])])\n",
    "    return STRUCT([piano,T([1,2,3])([1,15,10])(terzoasset),T([1,2,3])([17,1,9.5])(strutturaport)])\n",
    "#VIEW(soffitto(pianofin))\n"
   ]
  },
  {
   "cell_type": "markdown",
   "metadata": {},
   "source": [
    "Foto aggiunta soffitto/pavimento piano superiore"
   ]
  },
  {
   "cell_type": "code",
   "execution_count": 14,
   "metadata": {},
   "outputs": [],
   "source": [
    "def columna(dm,h,h_base):\n",
    "    \n",
    "    cylndr = COMP([JOIN,TRUNCONE([dm/1.8,0.8*(dm/1.8),h])])(24)\n",
    "    \n",
    "    torus_bot = COMP([JOIN,TORUS([dm/12,dm/2])])([8,24])\n",
    "    \n",
    "    torus_top = COMP([JOIN,TORUS([0.8*(dm/12),0.8*(dm/2)])])([8,27])\n",
    "       \n",
    "    base = COMP([T([1,2])([7*(dm/-12),7*(dm/-23)]),CUBOID])([7*(dm/6),7*(dm/6),h_base])\n",
    "    \n",
    "    base_top = COMP([T([1,2])([7*(dm/-12),7*(dm/-12)]),CUBOID])([7*(dm/6),7*(dm/6),dm/6])\n",
    "    \n",
    "    capital = SUM([COMP([JOIN,TRUNCONE([0.8*dm/2, 1.2*dm/2,h/8])])(4),COMP([R([1,2])(PI/4),JOIN,TRUNCONE([0.8*dm/2,1.2*dm/2,\n",
    "                                                                                                         h/8])])(4)]) \n",
    "    return (TOP([TOP([TOP([TOP([TOP([base, torus_bot]), TEXTURE(\"texture/colonna.jpg\")(cylndr)]), torus_top]), capital]), base_top]))\n",
    "#VIEW(columna(4,16,2))"
   ]
  },
  {
   "cell_type": "markdown",
   "metadata": {},
   "source": [
    "Foto colonna"
   ]
  },
  {
   "cell_type": "code",
   "execution_count": 15,
   "metadata": {},
   "outputs": [],
   "source": [
    "def colonnato(piano):\n",
    "    piano=COLOR([0.9,0.8,0.7])(piano)\n",
    "    colonna=columna(2,16,16)\n",
    "    colonnato=STRUCT([T([1,2,3])([24.5,10,-5.5])(colonna),T([1,2,3])([31.5,10,-5.5])(colonna),\n",
    "                      T([1,2,3])([38.25,10,-5.5])(colonna),T([1,2,3])([46.75,10,-5.5])(colonna),\n",
    "                      T([1,2,3])([53,10,-5.5])(colonna),T([1,2,3])([60,10,-5.5])(colonna),\n",
    "                      T([1,2,3])([24.5,15,-5.5])(colonna),T([1,2,3])([24.5,20,-5.5])(colonna),\n",
    "                      T([1,2,3])([60,15,-5.5])(colonna),T([1,2,3])([60,20,-5.5])(colonna),piano])\n",
    "    return colonnato\n",
    "#VIEW(colonnato(pianofin))\n"
   ]
  },
  {
   "cell_type": "markdown",
   "metadata": {},
   "source": [
    "Foto colonnato"
   ]
  },
  {
   "cell_type": "code",
   "execution_count": 16,
   "metadata": {},
   "outputs": [],
   "source": [
    "def iusscalam():\n",
    "    gradus1=CUBOID([1,7,10.5])\n",
    "    gradus2=CUBOID([1,7,9.75])\n",
    "    gradus3=CUBOID([1,7,9])\n",
    "    gradus4=CUBOID([1,7,8.25])\n",
    "    gradus5=CUBOID([1,7,7.5])\n",
    "    gradus6=CUBOID([1,7,6.75])\n",
    "    gradus7=CUBOID([1,7,6])\n",
    "    gradus8=CUBOID([1,7,5.25])\n",
    "    gradi=STRUCT([gradus8,T(1)(1)(gradus7),T(1)(2)(gradus6),T(1)(3)(gradus5),T(1)(4)(gradus4),\n",
    "                 T(1)(5)(gradus3),T(1)(6)(gradus2),T(1)(7)(gradus1)])\n",
    "    plata=CUBOID([8.5,7,4.5])\n",
    "    gradi=STRUCT([plata,T(1)(8.5)(gradi)])\n",
    "    gradus0=CUBOID([8.5,1,4.25])\n",
    "    gradus01=CUBOID([8.5,1,4])\n",
    "    gradus02=CUBOID([8.5,1,3.75])\n",
    "    gradus03=CUBOID([8.5,1,3.5])\n",
    "    gradus04=CUBOID([8.5,1,3.25])\n",
    "    gradus05=CUBOID([8.5,1,3])\n",
    "    gradus06=CUBOID([8.5,1,2.75])\n",
    "    gradus07=CUBOID([8.5,1,2.5])\n",
    "    gradus08=CUBOID([8.5,1,2.25])\n",
    "    gradus09=CUBOID([8.5,1,2.0])\n",
    "    grada=STRUCT([gradus0,T(2)(-1)(gradus01),T(2)(-2)(gradus02),T(2)(-3)(gradus03),T(2)(-4)(gradus04),\n",
    "                 T(2)(-5)(gradus05),T(2)(-6)(gradus06),T(2)(-7)(gradus07),T(2)(-8)(gradus08),\n",
    "                 T(2)(-9)(gradus09),T(2)(-13)(CUBOID([8.5,4,1.75])),T(2)(-14)(CUBOID([8.5,1,1.25])),\n",
    "                 T(2)(-15)(CUBOID([8.5,1,0.55])),T(2)(-16)(CUBOID([8.5,1,0.25]))])\n",
    "    gradinata=STRUCT([gradi,T(2)(-1)(grada)])\n",
    "    return gradinata\n",
    "#VIEW(iusscalam())\n"
   ]
  },
  {
   "cell_type": "code",
   "execution_count": 17,
   "metadata": {},
   "outputs": [],
   "source": [
    "def gradussinistram():\n",
    "    gradus1=CUBOID([1,7,10.5])\n",
    "    gradus2=CUBOID([1,7,9.75])\n",
    "    gradus3=CUBOID([1,7,9])\n",
    "    gradus4=CUBOID([1,7,8.25])\n",
    "    gradus5=CUBOID([1,7,7.5])\n",
    "    gradus6=CUBOID([1,7,6.75])\n",
    "    gradus7=CUBOID([1,7,6])\n",
    "    gradus8=CUBOID([1,7,5.25])\n",
    "    gradi=STRUCT([gradus1,T(1)(1)(gradus2),T(1)(2)(gradus3),T(1)(3)(gradus4),T(1)(4)(gradus5),\n",
    "                 T(1)(5)(gradus6),T(1)(6)(gradus7),T(1)(7)(gradus8)])\n",
    "    plata=CUBOID([8.5,7,4.5])\n",
    "    gradi=STRUCT([plata,T(1)(-8)(gradi)])\n",
    "    gradus0=CUBOID([8.5,1,4.25])\n",
    "    gradus01=CUBOID([8.5,1,4])\n",
    "    gradus02=CUBOID([8.5,1,3.75])\n",
    "    gradus03=CUBOID([8.5,1,3.5])\n",
    "    gradus04=CUBOID([8.5,1,3.25])\n",
    "    gradus05=CUBOID([8.5,1,3])\n",
    "    gradus06=CUBOID([8.5,1,2.75])\n",
    "    gradus07=CUBOID([8.5,1,2.5])\n",
    "    gradus08=CUBOID([8.5,1,2.25])\n",
    "    gradus09=CUBOID([8.5,1,2.0])\n",
    "    grada=STRUCT([gradus0,T(2)(-1)(gradus01),T(2)(-2)(gradus02),T(2)(-3)(gradus03),T(2)(-4)(gradus04),\n",
    "                 T(2)(-5)(gradus05),T(2)(-6)(gradus06),T(2)(-7)(gradus07),T(2)(-8)(gradus08),\n",
    "                 T(2)(-9)(gradus09),T(2)(-13)(CUBOID([8.5,4,1.75])),T(2)(-14)(CUBOID([8.5,1,1.25])),\n",
    "                 T(2)(-15)(CUBOID([8.5,1,0.55])),T(2)(-16)(CUBOID([8.5,1,0.25]))])\n",
    "    gradinata=STRUCT([gradi,T([2])([-1])(grada)])\n",
    "    return gradinata\n",
    "#VIEW(gradussinistram())"
   ]
  },
  {
   "cell_type": "markdown",
   "metadata": {},
   "source": [
    "Foto scalinate"
   ]
  },
  {
   "cell_type": "code",
   "execution_count": 18,
   "metadata": {},
   "outputs": [],
   "source": [
    "def Gable (radius,h,n): \n",
    "    lastX = n*3*(2*radius*1.2)\n",
    "    triangle = MKPOL([[[0,0],[lastX,0],[lastX/2.0,h/2]],[[1,2,3]],[[1]]])\n",
    "    return R([2,3])(PI/2)(POWER([triangle,QUOTE([radius*15])]))\n",
    "\n",
    "def triangolo(piano):\n",
    "    lastra=COLOR([0.59,0.46,0.32])(CUBOID([39.5,15,0.5]))\n",
    "    porticaten=STRUCT([piano,T([1,2,3])([15.5,0,30])(lastra)])\n",
    "    gable=Gable(1,20,5.5)\n",
    "    c=Gable(1,16,4.75)\n",
    "    gable=DIFFERENCE([gable,T(2)([20])(CUBOID([75,20,9]))])\n",
    "    c=DIFFERENCE([c,T(2)([20.3])(CUBOID([75,20,9]))])\n",
    "    gable=COLOR([0.59,0.46,0.32])(gable)\n",
    "    c=COLOR(WHITE)(c)\n",
    "    gable=STRUCT([gable,T([1,2,3])([2.75,0,0.75])(c)])\n",
    "    struttura = STRUCT([porticaten,T([1,2,3])([15.5,15,30.5])(gable)])\n",
    "    return struttura\n",
    "#VIEW(pianoterra)"
   ]
  },
  {
   "cell_type": "markdown",
   "metadata": {},
   "source": [
    "foto completamento porticato stile tempio ionico"
   ]
  },
  {
   "cell_type": "code",
   "execution_count": 19,
   "metadata": {},
   "outputs": [],
   "source": [
    "def completamentopianoterra(pianocolonnato):\n",
    "    gradinoSX=gradussinistram()\n",
    "    gradinoDX=iusscalam()\n",
    "    return STRUCT([T([1,2])([62.5,7])(gradinoSX),pianocolonnato,T([2])([7])(gradinoDX)])\n",
    "#VIEW(completamentopianoterra(pianocolonnato))"
   ]
  },
  {
   "cell_type": "markdown",
   "metadata": {},
   "source": [
    "aggiunta scalinate,T([1,3])([39,2])(finestregrandi)"
   ]
  },
  {
   "cell_type": "code",
   "execution_count": 20,
   "metadata": {},
   "outputs": [],
   "source": [
    "def firstfloor(h):\n",
    "    attic=groundzero(h)\n",
    "    finestregrandi=CUBOID([4,3,8])\n",
    "    finestregrandiF=CUBOID([3,3,8])\n",
    "    finestrepiccoline=CUBOID([4,3,6])\n",
    "    finestrelaterali=CUBOID([3,4,8])\n",
    "    finestrefrontali=STRUCT([T([2,3])([6,2])(finestrelaterali),T([2,3])([22,2])(finestrelaterali),T([2,3])([36,2])(finestrelaterali),\n",
    "                     T([1,2,3])([6,46,2])(finestrelaterali),T([1,2,3])([62,46,2])(finestrelaterali),T([1,2,3])([6,45,16])(CUBOID([3,3,2])),\n",
    "                    T([1,2,3])([68,6,2])(finestrelaterali),T([1,2,3])([68,22,2])(finestrelaterali),T([1,2,3])([68,36,2])(finestrelaterali),\n",
    "                    T([1,2,3])([20,46,2])(finestrepiccoline),T([1,2,3])([29,46,16])(CUBOID([3,3,2])),T([1,2,3])([29,46,2])(finestregrandiF),T([1,2,3])([34,45,2])(finestregrandi),\n",
    "                             T([1,2,3])([39,46,16])(CUBOID([3,3,2])),T([1,2,3])([39,46,2])(finestregrandiF),T([1,2,3])([62,45,16])(CUBOID([3,3,2])),\n",
    "                    T([1,2,3])([46.5,46,2])(finestrepiccoline),T([1,3])([20,2])(finestregrandi),T([1,2,3])([28,2])(finestregrandi),\n",
    "                    T([1,3])([6,2])(finestregrandi),T([1,3])([62,2])(finestregrandi),T([1,3])([46,2])(finestregrandi)])\n",
    "    porta=CUBOID([3,6,8])\n",
    "    portaprincipale=CUBOID([5,6,8])\n",
    "    portalaterale=CUBOID([6,3,8])\n",
    "    finestrefrontali=STRUCT([finestrefrontali,T(1)(33)(portaprincipale),T([1,2])([24,6])(portalaterale),T([1,2])([40,6])(portalaterale)\n",
    "                ,T([1,2])([8,12])(porta),T([1,2])([62,12])(porta)\n",
    "                ,T([1,2])([8,28])(porta),T([1,2])([62,28])(porta),T([1,2])([16,23])(portalaterale),T([1,2])([48,23])(portalaterale),\n",
    "                  T([1,2])([16,38])(portalaterale),T([1,2])([48,38])(portalaterale),\n",
    "                 T([1,2])([22,38])(portalaterale),T([1,2])([42,38])(portalaterale)])\n",
    "    attic=DIFFERENCE([attic,finestrefrontali])\n",
    "    return attic\n",
    "#VIEW(firstfloor(20))"
   ]
  },
  {
   "cell_type": "markdown",
   "metadata": {},
   "source": [
    "foto primo piano con porte e finestre"
   ]
  },
  {
   "cell_type": "code",
   "execution_count": 21,
   "metadata": {},
   "outputs": [],
   "source": [
    "def mansarda(h):\n",
    "    #costruisco stanza per stanza \n",
    "    stanza1=stanza(24,12,h)\n",
    "    stanza2=stanza(24,12,h)\n",
    "    stanza3=stanza(16,16,h)\n",
    "    stanza4=stanza(16,16,h)\n",
    "    stanza5=stanza(16,12,h)\n",
    "    stanza6=stanza(16,12,h)\n",
    "    stanza7=stanza(6,13,h)\n",
    "    stanza8=stanza(6,13,h)\n",
    "    primoasset=STRUCT([stanza1,T(1)(44)(stanza2)])\n",
    "    secondoasset=STRUCT([primoasset,T(2)(14)(stanza4),T(2)(32)(stanza6),T([1,2])([18,32])(stanza8)])\n",
    "    terzoasset=STRUCT([secondoasset,T([1,2])([52,14])(stanza3),T([1,2])([52,32])(stanza5),T([1,2])([44,32])(stanza7)])\n",
    "    porte=STRUCT([T([1,2])([34,45])(CUBOID([3,6,6])),T(1)(34)(CUBOID([3,6,6])),T([1,2])([24,6])(CUBOID([6,3,6])),T([1,2])([40,6])(CUBOID([6,3,6]))\n",
    "                ,T([1,2])([8,12])(CUBOID([3,6,6])),T([1,2])([62,12])(CUBOID([3,6,6]))\n",
    "                ,T([1,2])([8,28])(CUBOID([3,6,6])),T([1,2])([62,28])(CUBOID([3,6,6])),T([1,2])([16,23])(CUBOID([6,3,6])),T([1,2])([48,23])(CUBOID([6,3,6])),\n",
    "                  T([1,2])([16,38])(CUBOID([6,3,6])),T([1,2])([48,38])(CUBOID([6,3,6])),\n",
    "                 T([1,2])([22,38])(CUBOID([6,3,6])),T([1,2])([42,38])(CUBOID([6,3,6]))])\n",
    "    portefinestre=STRUCT([porte,T([2,3])([6,2])(CUBOID([4,4,4])),T([2,3])([22,2])(CUBOID([4,4,4])),T([2,3])([36,2])(CUBOID([4,4,4])),\n",
    "                     T([1,2,3])([6,46,2])(CUBOID([4,4,4])),T([1,2,3])([62,46,2])(CUBOID([4,4,4])),\n",
    "                    T([1,2,3])([68,6,2])(CUBOID([4,4,4])),T([1,2,3])([68,22,2])(CUBOID([4,4,4])),T([1,2,3])([68,36,2])(CUBOID([4,4,4])),\n",
    "                    T([1,2,3])([20,46,2])(CUBOID([4,4,4])),T([1,2,3])([28,46,2])(CUBOID([4,4,4])),T([1,2,3])([39,46,2])(CUBOID([4,4,4])),\n",
    "                    T([1,2,3])([46.5,46,2])(CUBOID([4,4,4]))])\n",
    "    terzoasset=DIFFERENCE([terzoasset,portefinestre])\n",
    "    return STRUCT([terzoasset,T(1)(27)(CUBOID([17,1,h])),T([1,2])([27,47])(CUBOID([17,1,h]))])\n",
    "#VIEW(mansarda(8))"
   ]
  },
  {
   "cell_type": "code",
   "execution_count": 22,
   "metadata": {},
   "outputs": [],
   "source": [
    "def soffittoatt(piano,h):\n",
    "    stanza1=CUBOID([25,13,1])\n",
    "    stanza2=CUBOID([25,13,1])\n",
    "    stanza3=CUBOID([17,17,1])\n",
    "    stanza4=CUBOID([17,17,1])\n",
    "    stanza5=CUBOID([17,13,1])\n",
    "    stanza6=CUBOID([17,13,1])\n",
    "    stanza7=CUBOID([34,17,1])\n",
    "    stanza8=CUBOID([17,14,1])\n",
    "    stanza9=CUBOID([17,15,1])\n",
    "    primoasset=STRUCT([stanza1,T(1)(44)(stanza2)])\n",
    "    secondoasset=STRUCT([primoasset,T(2)(14)(stanza4),T(2)(32)(stanza6)])\n",
    "    terzoasset=STRUCT([secondoasset,T([1,2])([52,14])(stanza3),T([1,2])([52,32])(stanza5)])\n",
    "    return STRUCT([piano,T([1,2,3])([1,1,h-1])(terzoasset)])\n",
    "#VIEW(soffittoatt(firstfloor(20)))"
   ]
  },
  {
   "cell_type": "code",
   "execution_count": 23,
   "metadata": {},
   "outputs": [],
   "source": [
    "def tetto():\n",
    "    points=[[0,0,0],[0,47,0],[71,0,0],[71,47,0],[35.5,23.5,12]]\n",
    "    edges = [[1,2,3,4],[1,2,5],[1,3,5],[2,4,5],[3,4,5]]\n",
    "    return MKPOL([points, edges, []])\n",
    "\n",
    "#VIEW(tetto())\n",
    "#edificio=STRUCT([edificio,T([2,3])([200,755])(tetto())])\n",
    "#VIEW(edificio)"
   ]
  },
  {
   "cell_type": "code",
   "execution_count": null,
   "metadata": {},
   "outputs": [],
   "source": [
    "def posizionafinestre(piano,livello):\n",
    "    if(livello==0):\n",
    "        finestra=R([1,2])(PI)(finestrepiccole())\n",
    "        finestralat=R([1,2])(-PI/2)(finestrepiccole())\n",
    "        finestralatd=R([1,2])(PI/2)(finestrepiccole())\n",
    "        nuovopiano=STRUCT([piano,T([2,3])([10,4])(finestralat),T([2,3])([26,4])(finestralat),T([2,3])([40,4])(finestralat),\n",
    "                     T([1,2,3])([10,47,4])(finestra),T([1,2,3])([66,47,4])(finestra),\n",
    "                    T([1,2,3])([71,6,4])(finestralatd),T([1,2,3])([71,22,4])(finestralatd),T([1,2,3])([71,36,4])(finestralatd),\n",
    "                    T([1,2,3])([24,48,4])(finestra),T([1,2,3])([32,48,4])(finestra),T([1,2,3])([43,48,4])(finestra),\n",
    "                    T([1,2,3])([50.5,48,4])(finestra)])\n",
    "    elif(livello==1):\n",
    "        pass\n",
    "    else:\n",
    "        pass\n",
    "    return nuovopiano"
   ]
  },
  {
   "cell_type": "code",
   "execution_count": null,
   "metadata": {},
   "outputs": [],
   "source": [
    "piano=mettiporte()\n",
    "pianofin=mettifinestre(piano)\n",
    "pianofin=posizionafinestre(pianofin,0)\n",
    "VIEW(pianofin)\n",
    "pianofin=porticatofrontale(pianofin)\n",
    "pianofin=soffitto(pianofin)\n",
    "pianocolonnato=colonnato(pianofin)\n",
    "pianoterra=triangolo(pianocolonnato)\n",
    "pianoterra=completamentopianoterra(pianoterra)\n",
    "\n",
    "c=Gable(1,16,4.75)\n",
    "c=COLOR(WHITE)(c)\n",
    "\n",
    "\n",
    "#VIEW(pianoterra)\n",
    "attic =COLOR([0.9,0.8,0.7])(firstfloor(20))\n",
    "atticsof=soffittoatt(attic,20)\n",
    "mansardas=COLOR([0.9,0.8,0.7])(mansarda(8))\n",
    "mansardas=soffittoatt(mansardas,8)\n",
    "tettos=TEXTURE([\"tetto2.jpg\",True,True,0.0,0.0,0.0,4.0,4.0,0.0,0.0])(tetto())\n",
    "edificio=STRUCT([pianoterra,T([2,3])([14,11])(attic),T([2,3])([14,31])(mansardas)])\n",
    "#edificio=finestreperpiano(edificio)\n",
    "edificio=STRUCT([edificio,T([2,3])([14,39])(tettos)])\n",
    "#VIEW(edificio)"
   ]
  },
  {
   "cell_type": "code",
   "execution_count": null,
   "metadata": {},
   "outputs": [],
   "source": []
  },
  {
   "cell_type": "code",
   "execution_count": 53,
   "metadata": {},
   "outputs": [
    {
     "data": {
      "text/plain": [
       "<pyplasm.xgepy.Hpc; proxy of <Swig Object of type 'std::shared_ptr< Hpc > *' at 0x181e926690> >"
      ]
     },
     "execution_count": 53,
     "metadata": {},
     "output_type": "execute_result"
    }
   ],
   "source": []
  },
  {
   "cell_type": "code",
   "execution_count": null,
   "metadata": {},
   "outputs": [],
   "source": []
  },
  {
   "cell_type": "code",
   "execution_count": null,
   "metadata": {},
   "outputs": [],
   "source": []
  },
  {
   "cell_type": "code",
   "execution_count": null,
   "metadata": {},
   "outputs": [],
   "source": []
  },
  {
   "cell_type": "code",
   "execution_count": null,
   "metadata": {},
   "outputs": [],
   "source": []
  },
  {
   "cell_type": "code",
   "execution_count": null,
   "metadata": {},
   "outputs": [],
   "source": []
  },
  {
   "cell_type": "code",
   "execution_count": null,
   "metadata": {},
   "outputs": [],
   "source": []
  },
  {
   "cell_type": "code",
   "execution_count": null,
   "metadata": {},
   "outputs": [],
   "source": []
  },
  {
   "cell_type": "code",
   "execution_count": null,
   "metadata": {},
   "outputs": [],
   "source": []
  },
  {
   "cell_type": "code",
   "execution_count": null,
   "metadata": {},
   "outputs": [],
   "source": []
  }
 ],
 "metadata": {
  "kernelspec": {
   "display_name": "Python 2",
   "language": "python",
   "name": "python2"
  },
  "language_info": {
   "codemirror_mode": {
    "name": "ipython",
    "version": 2
   },
   "file_extension": ".py",
   "mimetype": "text/x-python",
   "name": "python",
   "nbconvert_exporter": "python",
   "pygments_lexer": "ipython2",
   "version": "2.7.14"
  }
 },
 "nbformat": 4,
 "nbformat_minor": 2
}
