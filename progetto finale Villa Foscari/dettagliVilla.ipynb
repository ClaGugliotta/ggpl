{
 "cells": [
  {
   "cell_type": "code",
   "execution_count": 4,
   "metadata": {},
   "outputs": [
    {
     "name": "stdout",
     "output_type": "stream",
     "text": [
      "Evaluating fenvs.py..\n",
      "('...fenvs.py imported in', 0.006695999999999813, 'seconds')\n"
     ]
    }
   ],
   "source": [
    "from pyplasm import *\n",
    "from larlib import *\n"
   ]
  },
  {
   "cell_type": "code",
   "execution_count": 65,
   "metadata": {},
   "outputs": [
    {
     "data": {
      "text/plain": [
       "<pyplasm.xgepy.Hpc; proxy of <Swig Object of type 'std::shared_ptr< Hpc > *' at 0x1818c00c60> >"
      ]
     },
     "execution_count": 65,
     "metadata": {},
     "output_type": "execute_result"
    }
   ],
   "source": [
    "def columna(dm,h,h_base):\n",
    "    \n",
    "    cylndr = COMP([JOIN,TRUNCONE([dm/2,0.8*(dm/2),h])])(24)\n",
    "    \n",
    "    torus_bot = COMP([JOIN,TORUS([dm/12,dm/2])])([8,24])\n",
    "    \n",
    "    torus_top = COMP([JOIN,TORUS([0.8*(dm/12),0.8*(dm/2)])])([8,27])\n",
    "    \n",
    "    base = COMP([T([1,2])([7*(dm/-12),7*(dm/-23)]),CUBOID])([7*(dm/6),7*(dm/6),h_base])\n",
    "    \n",
    "    base_top = COMP([T([1,2])([7*(dm/-12),7*(dm/-12)]),CUBOID])([7*(dm/6),7*(dm/6),dm/6])\n",
    "    \n",
    "    capital = SUM([COMP([JOIN,TRUNCONE([0.8*dm/2, 1.2*dm/2,h/8])])(4),COMP([R([1,2])(PI/4),JOIN,TRUNCONE([0.8*dm/2,1.2*dm/2,\n",
    "                                                                                                         h/8])])(4)]) \n",
    "    return (TOP([TOP([TOP([TOP([TOP([base, torus_bot]), cylndr]), torus_top]), capital]), base_top]))\n",
    "\n",
    "def porticumdecorato():\n",
    "    porticum=CUBOID([550,400,175])\n",
    "    portam=COLOR([0.58,0.29,0.0])(CUBOID([50,5,150]))\n",
    "    finestram=COLOR([0.67,0.80,0.93])(CUBOID([50,5,50]))\n",
    "    return (STRUCT([T([1,2])([250,400])(portam),porticum,T([1,2,3])([50,400,100])(finestram),T([1,2,3])([150,400,100])(finestram),\n",
    "                   T([1,2,3])([350,400,100])(finestram),T([1,2,3])([450,400,100])(finestram)]))\n",
    "VIEW(porticumdecorato())"
   ]
  },
  {
   "cell_type": "code",
   "execution_count": 3,
   "metadata": {},
   "outputs": [],
   "source": [
    "def porticumcolumnarum():\n",
    "    \n",
    "    basePortico = porticumdecorato()\n",
    "    \n",
    "    return (STRUCT([T([1,2,3])([240,880,175])(columna(25,385,20)),T([1,2,3])([240,1050,175])(columna(25,385,20)),\n",
    "                    T([1,2,3])([240,1235,175])(columna(25,385,20)),\n",
    "                    T([1,2,3])([344,1235,175])(columna(25,385,20)), \n",
    "                    T([1,2,3])([448,1235,175])(columna(25,385,20)),\n",
    "                    T([1,2,3])([552,1235,175])(columna(25,385,20)),\n",
    "                    T([1,2,3])([656,1235,175])(columna(25,385,20)),\n",
    "                    T([1,2,3])([750,1235,175])(columna(25,385,20)),\n",
    "                    T([1,2,3])([750,880,175])(columna(25,385,20)),T([1,2,3])([750,1050,175])(columna(25,385,20)),\n",
    "                    T([1,2])([211,860])(basePortico)]))    "
   ]
  },
  {
   "cell_type": "code",
   "execution_count": 4,
   "metadata": {},
   "outputs": [
    {
     "name": "stdout",
     "output_type": "stream",
     "text": [
      "('Child', 3)\n",
      "('Child', 3)\n",
      "('Child', 3)\n",
      "('Child', 3)\n",
      "('Child', 3)\n",
      "('Child', 3)\n",
      "('Child', 3)\n",
      "('Child', 3)\n",
      "('Child', 3)\n",
      "('Child', 3)\n",
      "('Child', 3)\n",
      "('Child', 3)\n",
      "('Child', 3)\n",
      "('Child', 3)\n",
      "('Child', 3)\n",
      "('Child', 3)\n",
      "('Child', 3)\n",
      "('Child', 3)\n",
      "('Child', 3)\n",
      "('Child', 3)\n"
     ]
    },
    {
     "data": {
      "text/plain": [
       "<pyplasm.xgepy.Hpc; proxy of <Swig Object of type 'std::shared_ptr< Hpc > *' at 0x181b122c60> >"
      ]
     },
     "execution_count": 4,
     "metadata": {},
     "output_type": "execute_result"
    }
   ],
   "source": [
    "VIEW(porticumcolumnarum())"
   ]
  },
  {
   "cell_type": "code",
   "execution_count": 5,
   "metadata": {},
   "outputs": [],
   "source": [
    "def iusscalam():\n",
    "    gradus1=CUBOID([137,40,19.44])\n",
    "    gradus2=CUBOID([137,40,38.44])\n",
    "    gradus3=CUBOID([137,40,58.32])\n",
    "    gradus4=CUBOID([137,40,77.76])\n",
    "    portum=CUBOID([137,200,97.20])\n",
    "    gradus5=CUBOID([34.5,200,116.64])\n",
    "    gradus6=CUBOID([34.5,200,136.08])\n",
    "    gradus7=CUBOID([34.5,200,155.52])\n",
    "    gradus8=CUBOID([34.5,200,175])\n",
    "    return (STRUCT([portum,T([1,2])([0,200])(gradus4),T([1,2])([0,240])(gradus3),\n",
    "                          T([1,2])([0,280])(gradus2),T([1,2])([0,320])(gradus1),T([1,2])([137,0])(gradus5),\n",
    "                          T([1,2])([171.5,0])(gradus6),T([1,2])([206,0])(gradus7),T([1,2])([240.5,0])(gradus8)]))            "
   ]
  },
  {
   "cell_type": "code",
   "execution_count": 6,
   "metadata": {},
   "outputs": [
    {
     "data": {
      "text/plain": [
       "<pyplasm.xgepy.Hpc; proxy of <Swig Object of type 'std::shared_ptr< Hpc > *' at 0x181b04a630> >"
      ]
     },
     "execution_count": 6,
     "metadata": {},
     "output_type": "execute_result"
    }
   ],
   "source": [
    "VIEW(iusscalam())"
   ]
  },
  {
   "cell_type": "code",
   "execution_count": 7,
   "metadata": {},
   "outputs": [],
   "source": [
    "def gradussinistram():\n",
    "    gradus1=CUBOID([137,40,19.44])\n",
    "    gradus2=CUBOID([137,40,38.44])\n",
    "    gradus3=CUBOID([137,40,58.32])\n",
    "    gradus4=CUBOID([137,40,77.76])\n",
    "    portum=CUBOID([137,200,97.20])\n",
    "    gradus5=CUBOID([34.5,200,116.64])\n",
    "    gradus6=CUBOID([34.5,200,136.08])\n",
    "    gradus7=CUBOID([34.5,200,155.52])\n",
    "    gradus8=CUBOID([34.5,200,175])\n",
    "    return (STRUCT([portum,T([1,2])([0,200])(gradus4),T([1,2])([0,240])(gradus3),\n",
    "                          T([1,2])([0,280])(gradus2),T([1,2])([0,320])(gradus1),T([1,2])([-34.5,0])(gradus5),\n",
    "                          T([1,2])([-69,0])(gradus6),T([1,2])([-103.5,0])(gradus7),T([1,2])([-138,0])(gradus8)])) "
   ]
  },
  {
   "cell_type": "code",
   "execution_count": 8,
   "metadata": {},
   "outputs": [
    {
     "data": {
      "text/plain": [
       "<pyplasm.xgepy.Hpc; proxy of <Swig Object of type 'std::shared_ptr< Hpc > *' at 0x181b122960> >"
      ]
     },
     "execution_count": 8,
     "metadata": {},
     "output_type": "execute_result"
    }
   ],
   "source": [
    "VIEW(gradussinistram())"
   ]
  },
  {
   "cell_type": "code",
   "execution_count": 9,
   "metadata": {},
   "outputs": [
    {
     "name": "stdout",
     "output_type": "stream",
     "text": [
      "('Child', 3)\n",
      "('Child', 3)\n",
      "('Child', 3)\n",
      "('Child', 3)\n",
      "('Child', 3)\n",
      "('Child', 3)\n",
      "('Child', 3)\n",
      "('Child', 3)\n",
      "('Child', 3)\n",
      "('Child', 3)\n",
      "('Child', 3)\n",
      "('Child', 3)\n",
      "('Child', 3)\n",
      "('Child', 3)\n",
      "('Child', 3)\n",
      "('Child', 3)\n",
      "('Child', 3)\n",
      "('Child', 3)\n",
      "('Child', 3)\n",
      "('Child', 3)\n"
     ]
    },
    {
     "data": {
      "text/plain": [
       "<pyplasm.xgepy.Hpc; proxy of <Swig Object of type 'std::shared_ptr< Hpc > *' at 0x181b122930> >"
      ]
     },
     "execution_count": 9,
     "metadata": {},
     "output_type": "execute_result"
    }
   ],
   "source": [
    "VIEW(STRUCT([T([1,2])([899,860])\n",
    "             (gradussinistram()),porticumcolumnarum(),T([1,2])([-64,860])(iusscalam())]))"
   ]
  },
  {
   "cell_type": "code",
   "execution_count": 10,
   "metadata": {},
   "outputs": [
    {
     "name": "stdout",
     "output_type": "stream",
     "text": [
      "('Child', 3)\n",
      "('Child', 3)\n",
      "('Child', 3)\n",
      "('Child', 3)\n",
      "('Child', 3)\n",
      "('Child', 3)\n",
      "('Child', 3)\n",
      "('Child', 3)\n",
      "('Child', 3)\n",
      "('Child', 3)\n",
      "('Child', 3)\n",
      "('Child', 3)\n",
      "('Child', 3)\n",
      "('Child', 3)\n",
      "('Child', 3)\n",
      "('Child', 3)\n",
      "('Child', 3)\n",
      "('Child', 3)\n",
      "('Child', 3)\n",
      "('Child', 3)\n"
     ]
    }
   ],
   "source": [
    "porticato=STRUCT([T([1,2])([899,860])\n",
    "             (gradussinistram()),porticumcolumnarum(),T([1,2])([-64,860])(iusscalam())])"
   ]
  },
  {
   "cell_type": "code",
   "execution_count": null,
   "metadata": {},
   "outputs": [],
   "source": []
  },
  {
   "cell_type": "code",
   "execution_count": 11,
   "metadata": {},
   "outputs": [],
   "source": [
    "def Gable (radius,h,n): \n",
    "    lastX = n*3*(2*radius*1.2)\n",
    "    triangle = MKPOL([[[0,0],[lastX,0],[lastX/2.0,h/2]],[[1,2,3]],[[1]]])\n",
    "    return R([2,3])(PI/2)(POWER([triangle,QUOTE([radius*400])]))\n",
    "\n",
    "#lastra=CUBOID([725,400,20])\n",
    "#porticaten=TOP([porticato,lastra])"
   ]
  },
  {
   "cell_type": "code",
   "execution_count": 12,
   "metadata": {},
   "outputs": [
    {
     "ename": "NameError",
     "evalue": "name 'porticaten' is not defined",
     "output_type": "error",
     "traceback": [
      "\u001b[0;31m---------------------------------------------------------------------------\u001b[0m",
      "\u001b[0;31mNameError\u001b[0m                                 Traceback (most recent call last)",
      "\u001b[0;32m<ipython-input-12-aab5541670b6>\u001b[0m in \u001b[0;36m<module>\u001b[0;34m()\u001b[0m\n\u001b[0;32m----> 1\u001b[0;31m \u001b[0mVIEW\u001b[0m\u001b[0;34m(\u001b[0m\u001b[0mTOP\u001b[0m\u001b[0;34m(\u001b[0m\u001b[0;34m[\u001b[0m\u001b[0mporticaten\u001b[0m\u001b[0;34m,\u001b[0m\u001b[0mGable\u001b[0m\u001b[0;34m(\u001b[0m\u001b[0;36m1\u001b[0m\u001b[0;34m,\u001b[0m\u001b[0;36m360\u001b[0m\u001b[0;34m,\u001b[0m\u001b[0;36m100\u001b[0m\u001b[0;34m)\u001b[0m\u001b[0;34m]\u001b[0m\u001b[0;34m)\u001b[0m\u001b[0;34m)\u001b[0m\u001b[0;34m\u001b[0m\u001b[0m\n\u001b[0m",
      "\u001b[0;31mNameError\u001b[0m: name 'porticaten' is not defined"
     ]
    }
   ],
   "source": [
    "VIEW(TOP([porticaten,Gable(1,360,100)]))"
   ]
  },
  {
   "cell_type": "code",
   "execution_count": 13,
   "metadata": {},
   "outputs": [],
   "source": [
    "def retrum():\n",
    "    retro=CUBOID([550,10,700])\n",
    "    portam=COLOR([0.58,0.29,0.0])(CUBOID([50,5,150]))\n",
    "    finestram=COLOR([0.67,0.80,0.93])(CUBOID([50,5,50]))\n",
    "    finestramGrandis=COLOR([0.67,0.80,0.93])(CUBOID([50,5,100]))\n",
    "    finestramMidiam=COLOR([0.67,0.80,0.93])(CUBOID([50,5,75]))\n",
    "    return (STRUCT([T([1])([250])(portam),\n",
    "                    retro,\n",
    "                    T([1,2,3])([50,0,100])(finestram),T([1,2,3])([150,0,100])(finestram),\n",
    "                   T([1,2,3])([350,0,100])(finestram),T([1,2,3])([450,0,100])(finestram),\n",
    "                    T([1,2,3])([50,0,190])(finestramMidiam),\n",
    "                   T([1,2,3])([150,0,190])(finestramGrandis),T([1,2,3])([250,0,190])(finestramGrandis),\n",
    "                    T([1,2,3])([350,0,190])(finestramGrandis),T([1,2,3])([450,0,190])(finestramMidiam)]))"
   ]
  },
  {
   "cell_type": "code",
   "execution_count": 14,
   "metadata": {},
   "outputs": [],
   "source": [
    "def retrumsup():\n",
    "        finestram=COLOR([0.67,0.80,0.93])(CUBOID([50,5,50]))\n",
    "        retro=retrum()\n",
    "        gable=Gable(1,693,100)\n",
    "        return (STRUCT([T([1,2,3])([50,0,400])(finestram),T([1,2,3])([450,0,400])(finestram),retro]))"
   ]
  },
  {
   "cell_type": "code",
   "execution_count": 15,
   "metadata": {},
   "outputs": [
    {
     "data": {
      "text/plain": [
       "<pyplasm.xgepy.Hpc; proxy of <Swig Object of type 'std::shared_ptr< Hpc > *' at 0x112620390> >"
      ]
     },
     "execution_count": 15,
     "metadata": {},
     "output_type": "execute_result"
    }
   ],
   "source": [
    "VIEW(retrumsup())"
   ]
  },
  {
   "cell_type": "code",
   "execution_count": 17,
   "metadata": {},
   "outputs": [
    {
     "ename": "NameError",
     "evalue": "name 'arcoSotterraneo' is not defined",
     "output_type": "error",
     "traceback": [
      "\u001b[0;31m---------------------------------------------------------------------------\u001b[0m",
      "\u001b[0;31mNameError\u001b[0m                                 Traceback (most recent call last)",
      "\u001b[0;32m<ipython-input-17-66708610b18a>\u001b[0m in \u001b[0;36m<module>\u001b[0;34m()\u001b[0m\n\u001b[1;32m     32\u001b[0m \u001b[0;34m\u001b[0m\u001b[0m\n\u001b[1;32m     33\u001b[0m \u001b[0;34m\u001b[0m\u001b[0m\n\u001b[0;32m---> 34\u001b[0;31m \u001b[0mVIEW\u001b[0m\u001b[0;34m(\u001b[0m\u001b[0marcoSotterraneo\u001b[0m\u001b[0;34m)\u001b[0m\u001b[0;34m\u001b[0m\u001b[0m\n\u001b[0m",
      "\u001b[0;31mNameError\u001b[0m: name 'arcoSotterraneo' is not defined"
     ]
    }
   ],
   "source": [
    "\n",
    "dominioA = PROD([PROD([INTERVALS(1)(30),INTERVALS(1)(1)]),QUOTE([1])])\n",
    "\n",
    "def bottomArc(d):\n",
    "    return BEZIER(S1)([[0,0,0],[0,2*d/3,0],[d,2*d/3,0],[d,0,0]])\n",
    "\n",
    "def bottomArcProf(d):\n",
    "    return BEZIER(S1)([[0,0,0.5],[0,2*d/3,0.5],[d,2*d/3,0.5],[d,0,0.5]])\n",
    "\n",
    "def downArc(d):\n",
    "    return BEZIER(S1)([[0,0,0],[d,0,0]])\n",
    "\n",
    "def downArcProf(d):\n",
    "    return BEZIER(S1)([[0,0,0.5],[d,0,0.5]])\n",
    "\n",
    "#VIEW(MAP(bottomArc(2))(dominioA))\n",
    "#VIEW(MAP(bottomArcProf(2))(dominioA))\n",
    "\n",
    "\n",
    "def arc2DSott(d):\n",
    "    return BEZIER(S2)([bottomArc(d),downArc(d)])\n",
    "\n",
    "def arc2DSottProf(d):\n",
    "    return BEZIER(S2)([bottomArcProf(d),downArcProf(d)])\n",
    "\n",
    "VIEW(MAP(arc2DSott(2))(dominioA))\n",
    "VIEW(MAP(arc2DSottProf(10))(dominioA))\n",
    "\n",
    "def arc3DSott(d):\n",
    "    return BEZIER(S3)([arc2DSott(d),arc2DSottProf(d)])\n",
    "\n",
    "\n",
    "\n"
   ]
  },
  {
   "cell_type": "code",
   "execution_count": 27,
   "metadata": {},
   "outputs": [],
   "source": [
    "def retrumsup():\n",
    "        dominioA = PROD([PROD([INTERVALS(1)(30),INTERVALS(1)(1)]),QUOTE([1])])\n",
    "        finestram=COLOR([0.67,0.80,0.93])(CUBOID([50,5,50]))\n",
    "        retro=retrum()\n",
    "        gable=MAP(arc2DSottProf(10))(dominioA)\n",
    "        gable=COLOR(RED)(gable)\n",
    "        retro=STRUCT([retro,T([1,2,3])([277,11,400])(gable)])\n",
    "        return (STRUCT([T([1,2,3])([50,0,400])(finestram),T([1,2,3])([450,0,400])(finestram),retro]))"
   ]
  },
  {
   "cell_type": "code",
   "execution_count": 28,
   "metadata": {},
   "outputs": [
    {
     "data": {
      "text/plain": [
       "<pyplasm.xgepy.Hpc; proxy of <Swig Object of type 'std::shared_ptr< Hpc > *' at 0x1126a8750> >"
      ]
     },
     "execution_count": 28,
     "metadata": {},
     "output_type": "execute_result"
    }
   ],
   "source": [
    "VIEW(retrumsup())"
   ]
  },
  {
   "cell_type": "code",
   "execution_count": 36,
   "metadata": {},
   "outputs": [
    {
     "ename": "TypeError",
     "evalue": "in method 'Plasm_view', argument 1 of type 'std::shared_ptr< Hpc >'",
     "output_type": "error",
     "traceback": [
      "\u001b[0;31m---------------------------------------------------------------------------\u001b[0m",
      "\u001b[0;31mTypeError\u001b[0m                                 Traceback (most recent call last)",
      "\u001b[0;32m<ipython-input-36-91bcdb0ef76e>\u001b[0m in \u001b[0;36m<module>\u001b[0;34m()\u001b[0m\n\u001b[0;32m----> 1\u001b[0;31m \u001b[0mVIEW\u001b[0m\u001b[0;34m(\u001b[0m\u001b[0mCIRCLE_POINTS\u001b[0m\u001b[0;34m(\u001b[0m\u001b[0;36m10\u001b[0m\u001b[0;34m,\u001b[0m\u001b[0;36m30\u001b[0m\u001b[0;34m)\u001b[0m\u001b[0;34m)\u001b[0m\u001b[0;34m\u001b[0m\u001b[0m\n\u001b[0m",
      "\u001b[0;32m/Users/caiocesare/anaconda2/lib/site-python/pyplasm/fenvs.py\u001b[0m in \u001b[0;36mVIEW\u001b[0;34m(obj, Background)\u001b[0m\n\u001b[1;32m    943\u001b[0m \u001b[0;34m\u001b[0m\u001b[0m\n\u001b[1;32m    944\u001b[0m \u001b[0;32mdef\u001b[0m \u001b[0mVIEW\u001b[0m \u001b[0;34m(\u001b[0m\u001b[0mobj\u001b[0m\u001b[0;34m,\u001b[0m\u001b[0mBackground\u001b[0m\u001b[0;34m=\u001b[0m\u001b[0mTrue\u001b[0m\u001b[0;34m)\u001b[0m\u001b[0;34m:\u001b[0m\u001b[0;34m\u001b[0m\u001b[0m\n\u001b[0;32m--> 945\u001b[0;31m         \u001b[0mPlasm\u001b[0m\u001b[0;34m.\u001b[0m\u001b[0mview\u001b[0m\u001b[0;34m(\u001b[0m\u001b[0mobj\u001b[0m\u001b[0;34m)\u001b[0m\u001b[0;34m\u001b[0m\u001b[0m\n\u001b[0m\u001b[1;32m    946\u001b[0m         \u001b[0;31m#QtVIEW(obj)\u001b[0m\u001b[0;34m\u001b[0m\u001b[0;34m\u001b[0m\u001b[0m\n\u001b[1;32m    947\u001b[0m \u001b[0;34m\u001b[0m\u001b[0m\n",
      "\u001b[0;31mTypeError\u001b[0m: in method 'Plasm_view', argument 1 of type 'std::shared_ptr< Hpc >'"
     ]
    }
   ],
   "source": [
    "VIEW(CIRCLE_POINTS(10,30))"
   ]
  },
  {
   "cell_type": "code",
   "execution_count": 64,
   "metadata": {},
   "outputs": [
    {
     "data": {
      "text/plain": [
       "<pyplasm.xgepy.Hpc; proxy of <Swig Object of type 'std::shared_ptr< Hpc > *' at 0x1818c00db0> >"
      ]
     },
     "execution_count": 64,
     "metadata": {},
     "output_type": "execute_result"
    }
   ],
   "source": []
  },
  {
   "cell_type": "code",
   "execution_count": 59,
   "metadata": {},
   "outputs": [
    {
     "data": {
      "text/plain": [
       "<pyplasm.xgepy.Hpc; proxy of <Swig Object of type 'std::shared_ptr< Hpc > *' at 0x1818c009f0> >"
      ]
     },
     "execution_count": 59,
     "metadata": {},
     "output_type": "execute_result"
    }
   ],
   "source": [
    "def railing(x,y,z):\n",
    "    up   = T([1,2,3])([-0.5,-0.5,2.7])(CUBOID([x,y,z]))\n",
    "    down = T([1,2,3])([-0.5,-0.5,2.7])(CUBOID([x,y,z+0.2]))\n",
    "    col  = T(2)(-0.43)(CUBOID([0.5,0.7,3.5]))\n",
    "    vec = [] ## vector de balusters\n",
    "    \n",
    "    for i in range(0,4):\n",
    "        vec.append(T(1)(i)(balusters(x/2,y/2)))\n",
    "    vec = STRUCT(vec)\n",
    "    baranda = RIGHT([RIGHT([col,TOP([down,(STRUCT([vec,up]))])]),col ])\n",
    "    return baranda\n",
    "VIEW(railing(4.1,0.8,0.3))"
   ]
  },
  {
   "cell_type": "code",
   "execution_count": 60,
   "metadata": {},
   "outputs": [
    {
     "data": {
      "text/plain": [
       "<pyplasm.xgepy.Hpc; proxy of <Swig Object of type 'std::shared_ptr< Hpc > *' at 0x1818c00b10> >"
      ]
     },
     "execution_count": 60,
     "metadata": {},
     "output_type": "execute_result"
    }
   ],
   "source": [
    "finestra=CUBOID([50,3,100])\n",
    "balaustra=railing(50,20,50)\n",
    "finbal=STRUCT([T(2)(-1)(finestra),COLOR(WHITE)(balaustra)])\n",
    "VIEW(finbal)\n",
    "VIEW(balaustra)"
   ]
  },
  {
   "cell_type": "code",
   "execution_count": null,
   "metadata": {},
   "outputs": [
    {
     "name": "stdout",
     "output_type": "stream",
     "text": [
      "('Child', 3)\n",
      "('Child', 3)\n"
     ]
    }
   ],
   "source": [
    "finestra=CUBOID([50,1,100])\n",
    "colonna=columna(5,37.5,10)\n",
    "colonnatino=STRUCT([T(1)(10)(colonna),T(1)(20)(colonna),T(1)(30)(colonna),T(1)(40)(colonna)])\n",
    "latoverticale=CUBOID([5,5,50])\n",
    "latoriziontale=CUBOID([50,5,5])\n",
    "balaustra=STRUCT([T([1,2,3])([6,8,-5])(colonnatino),latoverticale,T(1)(45)(latoverticale),T(3)(50)(latoriziontale),latoriziontale])\n",
    "VIEW(STRUCT([finestra,balaustra]))"
   ]
  },
  {
   "cell_type": "code",
   "execution_count": null,
   "metadata": {},
   "outputs": [],
   "source": []
  }
 ],
 "metadata": {
  "kernelspec": {
   "display_name": "Python 2",
   "language": "python",
   "name": "python2"
  },
  "language_info": {
   "codemirror_mode": {
    "name": "ipython",
    "version": 2
   },
   "file_extension": ".py",
   "mimetype": "text/x-python",
   "name": "python",
   "nbconvert_exporter": "python",
   "pygments_lexer": "ipython2",
   "version": "2.7.14"
  }
 },
 "nbformat": 4,
 "nbformat_minor": 2
}
