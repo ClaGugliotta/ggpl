{
 "cells": [
  {
   "cell_type": "code",
   "execution_count": 1,
   "metadata": {},
   "outputs": [
    {
     "name": "stdout",
     "output_type": "stream",
     "text": [
      "Evaluating fenvs.py..\n",
      "('...fenvs.py imported in', 0.00673199999999996, 'seconds')\n"
     ]
    }
   ],
   "source": [
    "from pyplasm import *\n",
    "from larlib import *"
   ]
  },
  {
   "cell_type": "code",
   "execution_count": 2,
   "metadata": {},
   "outputs": [],
   "source": [
    "def stanza (x,y,z):\n",
    "    cubo = CUBOID([x+3,y+3,z])\n",
    "    cuboDaSottrarre = T([1,2])([0.5,0.5])(CUBOID([x,y,z]))\n",
    "    return DIFFERENCE([cubo,cuboDaSottrarre])"
   ]
  },
  {
   "cell_type": "code",
   "execution_count": 3,
   "metadata": {},
   "outputs": [],
   "source": [
    "def texturepianoterra(h):\n",
    "    paretelaterale=CUBOID([0.3,696,h])\n",
    "    finestra=CUBOID([0.3,50,50])\n",
    "    porta=CUBOID([0.3,50,100])\n",
    "    paretelaterale=DIFFERENCE([paretelaterale,T([2,3])([509,100])(finestra),T([2,3])([321.5,106])(finestra),T(2)(104)(porta)])\n",
    "    paretetexture=TEXTURE(\"pietre.jpg\")(paretelaterale)\n",
    "    return paretetexture"
   ]
  },
  {
   "cell_type": "code",
   "execution_count": 4,
   "metadata": {},
   "outputs": [],
   "source": [
    "def texturefrontale(h):\n",
    "    paretefrontale=CUBOID([1112,0.3,h])\n",
    "    finestra=CUBOID([0.3,50,50])\n",
    "    paretefrontale=DIFFERENCE([paretefrontale,T([1,3])([113.5,100])(finestra),T([1,3])([321,100])(finestra),\n",
    "                     T([1,3])([737,100])(finestra),T([1,3])([945.5,100])(finestra)])\n",
    "    return TEXTURE(\"pietre.jpg\")(paretefrontale)"
   ]
  },
  {
   "cell_type": "code",
   "execution_count": 5,
   "metadata": {},
   "outputs": [],
   "source": [
    "def groundzero(h):\n",
    "#costruisco stanza per stanza \n",
    "    stanza1=stanza(416,208,h)\n",
    "    stanza2=stanza(416,208,h)\n",
    "    stanza3=stanza(277,277,h)\n",
    "    stanza4=stanza(277,277,h)\n",
    "    stanza5=stanza(277,208,h)\n",
    "    stanza6=stanza(277,208,h)\n",
    "    stanza7=stanza(139,208,h)\n",
    "    stanza8=stanza(139,208,h)\n",
    "#costruisco la grande stanza a croce centrale\n",
    "    croce1=(stanza(277,693,h))\n",
    "    croce2=stanza(555,277,h)\n",
    "    croce=STRUCT([T([1,2])([-138,208])(croce2),croce1])\n",
    "    stanzacentrale=DIFFERENCE([croce,T(2)(208)(stanza(277,277,h))])\n",
    "    primoasset=STRUCT([stanza1,T(1)(693)(stanza2),T(1)(416)(stanzacentrale)])\n",
    "    secondoasset=STRUCT([primoasset,T(2)(208)(stanza4),T(2)(485)(stanza6),T([1,2])([277,485])(stanza8)])\n",
    "    terzoasset=STRUCT([secondoasset,T([1,2])([832,208])(stanza3),T([1,2])([832,485])(stanza5),T([1,2])([693,485])(stanza7)])\n",
    "    cubo=CUBOID([555,3,h])\n",
    "    terzoasset=DIFFERENCE([terzoasset,T([1,2])([277,693])(cubo)])\n",
    "    return terzoasset"
   ]
  },
  {
   "cell_type": "code",
   "execution_count": 6,
   "metadata": {},
   "outputs": [],
   "source": [
    "#metto i buchi per le porte\n",
    "def mettiporte():\n",
    "    porte=STRUCT([T(1)(529.5)(CUBOID([50,12,150])),T([1,2])([416,79])(CUBOID([12,50,150])),T([1,2])([693,79])(CUBOID([12,50,150]))\n",
    "                ,T([1,2])([113.5,208])(CUBOID([50,12,150])),T([1,2])([945.5,208])(CUBOID([50,12,150]))\n",
    "                ,T([1,2])([113.5,485])(CUBOID([50,12,150])),T([1,2])([945.5,485])(CUBOID([50,12,150])),T([1,2])([277,321.5])(CUBOID([12,50,150])),T([1,2])([832,321.5])(CUBOID([12,50,150])),\n",
    "                T([1,2])([832,564])(CUBOID([12,50,150])),T([1,2])([277,564])(CUBOID([6,50,150]))])\n",
    "    piano=groundzero(175)\n",
    "    pian0piuporte=DIFFERENCE([piano,porte])\n",
    "    return pian0piuporte\n",
    "#frontale=TEXTURE(\"pietre.jpg\")(T(2)(-0.1)(CUBOID([1112,0.7,175])\n",
    "#porte=mettiporte()"
   ]
  },
  {
   "cell_type": "code",
   "execution_count": 7,
   "metadata": {},
   "outputs": [],
   "source": [
    "#stanzaporticatoDX=DIFFERENCE([stanza(250,200,175),T([1,3])([50,100])(CUBOID([50,6,50])),T([1,3])([150,100])(CUBOID([50,6,50]))])\n",
    "#stanzaporticatoSX=stanzaporticatoDX"
   ]
  },
  {
   "cell_type": "code",
   "execution_count": 8,
   "metadata": {},
   "outputs": [],
   "source": [
    "#VIEW(porte)"
   ]
  },
  {
   "cell_type": "code",
   "execution_count": 9,
   "metadata": {},
   "outputs": [],
   "source": [
    "def mettifinestre(piano):\n",
    "    finestre=STRUCT([T([2,3])([509,100])(CUBOID([12,50,50])),\n",
    "                     T(2)(104)(CUBOID([12,50,100])),T([2,3])([321.5,100])(CUBOID([12,50,50])),\n",
    "                     T([1,2])([1100,104])(CUBOID([12,50,100])),T([1,2,3])([1100,321.5,100])(CUBOID([12,50,50])),\n",
    "                     T([1,2,3])([1100,509,100])(CUBOID([12,50,50]))])\n",
    "    finestre=STRUCT([T([1,2,3])([113.5,693,100])(CUBOID([50,12,50])),T([1,2,3])([321,693,100])(CUBOID([50,12,50])),\n",
    "                     T([1,2,3])([737,693,100])(CUBOID([50,12,50])),T([1,2,3])([945.5,693,100])(CUBOID([50,12,50]))\n",
    "                     ,finestre])\n",
    "    nuovopiano=DIFFERENCE([piano,finestre])\n",
    "    return nuovopiano"
   ]
  },
  {
   "cell_type": "code",
   "execution_count": 10,
   "metadata": {},
   "outputs": [],
   "source": [
    "#primopiano=mettifinestre(porte)"
   ]
  },
  {
   "cell_type": "code",
   "execution_count": 11,
   "metadata": {},
   "outputs": [],
   "source": [
    "def soffittopianoterra(piano):\n",
    "    stanzaporticatoDX=DIFFERENCE([stanza(250,200,175),T([1,3])([50,100])(CUBOID([50,6,50])),T([1,3])([150,100])(CUBOID([50,6,50]))])\n",
    "    stanzaporticatoSX=stanzaporticatoDX\n",
    "    pianoterra=STRUCT([T(2)(200)(piano),T(1)(275)(stanzaporticatoDX),T([1,3])([525,150])(CUBOID([50,3,25])),T(1)(575)(stanzaporticatoDX)])\n",
    "    pianoconsoffitto=STRUCT([T([1,3])([275,175])(CUBOID([550,200,6])),pianoterra,T([2,3])([200,175])(CUBOID([1110,693,6]))])\n",
    "    return pianoconsoffitto"
   ]
  },
  {
   "cell_type": "code",
   "execution_count": 12,
   "metadata": {},
   "outputs": [],
   "source": [
    "#pianoterra=soffittopianoterra(primopiano)\n",
    "#VIEW(pianoterra)"
   ]
  },
  {
   "cell_type": "code",
   "execution_count": 13,
   "metadata": {},
   "outputs": [],
   "source": [
    "def columna(dm,h,h_base):\n",
    "    \n",
    "    cylndr = COMP([JOIN,TRUNCONE([dm/2,0.8*(dm/2),h])])(24)\n",
    "    \n",
    "    torus_bot = COMP([JOIN,TORUS([dm/12,dm/2])])([8,24])\n",
    "    \n",
    "    torus_top = COMP([JOIN,TORUS([0.8*(dm/12),0.8*(dm/2)])])([8,27])\n",
    "       \n",
    "    base = COMP([T([1,2])([7*(dm/-12),7*(dm/-23)]),CUBOID])([7*(dm/6),7*(dm/6),h_base])\n",
    "    \n",
    "    base_top = COMP([T([1,2])([7*(dm/-12),7*(dm/-12)]),CUBOID])([7*(dm/6),7*(dm/6),dm/6])\n",
    "    \n",
    "    capital = SUM([COMP([JOIN,TRUNCONE([0.8*dm/2, 1.2*dm/2,h/8])])(4),COMP([R([1,2])(PI/4),JOIN,TRUNCONE([0.8*dm/2,1.2*dm/2,\n",
    "                                                                                                         h/8])])(4)]) \n",
    "    return (TOP([TOP([TOP([TOP([TOP([base, torus_bot]), TEXTURE(\"texture/colonna.jpg\")(cylndr)]), torus_top]), capital]), base_top]))"
   ]
  },
  {
   "cell_type": "code",
   "execution_count": 14,
   "metadata": {},
   "outputs": [],
   "source": [
    "def colonnato(piano):\n",
    "    colonna=columna(25,325,20)\n",
    "    colonnato=STRUCT([T([1,2,3])([300,190,175])(colonna),T([1,2,3])([300,20,175])(colonna),T([1,2,3])([300,95,175])(colonna),\n",
    "                      T([1,2,3])([407,20,175])(colonna),T([1,2,3])([515,20,175])(colonna),T([1,2,3])([621,20,175])(colonna),\n",
    "                      T([1,2,3])([728,20,175])(colonna),T([1,2,3])([815,20,175])(colonna),\n",
    "                      T([1,2,3])([815,95,175])(colonna),T([1,2,3])([815,190,175])(colonna),\n",
    "                      piano])\n",
    "    return colonnato\n",
    "#VIEW(colonnato(pianoterra))\n",
    "#pianoconcolonnato=colonnato(pianoterra)"
   ]
  },
  {
   "cell_type": "code",
   "execution_count": 15,
   "metadata": {},
   "outputs": [],
   "source": [
    "def iusscalam():\n",
    "    gradus1=TEXTURE(\"texture/pietre.png\")(CUBOID([137,40,19.44]))\n",
    "    gradus2=TEXTURE(\"texture/pietre.png\")(CUBOID([137,40,38.44]))\n",
    "    gradus3=TEXTURE(\"texture/pietre.png\")(CUBOID([137,40,58.32]))\n",
    "    gradus4=TEXTURE(\"texture/pietre.png\")(CUBOID([137,40,77.76]))\n",
    "    portum=TEXTURE(\"texture/pietre.png\")(CUBOID([137,200,97.20]))\n",
    "    gradus5=TEXTURE(\"texture/pietre.png\")(CUBOID([34.5,200,116.64]))\n",
    "    gradus6=TEXTURE(\"texture/pietre.png\")(CUBOID([34.5,200,136.08]))\n",
    "    gradus7=TEXTURE(\"texture/pietre.png\")(CUBOID([34.5,200,155.52]))\n",
    "    gradus8=TEXTURE(\"texture/pietre.png\")(CUBOID([34.5,200,175]))\n",
    "    return (STRUCT([portum,T([1,2])([0,200])(gradus4),T([1,2])([0,240])(gradus3),\n",
    "                          T([1,2])([0,280])(gradus2),T([1,2])([0,320])(gradus1),T([1,2])([137,0])(gradus5),\n",
    "                          T([1,2])([171.5,0])(gradus6),T([1,2])([206,0])(gradus7),T([1,2])([240.5,0])(gradus8)]))            "
   ]
  },
  {
   "cell_type": "code",
   "execution_count": 16,
   "metadata": {},
   "outputs": [],
   "source": [
    "def gradussinistram():\n",
    "    gradus1=TEXTURE(\"texture/pietre.png\")(CUBOID([137,40,19.44]))\n",
    "    gradus2=TEXTURE(\"texture/pietre.png\")(CUBOID([137,40,38.44]))\n",
    "    gradus3=TEXTURE(\"texture/pietre.png\")(CUBOID([137,40,58.32]))\n",
    "    gradus4=TEXTURE(\"texture/pietre.png\")(CUBOID([137,40,77.76]))\n",
    "    portum=TEXTURE(\"texture/pietre.png\")(CUBOID([137,200,97.20]))\n",
    "    gradus5=TEXTURE(\"texture/pietre.png\")(CUBOID([34.5,200,116.64]))\n",
    "    gradus6=TEXTURE(\"texture/pietre.png\")(CUBOID([34.5,200,136.08]))\n",
    "    gradus7=TEXTURE(\"texture/pietre.png\")(CUBOID([34.5,200,155.52]))\n",
    "    gradus8=TEXTURE(\"texture/pietre.png\")(CUBOID([34.5,200,175]))\n",
    "    return (STRUCT([portum,T([1,2])([0,200])(gradus4),T([1,2])([0,240])(gradus3),\n",
    "                          T([1,2])([0,280])(gradus2),T([1,2])([0,320])(gradus1),T([1,2])([-34.5,0])(gradus5),\n",
    "                          T([1,2])([-69,0])(gradus6),T([1,2])([-103.5,0])(gradus7),T([1,2])([-138,0])(gradus8)])) "
   ]
  },
  {
   "cell_type": "code",
   "execution_count": 17,
   "metadata": {},
   "outputs": [],
   "source": [
    "def Gable (radius,h,n): \n",
    "    lastX = n*3*(2*radius*1.2)\n",
    "    triangle = MKPOL([[[0,0],[lastX,0],[lastX/2.0,h/2]],[[1,2,3]],[[1]]])\n",
    "    return R([2,3])(PI/2)(POWER([triangle,QUOTE([radius*400])]))\n",
    "\n",
    "def triangolo(piano):\n",
    "    lastra=COLOR([0.59,0.46,0.32])(CUBOID([720,200,20]))\n",
    "    porticaten=STRUCT([piano,T([1,3])([187.5,580])(lastra)])\n",
    "    gable=Gable(1,360,100)\n",
    "    c=Gable(1,320,90)\n",
    "    gable=DIFFERENCE([gable,T(2)([203])(CUBOID([7550,200,900]))])\n",
    "    c=DIFFERENCE([c,T(2)([203])(CUBOID([7550,200,900]))])\n",
    "    gable=COLOR([0.59,0.46,0.32])(gable)\n",
    "    c=COLOR(WHITE)(c)\n",
    "    gable=STRUCT([gable,T([1,2])(35)(c)])\n",
    "    struttura = STRUCT([porticaten,T([1,2,3])([187.5,400,600])(gable)])\n",
    "    return struttura"
   ]
  },
  {
   "cell_type": "code",
   "execution_count": 18,
   "metadata": {},
   "outputs": [],
   "source": [
    "def completamentopianoterra(pianocolonnato):\n",
    "    gradinoSX=R([1,2])(PI)(gradussinistram())\n",
    "    gradinoDX=R([1,2])(PI)(iusscalam())\n",
    "    return STRUCT([T([1,2])([139,200])(gradinoSX),pianoconcolonnato,T([1,2])([1103,200])(gradinoDX)])"
   ]
  },
  {
   "cell_type": "code",
   "execution_count": 19,
   "metadata": {},
   "outputs": [],
   "source": [
    "#pianotera=completamentopianoterra(pianoconcolonnato)\n",
    "#pianotera=triangolo(pianotera)\n",
    "#VIEW(pianotera)"
   ]
  },
  {
   "cell_type": "code",
   "execution_count": 20,
   "metadata": {},
   "outputs": [],
   "source": [
    "def firstfloor(h):\n",
    "    attic=groundzero(h)\n",
    "    finestregrandi=CUBOID([50,12,175])\n",
    "    finestrelaterali=CUBOID([12,50,175])\n",
    "    finestrepiccole=CUBOID([30,12,100])\n",
    "    finestrefrontali=STRUCT([T([1,3])([188,75])(finestregrandi),T([1,3])([430,75])(finestregrandi),\n",
    "                            T([1,3])([630,75])(finestregrandi),T([1,3])([876,75])(finestregrandi),\n",
    "                            T([2,3])([104,75])(finestrelaterali),T([2,3])([321.5,75])(finestrelaterali),\n",
    "                            T([2,3])([509,75])(finestrelaterali),\n",
    "                            T([1,2,3])([1107,104,75])(finestrelaterali),T([1,2,3])([1107,321.5,75])(finestrelaterali),\n",
    "                            T([1,2,3])([1107,509,75])(finestrelaterali),\n",
    "                            T([1,2,3])([113.5,693,75])(finestregrandi),T([1,2,3])([945.5,693,75])(finestregrandi),\n",
    "                            T([1,2,3])([321.5,693,50])(finestrepiccole),T([1,2,3])([737.5,693,50])(finestrepiccole)])\n",
    "    porta=CUBOID([50,12,150])\n",
    "    portalaterale=CUBOID([12,50,150])\n",
    "    finestrefrontali=STRUCT([finestrefrontali,T(1)(529.5)(porta),T([1,2])([416,79])(CUBOID([6,50,150])),T([1,2])([693,79])(CUBOID([6,50,150]))\n",
    "                ,T([1,2])([113.5,208])(porta),T([1,2])([945.5,208])(porta)\n",
    "                ,T([1,2])([113.5,485])(porta),T([1,2])([945.5,485])(porta),T([1,2])([277,321.5])(portalaterale),T([1,2])([832,321.5])(portalaterale),\n",
    "                T([1,2])([832,564])(portalaterale),T([1,2])([277,564])(portalaterale)])\n",
    "    cubo=CUBOID([555,3,h])\n",
    "    attic=DIFFERENCE([attic,T([1,2])([277,693])(cubo)])\n",
    "    return DIFFERENCE([attic,finestrefrontali])\n",
    "#attic =firstfloor(430)\n",
    "#VIEW(STRUCT([T([2,3])([200,175])(attic),pianotera]))"
   ]
  },
  {
   "cell_type": "code",
   "execution_count": 21,
   "metadata": {},
   "outputs": [],
   "source": [
    "#piano=STRUCT([TEXTURE(\"pietre.jpg\")(T(2)(199.9)(CUBOID([1112,0.7,175]))),T(1)(-1)(texturepianoterra(175)),pianoterra,T([1,2])([1112,200])(texturepianoterra(175)),T([1,2])(896)(texturefrontale(175))])\n",
    "#VIEW(piano)"
   ]
  },
  {
   "cell_type": "code",
   "execution_count": 22,
   "metadata": {},
   "outputs": [],
   "source": [
    "def finestrepiccole():\n",
    "        grata1=CUBOID([1,1,50])\n",
    "        grataor=CUBOID([50,1,1])\n",
    "        GRATE=STRUCT([grata1,T(1)(10)(grata1),T(1)(20)(grata1),T(1)(30)(grata1),T(1)(40)(grata1)\n",
    "                     ,T(1)(49)(grata1),\n",
    "                     T(3)(10)(grataor),T(3)(20)(grataor),T(3)(30)(grataor),T(3)(40)(grataor),\n",
    "                     T(3)(50)(grataor),grataor])\n",
    "        GRATE=COLOR(BLACK)(GRATE)\n",
    "        cornice=STRUCT([CUBOID([50,2,2]),CUBOID([2,2,50]),T(1)(48)(CUBOID([2,2,50])),T(1)(24)(CUBOID([4,2,50])),\n",
    "                       T(3)(48)(CUBOID([50,2,2]))])\n",
    "        vetro=COLOR([0.67,0.80,0.93])(CUBOID([50,1,50]))\n",
    "        vetro=STRUCT([vetro,T(2)(-1)(GRATE),T(2)(0)(cornice)])\n",
    "        return vetro\n",
    "#VIEW(finestrepiccole())\n",
    "def finestregrandi():\n",
    "    grata1=CUBOID([0.5,1,175])\n",
    "    grataor=CUBOID([50,1,0.5])\n",
    "    cornice=CUBOID([50,1,2])\n",
    "    corniceV=CUBOID([2,1,175])\n",
    "    GRATE=STRUCT([cornice,T(3)(174)(cornice),T(3)(86.5)(cornice),\n",
    "                  corniceV,T(1)(48)(corniceV),T(1)(24)(corniceV),\n",
    "                 T(1)(7)(grata1),T(1)(11)(grata1),T(1)(17)(grata1),\n",
    "                 T(1)(31)(grata1),T(1)(37)(grata1),T(1)(43)(grata1),\n",
    "                 T(3)(18)(grataor),T(3)(36)(grataor),T(3)(54)(grataor),\n",
    "                 T(3)(72)(grataor),T(3)(102)(grataor),T(3)(120)(grataor),\n",
    "                 T(3)(138)(grataor),T(3)(156)(grataor)])\n",
    "    GRATE=COLOR([0.37,0.25,0])(GRATE)\n",
    "    vetro=COLOR([0.67,0.80,0.93])(CUBOID([50,0.5,175]))\n",
    "    vetro=STRUCT([vetro,T(2)(0)(GRATE)])\n",
    "    return vetro\n",
    "#VIEW(finestregrandi())"
   ]
  },
  {
   "cell_type": "code",
   "execution_count": 23,
   "metadata": {},
   "outputs": [],
   "source": [
    "def finestraP(x,y,z):\n",
    "    strutturafinestraO=CUBOID([x,1,1])\n",
    "    strutturafinestraV=CUBOID([1,1,z])\n",
    "    strutturafinestra=STRUCT([strutturafinestraO,strutturafinestraV,T(1)(x)(strutturafinestraV),\n",
    "                             T(3)(z)(strutturafinestraO)])\n",
    "    grata1=CUBOID([1,1,z])\n",
    "    grataor=CUBOID([x,1,1])\n",
    "    GRATE=STRUCT([T(1)(10)(grata1),T(1)(20)(grata1),T(1)(30)(grata1),T(1)(40)(grata1)\n",
    "                 ,T(1)(50)(grata1),\n",
    "                 T(3)(10)(grataor),T(3)(20)(grataor),T(3)(30)(grataor),T(3)(40)(grataor),\n",
    "                 T(3)(50)(grataor)])\n",
    "#VIEW(GRATE)\n",
    "    cornice=STRUCT([strutturafinestra,GRATE])\n",
    "    return cornice\n",
    "#VIEW(finestraP(50,2,50))\n",
    "def finestraPL(x,y,z):\n",
    "    strutturafinestraO=CUBOID([1,y,1])\n",
    "    strutturafinestraV=CUBOID([1,1,z])\n",
    "    strutturafinestra=STRUCT([strutturafinestraO,strutturafinestraV,T(2)(y)(strutturafinestraV),\n",
    "                             T(3)(z)(strutturafinestraO)])\n",
    "    grata1=CUBOID([1,1,z])\n",
    "    grataor=CUBOID([1,y,1])\n",
    "    GRATE=STRUCT([T(2)(10)(grata1),T(2)(20)(grata1),T(2)(30)(grata1),T(2)(40)(grata1)\n",
    "                 ,T(2)(50)(grata1),\n",
    "                 T(3)(10)(grataor),T(3)(20)(grataor),T(3)(30)(grataor),T(3)(40)(grataor),\n",
    "                 T(3)(50)(grataor)])\n",
    "    #VIEW(GRATE)\n",
    "    cornice=STRUCT([strutturafinestra,GRATE])\n",
    "    return cornice\n",
    "#VIEW(finestraPL(2,50,50))"
   ]
  },
  {
   "cell_type": "code",
   "execution_count": 24,
   "metadata": {},
   "outputs": [],
   "source": [
    "#inserisco le finestre in ogni piano che ho creato precedentemente\n",
    "def finestreperpiano(edificio):\n",
    "    finestrella=finestrepiccole()\n",
    "    finestrallaL=R([1,2])(-PI/2)(finestrella)\n",
    "    finestrallaR=R([1,2])(PI/2)(finestrella)\n",
    "    finestrallaP=R([1,2])(PI)(finestrella)\n",
    "    primopiano=STRUCT([\n",
    "                   T([2,3])([559,100])(finestrallaL),T([2,3])([371.5,100])(finestrallaL),\n",
    "                   T([1,2,3])([1112,509,100])(finestrallaR),T([1,2,3])([1112,321.5,100])(finestrallaR),\n",
    "                   T([1,2,3])([163.5,696,100])(finestrallaP),T([1,2,3])([996.5,696,100])(finestrallaP)])\n",
    "    edificio=STRUCT([T(2)(200)(primopiano),edificio,T([1,3])([325,100])(finestrella),T([1,3])([425,100])(finestrella),\n",
    "                    T([1,3])([625,100])(finestrella),T([1,3])([725,100])(finestrella)])\n",
    "    finestrona=finestregrandi()\n",
    "    finestronaL=R([1,2])(-PI/2)(finestrona)\n",
    "    finestronaR=R([1,2])(PI/2)(finestrona)\n",
    "    finestronaP=R([1,2])(PI)(finestrona)\n",
    "    secondopiano=STRUCT([\n",
    "                   T([2,3])([559,75])(finestronaL),T([2,3])([371.5,75])(finestronaL),\n",
    "                   T([2,3])([154,75])(finestronaL),\n",
    "                   T([1,2,3])([1112,509,75])(finestronaR),T([1,2,3])([1112,321.5,75])(finestronaR),\n",
    "                   T([1,2,3])([163.5,696,75])(finestronaP),T([1,2,3])([996.5,696,75])(finestronaP),\n",
    "                   T([1,2,3])([1112,104,75])(finestronaR),\n",
    "                   T([1,3])([188,75])(finestrona),T([1,3])([430,75])(finestrona),\n",
    "                   T([1,3])([876,75])(finestrona),T([1,3])([630,75])(finestrona)])\n",
    "    edificio=STRUCT([T([2,3])([200,175])(secondopiano),edificio])\n",
    "    return edificio\n"
   ]
  },
  {
   "cell_type": "code",
   "execution_count": 25,
   "metadata": {},
   "outputs": [
    {
     "name": "stdout",
     "output_type": "stream",
     "text": [
      "('Child', 3)\n",
      "('Child', 3)\n"
     ]
    }
   ],
   "source": [
    "pianoconporte=mettiporte()\n",
    "stanzaporticatoDX=DIFFERENCE([stanza(250,200,175),T([1,3])([50,100])(CUBOID([50,6,50])),T([1,3])([150,100])(CUBOID([50,6,50]))])\n",
    "stanzaporticatoSX=stanzaporticatoDX\n",
    "primopiano=mettifinestre(pianoconporte)\n",
    "#piano=STRUCT([primopiano,finestre])\n",
    "pianoterra=soffittopianoterra(primopiano)\n",
    "piano=COLOR([0.9,0.8,0.7])(pianoterra)\n",
    "#VIEW(piano)\n",
    "pianoconcolonnato=colonnato(piano)\n",
    "#VIEW(pianoconcolonnato)\n",
    "pianoterra=completamentopianoterra(pianoconcolonnato)\n",
    "pianoterra=triangolo(pianoterra)\n",
    "c=Gable(1,320,90)\n",
    "c=COLOR(WHITE)(c)\n",
    "\n",
    "\n",
    "#VIEW(pianoterra)\n",
    "attic =COLOR([0.9,0.8,0.7])(firstfloor(430))\n",
    "\n",
    "edificio=STRUCT([T([2,3])([200,175])(attic),T([1,2,3])([223.5,398,600])(c),pianoterra])\n",
    "edificio=finestreperpiano(edificio)\n",
    "#VIEW(edificio)"
   ]
  },
  {
   "cell_type": "code",
   "execution_count": 26,
   "metadata": {},
   "outputs": [
    {
     "name": "stdout",
     "output_type": "stream",
     "text": [
      "('Child', 3)\n",
      "('Child', 3)\n"
     ]
    }
   ],
   "source": [
    "def finestraconbalaustra():\n",
    "    finestra=COLOR([0.67,0.80,0.93])(CUBOID([50,1,100]))\n",
    "    colonna=columna(5,37.5,10)\n",
    "    colonnatino=STRUCT([T(1)(10)(colonna),T(1)(20)(colonna),T(1)(30)(colonna),T(1)(40)(colonna)])\n",
    "    latoverticale=CUBOID([5,5,50])\n",
    "    latoriziontale=CUBOID([50,5,5])\n",
    "    balaustra=STRUCT([T([1,2,3])([6,8,-5])(colonnatino),latoverticale,T(1)(45)(latoverticale),T(3)(50)(latoriziontale),latoriziontale])\n",
    "    return STRUCT([finestra,balaustra])\n",
    "#VIEW(finestraconbalaustra())\n",
    "def ultimopiano(h):\n",
    "    piano=COLOR([0.9,0.8,0.7])(CUBOID([1112,696,h]))\n",
    "    finestrafront=finestraconbalaustra()\n",
    "    finestralat=R([1,2])(PI/2)(finestrafront)\n",
    "    finestralatD=R([1,2])(-PI/2)(finestrafront)\n",
    "    finestraP=finestrafront\n",
    "    finestrafront=R([1,2])(PI)(finestrafront)\n",
    "    finestre=STRUCT([T([1,3])([188,20])(finestrafront),T([1,3])([876,20])(finestrafront),\n",
    "                    T([2,3])([104,20])(finestralat),T([2,3])([321,5,20])(finestralat),\n",
    "                    T([2,3])([509,20])(finestralat),\n",
    "                    T([1,2,3])([1111,104,20])(finestralatD),T([1,2,3])([1111,321.5,20])(finestralatD),\n",
    "                    T([1,2,3])([1111,509,20])(finestralatD),\n",
    "                    T([1,2,3])([113.5,700,20])(finestraP),T([1,2,3])([945,700,20])(finestraP)])\n",
    "    piano=STRUCT([piano,finestre])\n",
    "    return piano\n",
    "#VIEW(ultimopiano(150))\n",
    "terzopiano=ultimopiano(150)"
   ]
  },
  {
   "cell_type": "code",
   "execution_count": 27,
   "metadata": {},
   "outputs": [],
   "source": [
    "def finestremansarda():\n",
    "    finestra=COLOR([0.67,0.80,0.93])(CUBOID([50,3,50]))\n",
    "    corniceoriz=CUBOID([50,3,2])\n",
    "    cornicevert=CUBOID([2,3,50])\n",
    "    grataor=CUBOID([50,3,1])\n",
    "    grataver=CUBOID([1,3,50])\n",
    "    cornice=STRUCT([corniceoriz,cornicevert,T(1)(48)(cornicevert),T(1)(23)(cornicevert),T(1)(25)(cornicevert),\n",
    "                   T(3)(48)(corniceoriz)])\n",
    "    grate=STRUCT([T(3)(15)(grataor),T(3)(30)(grataor),T(3)(48)(grataor),T(1)(12.5)(grataver),T(1)(37.5)(grataver)])\n",
    "    struttura=COLOR([0.37,0.25,0])(STRUCT([cornice,grate]))\n",
    "    return STRUCT([finestra,T(2)(-0.5)(struttura)])\n",
    "#VIEW(finestremansarda())\n",
    "def finestramansardagrande():\n",
    "    finestra=COLOR([0.67,0.80,0.93])(CUBOID([60,3,50]))\n",
    "    corniceoriz=CUBOID([60,3,2])\n",
    "    cornicevert=CUBOID([2,3,50])\n",
    "    grataor=CUBOID([60,3,1])\n",
    "    grataver=CUBOID([1,3,50])\n",
    "    cornice=STRUCT([corniceoriz,cornicevert,T(1)(58)(cornicevert),T(1)(28)(cornicevert),T(1)(30)(cornicevert),\n",
    "                   T(3)(48)(corniceoriz)])\n",
    "    grate=STRUCT([T(3)(15)(grataor),T(3)(30)(grataor),T(3)(48)(grataor),T(1)(10.6)(grataver),T(1)(19.2)(grataver),\n",
    "                 T(1)(40.6)(grataver),T(1)(49.2)(grataver)])\n",
    "    struttura=COLOR([0.37,0.25,0])(STRUCT([cornice,grate]))\n",
    "    return STRUCT([finestra,T(2)(-0.5)(struttura)])\n",
    "#VIEW(finestramansardagrande())\n",
    "def mansarda():\n",
    "    mansarda=COLOR([0.9,0.8,0.7])(CUBOID([277,696,100]))\n",
    "    finestraG=finestramansardagrande()\n",
    "    finestraP=finestremansarda()\n",
    "    finestraGP=R([1,2])(PI)(finestraG)\n",
    "    finestraPP=COLOR(BLACK)(R([1,2])(PI)(finestraP))\n",
    "    finestratoF=STRUCT([T(1)(24)(finestraP), T(1)(113.5)(finestraG),T(1)(203.5)(finestraP),\n",
    "                        T([1,2])([64,696])(finestraPP), T([1,2])([153.5,696])(finestraGP),T([1,2])([242.5,696])(finestraPP)])\n",
    "    finestrato=T(3)(25)(finestratoF)\n",
    "    mansarda=STRUCT([mansarda,finestrato])\n",
    "    return mansarda\n",
    "def tetto():\n",
    "    tetto=TEXTURE(\"tetto2.jpg\")(Gable(1,140,38.5))\n",
    "    sottotett=COLOR(WHITE)(Gable(1,110,34.5))\n",
    "    return STRUCT([tetto,T([1,3])([12,3])(sottotett)])\n",
    "#VIEW(tetto())\n",
    "tetto=STRUCT([tetto(),T(2)(296)(tetto())])\n",
    "#VIEW(tetto)\n",
    "mansarda=STRUCT([mansarda(),T([2,3])([400,100])(tetto)])\n",
    "#VIEW(mansarda)"
   ]
  },
  {
   "cell_type": "code",
   "execution_count": 28,
   "metadata": {},
   "outputs": [
    {
     "data": {
      "text/plain": [
       "<pyplasm.xgepy.Hpc; proxy of <Swig Object of type 'std::shared_ptr< Hpc > *' at 0x1812fd7bd0> >"
      ]
     },
     "execution_count": 28,
     "metadata": {},
     "output_type": "execute_result"
    }
   ],
   "source": [
    "partesuperiore=STRUCT([terzopiano,T([1,3])([411.5,150])(mansarda)])\n",
    "#VIEW(partesuperiore)\n",
    "edificio=STRUCT([edificio,T([2,3])([200,605])(partesuperiore)])\n",
    "VIEW(edificio)"
   ]
  },
  {
   "cell_type": "code",
   "execution_count": null,
   "metadata": {},
   "outputs": [
    {
     "name": "stdout",
     "output_type": "stream",
     "text": [
      "('Child', 3)\n",
      "('Child', 3)\n",
      "('Child', 3)\n"
     ]
    }
   ],
   "source": [
    "def halfSphere (radius):\n",
    "    '''\n",
    "    generates the model of the upper half of a sphere\n",
    "    @param: radius\n",
    "    '''\n",
    "    def GSPHERE0 (subds):\n",
    "        N , M = subds\n",
    "        domain = Hpc(Grid([N*[PI/N],M*[PI/M]]))\n",
    "        domain = MAT([[1,0,0,0],[-PI*2,1,0,0],[-PI,0,1,0],[0,0,0,1]])(domain)\n",
    "        fx  = lambda p: radius * math.cos(p[0]) * math.sin  (p[1])\n",
    "        fy  = lambda p: radius * math.cos(p[0]) * math.cos (p[1])\n",
    "        fz  = lambda p: radius * math.sin(p[0])\n",
    "        ret=  GMAP([fx, fy, fz])(domain)\n",
    "        return R([1,2])(PI)(ret)\n",
    "    return GSPHERE0\n",
    "#VIEW(JOIN(halfSphere(1.25)([12,12])))\n",
    "def camino(dm,h):\n",
    "    cylndr = COMP([JOIN,TRUNCONE([dm/2,0.8*(dm/2),h])])(32) \n",
    "    cylndr3 = COMP([JOIN,TRUNCONE([dm/2.3,0.8*(dm/2.3),2])])(16)    \n",
    "    base_top=TOP([cylndr3,R([1,3])(PI)(halfSphere(2)([12,12]))])\n",
    "    cubo=CUBOID([4,4,10])\n",
    "    sfera=JOIN(halfSphere(1.8)([12,12]))\n",
    "    sfera=TOP([base_top,sfera])\n",
    "    cylndr2=COMP([JOIN,TRUNCONE([0.25,0.8*(0.25),h/5])])(32)\n",
    "    sfera2=JOIN(SPHERE(0.25)([12,12]))\n",
    "    topo=TOP([cylndr2,sfera2])\n",
    "    topp=TOP([topo,sfera])\n",
    "    cylndr=TOP([cylndr,sfera])\n",
    "    cylndr=TOP([cylndr,topo])\n",
    "    return TOP([cubo,cylndr])\n",
    "VIEW(camino(5,10))"
   ]
  },
  {
   "cell_type": "code",
   "execution_count": null,
   "metadata": {},
   "outputs": [],
   "source": []
  },
  {
   "cell_type": "code",
   "execution_count": 37,
   "metadata": {},
   "outputs": [
    {
     "data": {
      "text/plain": [
       "<pyplasm.xgepy.Hpc; proxy of <Swig Object of type 'std::shared_ptr< Hpc > *' at 0x1812fb8ab0> >"
      ]
     },
     "execution_count": 37,
     "metadata": {},
     "output_type": "execute_result"
    }
   ],
   "source": [
    "def tetto():\n",
    "    prova=CUBOID([550,696,10])\n",
    "    lato1=R([1,2])(PI)(prova)\n",
    "    sopra=CUBOID([225,173.25,150])\n",
    "    tetto=JOIN([prova,T([1,2,3])([330,260,50])(sopra)])\n",
    "    tetto=TEXTURE([\"tetto2.jpg\",\"tetto.jpg\"])(tetto)\n",
    "    tetto2=R([1,2])(PI)(tetto)\n",
    "    tetto2=TEXTURE(\"tetto2.jpg\")(tetto2)\n",
    "    tettos=STRUCT([tetto,T([1,2])([1112,696])(tetto2)])\n",
    "    return tettos\n",
    "VIEW(tetto())\n",
    "edificio=STRUCT([edificio,T([2,3])([200,755])(tettos)])\n",
    "VIEW(edificio)"
   ]
  },
  {
   "cell_type": "code",
   "execution_count": 32,
   "metadata": {},
   "outputs": [
    {
     "data": {
      "text/plain": [
       "<pyplasm.xgepy.Hpc; proxy of <Swig Object of type 'std::shared_ptr< Hpc > *' at 0x1812fd7b70> >"
      ]
     },
     "execution_count": 32,
     "metadata": {},
     "output_type": "execute_result"
    }
   ],
   "source": [
    "points=[[0,0,0],[0,2,0],[2,0,0],[2,2,0],[1,1,2]]\n",
    "edges = [[1,2,3,4],[1,2,5],[1,3,5],[2,4,5],[3,4,5]]\n",
    "VIEW(MKPOL([points, edges, []]))"
   ]
  },
  {
   "cell_type": "code",
   "execution_count": null,
   "metadata": {},
   "outputs": [],
   "source": []
  },
  {
   "cell_type": "code",
   "execution_count": null,
   "metadata": {},
   "outputs": [],
   "source": []
  }
 ],
 "metadata": {
  "kernelspec": {
   "display_name": "Python 2",
   "language": "python",
   "name": "python2"
  },
  "language_info": {
   "codemirror_mode": {
    "name": "ipython",
    "version": 2
   },
   "file_extension": ".py",
   "mimetype": "text/x-python",
   "name": "python",
   "nbconvert_exporter": "python",
   "pygments_lexer": "ipython2",
   "version": "2.7.14"
  }
 },
 "nbformat": 4,
 "nbformat_minor": 2
}
