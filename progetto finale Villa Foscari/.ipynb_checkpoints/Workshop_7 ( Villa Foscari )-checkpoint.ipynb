{
 "cells": [
  {
   "cell_type": "code",
   "execution_count": 62,
   "metadata": {},
   "outputs": [],
   "source": [
    "from pyplasm import *\n",
    "from larlib import *\n",
    "import numpy as np"
   ]
  },
  {
   "attachments": {},
   "cell_type": "markdown",
   "metadata": {},
   "source": [
    "Foto malcontenta\n",
    "![frontevilla.png](img/frontevilla.png)"
   ]
  },
  {
   "cell_type": "code",
   "execution_count": 64,
   "metadata": {},
   "outputs": [
    {
     "data": {
      "text/plain": [
       "<pyplasm.xgepy.Hpc; proxy of <Swig Object of type 'std::shared_ptr< Hpc > *' at 0x183d8d3de0> >"
      ]
     },
     "execution_count": 64,
     "metadata": {},
     "output_type": "execute_result"
    }
   ],
   "source": [
    "def stanza (x,y,z):\n",
    "    cubo = CUBOID([x+3,y+3,z])\n",
    "    cuboDaSottrarre = T([1,2])([1,1])(CUBOID([x+1,y+1,z]))\n",
    "    return DIFFERENCE([cubo,cuboDaSottrarre])\n",
    "#VIEW(stanza(10,10,5))\n"
   ]
  },
  {
   "attachments": {},
   "cell_type": "markdown",
   "metadata": {},
   "source": [
    "![stanza.png](img/stanza.png)"
   ]
  },
  {
   "cell_type": "code",
   "execution_count": 3,
   "metadata": {},
   "outputs": [],
   "source": [
    "def groundzero(h):\n",
    "#costruisco stanza per stanza \n",
    "    stanza1=stanza(24,12,h)\n",
    "    stanza2=stanza(24,12,h)\n",
    "    stanza3=stanza(16,16,h)\n",
    "    stanza4=stanza(16,16,h)\n",
    "    stanza5=stanza(16,12,h)\n",
    "    stanza6=stanza(16,12,h)\n",
    "    stanza7=stanza(6,13,h)\n",
    "    stanza8=stanza(6,13,h)\n",
    "#costruisco la grande stanza a croce centrale\n",
    "    croce1=(stanza(16,45,h))\n",
    "    croce2=stanza(32,16,h)\n",
    "    croce=STRUCT([T([1,2])([-8,14])(croce2),croce1])\n",
    "    stanzacentrale=DIFFERENCE([croce,T(2)(15)(stanza(16,14,h))])\n",
    "    stanzacentrale=DIFFERENCE([stanzacentrale,T([1,2])([1,14])(stanza(14,16,h))])\n",
    "    primoasset=STRUCT([stanza1,T(1)(44)(stanza2),T(1)(26)(stanzacentrale)])\n",
    "    secondoasset=STRUCT([primoasset,T(2)(14)(stanza4),T(2)(32)(stanza6),T([1,2])([18,32])(stanza8)])\n",
    "    terzoasset=STRUCT([secondoasset,T([1,2])([52,14])(stanza3),T([1,2])([52,32])(stanza5),T([1,2])([44,32])(stanza7)])\n",
    "    cubo=CUBOID([33,6,h])\n",
    "    #terzoasset=DIFFERENCE([terzoasset,T([1,2])([19,46])(cubo)])\n",
    "    return terzoasset\n",
    "#VIEW(groundzero(2))"
   ]
  },
  {
   "attachments": {},
   "cell_type": "markdown",
   "metadata": {},
   "source": [
    "Vista del piano terra costruito con un altezza fissata a 2 per far vedere bene la pianta\n",
    "![pianoterra.png](img/pianoterra.png)"
   ]
  },
  {
   "cell_type": "code",
   "execution_count": 4,
   "metadata": {},
   "outputs": [],
   "source": []
  },
  {
   "cell_type": "markdown",
   "metadata": {},
   "source": [
    "Foto piano con inserimento porte"
   ]
  },
  {
   "cell_type": "code",
   "execution_count": 61,
   "metadata": {},
   "outputs": [
    {
     "name": "stdout",
     "output_type": "stream",
     "text": [
      "('Child', 3)\n",
      "('Child', 3)\n",
      "('Child', 3)\n",
      "('Child', 3)\n"
     ]
    }
   ],
   "source": [
    "def finestrepiccole():\n",
    "        grata1=CUBOID([0.25,0.25,4])\n",
    "        grataor=CUBOID([4,0.25,0.25])\n",
    "        GRATE=STRUCT([T(1)(1)(grata1),T(1)(2)(grata1),T(1)(3)(grata1),\n",
    "                     T(3)(1)(grataor),T(3)(2)(grataor),T(3)(3)(grataor)])\n",
    "        GRATE=COLOR(BLACK)(GRATE)\n",
    "        cornicever=CUBOID([0.125,1,4])\n",
    "        cornice=CUBOID([4,1,0.125])\n",
    "        cornices=COLOR([0.37,0.25,0])(STRUCT([CUBOID([4,1,0.26]),CUBOID([0.26,1,4]),T(1)(1.75)(CUBOID([0.26,1,4])),\n",
    "                       T(1)(3.75)(CUBOID([0.26,1,4])),T(3)(3.75)(CUBOID([4,1,0.26])),\n",
    "                       T(1)(1)(cornicever),T(1)(2.75)(cornicever),\n",
    "                       T(3)(1.5)(cornice),T(3)(2.5)(cornice)\n",
    "                       ]))\n",
    "        vetro=COLOR([0.67,0.80,0.93])(CUBOID([4,0.9,4]))\n",
    "        vetro=STRUCT([vetro,T(2)(-0.25)(GRATE),T(2)(-0.05)(cornices)])\n",
    "        return vetro\n",
    "#VIEW(finestrepiccole())\n",
    " \n",
    "  #  finestrepiccoline=CUBOID([4,3,6])\n",
    "  #  finestrelaterali=CUBOID([3,4,8])\n",
    "def finestregrandi():\n",
    "    #finestregrandi=CUBOID([4,3,8])\n",
    "\n",
    "    grata1=CUBOID([0.2,1,8])\n",
    "    grataor=CUBOID([4,1,0.2])\n",
    "    cornice=CUBOID([4,1,0.26])\n",
    "    corniceV=CUBOID([0.26,1,8])\n",
    "    GRATE=STRUCT([cornice,corniceV,T(1)(3.75)(corniceV),\n",
    "                 T(1)(1.75)(corniceV),T(1)(2)(corniceV),\n",
    "                 T(3)(7.75)(cornice),T(3)(3.75)(cornice),\n",
    "                 T(1)(0.625)(grata1),T(1)(1)(grata1),T(1)(1.375)(grata1),\n",
    "                 T(1)(2.625)(grata1),T(1)(3)(grata1),T(1)(3.325)(grata1),\n",
    "                 T(3)(1.15)(grataor),T(3)(1.80)(grataor),T(3)(2.45)(grataor),\n",
    "                 T(3)(3.1)(grataor),\n",
    "                 T(3)(4.9)(grataor),T(3)(5.55)(grataor),T(3)(6.2)(grataor),T(3)(6.85)(grataor)])\n",
    "    GRATE=COLOR([0.37,0.25,0])(GRATE)\n",
    "    vetro=COLOR([0.67,0.80,0.93])(CUBOID([4,0.9,8]))\n",
    "    vetro=STRUCT([vetro,T(2)(-0.05)(GRATE)])\n",
    "    return vetro\n",
    "#VIEW(finestregrandi())\n",
    "def finestregrandiF():\n",
    "    grata1=CUBOID([0.125,1,8])\n",
    "    grataor=CUBOID([3,1,0.125])\n",
    "    cornice=CUBOID([3,1,0.36])\n",
    "    corniceV=CUBOID([0.36,1,8])\n",
    "    GRATE=STRUCT([cornice,corniceV,T(1)(2.65)(corniceV),\n",
    "                 T(1)(1.25)(corniceV),T(1)(1.5)(corniceV),\n",
    "                 T(3)(7.65)(cornice),T(3)(3.75)(cornice),\n",
    "                 T(1)(0.75)(grata1),\n",
    "                 T(1)(2.25)(grata1),\n",
    "                 T(3)(1.15)(grataor),T(3)(1.80)(grataor),T(3)(2.45)(grataor),\n",
    "                 T(3)(3.1)(grataor),\n",
    "                 T(3)(4.9)(grataor),T(3)(5.55)(grataor),T(3)(6.2)(grataor),T(3)(6.85)(grataor)])\n",
    "    GRATE=COLOR([0.37,0.25,0])(GRATE)\n",
    "    vetro=COLOR([0.67,0.80,0.93])(CUBOID([3,0.9,8]))\n",
    "    vetro=STRUCT([vetro,T(2)(-0.05)(GRATE)])\n",
    "    return vetro\n",
    "#VIEW(finestregrandiF())\n",
    "def finestrepiccoline():\n",
    "        cornicever=CUBOID([0.125,1,6])\n",
    "        cornice=CUBOID([4,1,0.125])\n",
    "        cornices=COLOR([0.37,0.25,0])(STRUCT([CUBOID([4,1,0.51]),CUBOID([0.51,1,6]),T(1)(1.75)(CUBOID([0.51,1,6])),\n",
    "                       T(1)(3.5)(CUBOID([0.51,1,6])),T(3)(5.5)(CUBOID([4,1,0.51])),\n",
    "                       T(1)(1)(cornicever),T(1)(2.75)(cornicever),\n",
    "                       T(3)(1.5)(cornice),T(3)(2.5)(cornice),T(3)(3.5)(cornice),T(3)(4.5)(cornice)\n",
    "                       ]))\n",
    "        vetro=COLOR([0.67,0.80,0.93])(CUBOID([4,0.9,6]))\n",
    "        vetro=STRUCT([vetro,T(2)(-0.05)(cornices)])\n",
    "        return vetro\n",
    "#VIEW(finestrepiccoline())\n",
    "def buco():\n",
    "    cornice=CUBOID([4,1,0.6])\n",
    "    cornicever=CUBOID([0.6,1,3])\n",
    "    cornice=STRUCT([cornice,cornicever,T(1)(3.4)(cornicever),T(3)(2.4)(cornice)])\n",
    "    vetro=COLOR([0.67,0.80,0.93])(CUBOID([4,0.9,3]))\n",
    "    vetro=STRUCT([vetro,COLOR([0.37,0.25,0])(cornice)])\n",
    "    return vetro\n",
    "#VIEW(buco())\n",
    "def finestraconbalaustra():\n",
    "    finestra=COLOR([0.67,0.80,0.93])(CUBOID([3,0.5,4.5]))\n",
    "    corniceV=COLOR([0.37,0.25,0])(CUBOID([0.5,0.5,5]))\n",
    "    corniceO=COLOR([0.37,0.25,0])(CUBOID([4,0.5,0.5]))\n",
    "    finestra=STRUCT([corniceV,T(3)(4.5)(corniceO),T(1)(3.5)(corniceV),T([1])([0.5])(finestra)])\n",
    "    colonna=columna(0.4,1.5,0.4)\n",
    "    colonnatino=STRUCT([T(1)(0.6)(colonna),T(1)(1.3)(colonna),T(1)(2)(colonna),T(1)(2.7)(colonna),T(1)(3.4)(colonna)])\n",
    "    latoverticale=CUBOID([.35,0.5,2.5])\n",
    "    latoriziontale=CUBOID([4,0.5,0.5])\n",
    "    balaustra=STRUCT([T([2,3])([1,2.5])(latoriziontale),T(2)(1)(latoriziontale),T(2)(1)(latoverticale),T(2)(1.25)(colonnatino),T([1,2])([3.65,1])(latoverticale)])\n",
    "    return STRUCT([finestra,T(2)(-1.5)(balaustra)])\n",
    "#VIEW(finestraconbalaustra())\n",
    "def finestramansarda_piccola():\n",
    "    finestra=COLOR([0.67,0.80,0.93])(CUBOID([2,0.5,2]))\n",
    "    corniceverticale=CUBOID([3,1,0.5])\n",
    "    corniceorizzontale=CUBOID([0.5,1,3])\n",
    "    cornice=STRUCT([corniceverticale,corniceorizzontale,T(3)(2.5)(corniceverticale),T(1)(1.25)(corniceorizzontale),T(1)(2.5)(corniceorizzontale)])\n",
    "    cornice=COLOR([0.37,0.25,0])(cornice)\n",
    "    return STRUCT([cornice,T([1,2,3])([0.5,0.25,0.5])(finestra)])\n",
    "#VIEW(finestramansarda_piccola())\n",
    "def finestramansarda_grande():\n",
    "    finestra=COLOR([0.67,0.80,0.93])(CUBOID([3,0.5,2]))\n",
    "    corniceverticale=CUBOID([4,1,0.5])\n",
    "    corniceorizzontale=CUBOID([0.5,1,3])\n",
    "    cornice=STRUCT([corniceverticale,corniceorizzontale,T(3)(2.5)(corniceverticale),T(1)(1.5)(corniceorizzontale),T(1)(2)(corniceorizzontale),T(1)(3.5)(corniceorizzontale)])\n",
    "    cornice=COLOR([0.37,0.25,0])(cornice)\n",
    "    return STRUCT([cornice,T([1,2,3])([0.5,0.25,0.5])(finestra)])\n",
    "#VIEW(finestramansarda_grande())\n"
   ]
  },
  {
   "attachments": {},
   "cell_type": "markdown",
   "metadata": {},
   "source": [
    "Immagine di tutte le tipologie di finestre esistenti\n",
    "![finestra8.png](img/finestra8.png)\n",
    "![finestra5.png](img/finestra5.png)\n",
    "![finestra2.png](img/finestra2.png)\n",
    "![finestra7.png](img/finestra7.png)\n",
    "![finestra6.png](img/finestra6.png)\n",
    "![finestra4.png](img/finestra4.png)\n",
    "![finestra3.png](img/finestra3.png)\n",
    "![finestra.png](img/finestra.png)"
   ]
  },
  {
   "cell_type": "code",
   "execution_count": 6,
   "metadata": {},
   "outputs": [],
   "source": [
    "#metto i buchi per le porte\n",
    "def mettiporte():\n",
    "    porte=STRUCT([T([1,2])([34,45])(CUBOID([3,6,8])),T(1)(34)(CUBOID([3,6,8])),T([1,2])([24,6])(CUBOID([6,3,8])),T([1,2])([40,6])(CUBOID([6,3,8]))\n",
    "                ,T([1,2])([8,12])(CUBOID([3,6,8])),T([1,2])([62,12])(CUBOID([3,6,8]))\n",
    "                ,T([1,2])([8,28])(CUBOID([3,6,8])),T([1,2])([62,28])(CUBOID([3,6,8])),T([1,2])([16,23])(CUBOID([6,3,8])),T([1,2])([48,23])(CUBOID([6,3,8])),\n",
    "                  T([1,2])([16,38])(CUBOID([6,3,8])),T([1,2])([48,38])(CUBOID([6,3,8])),\n",
    "                 T([1,2])([22,38])(CUBOID([6,3,8])),T([1,2])([42,38])(CUBOID([6,3,8]))])\n",
    "    piano=groundzero(11)\n",
    "    pian0piuporte=DIFFERENCE([piano,porte])\n",
    "    return pian0piuporte\n",
    "#VIEW(mettiporte())\n",
    "def mettifinestre(piano):\n",
    "    finestre=STRUCT([T([2,3])([6,4])(CUBOID([4.01,4.01,4.01])),T([2,3])([22,4])(CUBOID([4.01,4.01,4.01])),T([2,3])([36,4])(CUBOID([4.01,4.01,4.01])),\n",
    "                     T([1,2,3])([6,46,4])(CUBOID([4.01,4.01,4.01])),T([1,2,3])([62,46,4])(CUBOID([4.01,4.01,4.01])),\n",
    "                    T([1,2,3])([68,6,4])(CUBOID([4.01,4.01,4.01])),T([1,2,3])([68,22,4])(CUBOID([4.01,4.01,4.01])),T([1,2,3])([68,36,4])(CUBOID([4.01,4.01,4.01])),\n",
    "                    T([1,2,3])([20,46,4])(CUBOID([4.01,4.01,4.01])),T([1,2,3])([28,46,4])(CUBOID([4.01,4.01,4.01])),T([1,2,3])([39,46,4])(CUBOID([4.01,4.01,4.01])),\n",
    "                    T([1,2,3])([46.5,46,4])(CUBOID([4.01,4.01,4.01]))])\n",
    "    nuovopiano=DIFFERENCE([piano,finestre])\n",
    "    return nuovopiano\n",
    "#VIEW(pianofin)"
   ]
  },
  {
   "attachments": {},
   "cell_type": "markdown",
   "metadata": {},
   "source": [
    "foto del piano terra con porte e finestre\n",
    "![pianoterra2.png](img/pianoterra2.png)"
   ]
  },
  {
   "cell_type": "code",
   "execution_count": 8,
   "metadata": {},
   "outputs": [],
   "source": [
    "def porticatofrontale(piano):\n",
    "    stanzaDX=stanza(13,11,11)\n",
    "    stanzaSX=stanzaDX\n",
    "    stanzaDX=DIFFERENCE([stanzaDX,T([1,3])([3,4])(CUBOID([3,4,3])),T([1,3])([10,4])(CUBOID([3,4,3])),T([1,2])([14.5,4])(CUBOID([6,3,8]))])\n",
    "    stanzaSX=DIFFERENCE([stanzaSX,T([1,3])([3,4])(CUBOID([3,4,3])),T([1,3])([9,4])(CUBOID([3,4,3])),T(2)(4)(CUBOID([6,3,8]))])\n",
    "    portone=CUBOID([6,1,11])\n",
    "    portone=DIFFERENCE([portone,T(1)(1)(CUBOID([4,1,8]))])\n",
    "    porticatofrontale=STRUCT([stanzaDX,T(1)(16)(portone),T(1)(22)(stanzaSX)])\n",
    "    porticatofrontale=COLOR([0.9,0.8,0.7])(porticatofrontale)\n",
    "    porticatofrontale=STRUCT([porticatofrontale,T([1,3])([3,4])(finestrepiccole()),T([1,3])([10,4])(finestrepiccole()),T([1,3])([24,4])(finestrepiccole()),T([1,3])([30,4])(finestrepiccole())])\n",
    "    pianocompleto=STRUCT([T(1)(16.5)(porticatofrontale),T(2)(14)(piano)])\n",
    "    return  pianocompleto\n",
    "#VIEW(porticatofrontale(pianofin))"
   ]
  },
  {
   "attachments": {},
   "cell_type": "markdown",
   "metadata": {},
   "source": [
    "pianoterra con aggiunta del porticato \n",
    "![pianoterraconporticato.png](img/pianoterraconporticato.png)"
   ]
  },
  {
   "cell_type": "code",
   "execution_count": 9,
   "metadata": {},
   "outputs": [],
   "source": [
    "def pavimento(piano):\n",
    "    stanza1=TEXTURE(\"texture/parquet.jpg\")(CUBOID([26,14,1]))\n",
    "    stanza2=TEXTURE(\"texture/parquet.jpg\")(CUBOID([26,14,1]))\n",
    "    stanza3=TEXTURE(\"texture/marmo.jpeg\")(CUBOID([18,18,1]))\n",
    "    stanza4=TEXTURE(\"texture/marmo.jpeg\")(CUBOID([18,18,1]))\n",
    "    stanza5=TEXTURE(\"texture/pavimento.jpeg\")(CUBOID([18,14,1]))\n",
    "    stanza6=TEXTURE(\"texture/pavimento.jpeg\")(CUBOID([18,14,1]))\n",
    "    stanza7=TEXTURE(\"texture/parquet.jpeg\")(CUBOID([34,18,1]))\n",
    "    stanza8=TEXTURE(\"texture/parquet.jpeg\")(CUBOID([18,16,1]))\n",
    "    stanza9=TEXTURE(\"texture/parquet.jpeg\")(CUBOID([18,16,1]))\n",
    "    stanza10=TEXTURE(\"texture/parquet.jpg\")(CUBOID([8,15,1]))\n",
    "    stanza11=TEXTURE(\"texture/parquet.jpg\")(CUBOID([8,15,1]))\n",
    "    primoasset=STRUCT([stanza1,T(1)(44)(stanza2),T(1)(26)(stanza8),T([1,2])([18,32])(stanza10),T([1,2])([44,32])(stanza10)])\n",
    "    secondoasset=STRUCT([primoasset,T(2)(14)(stanza4),T(2)(32)(stanza6),T([1,2])([26,31])(stanza9)])\n",
    "    terzoasset=STRUCT([secondoasset,T([1,2])([18,14])(stanza7),T([1,2])([52,14])(stanza3),T([1,2])([52,32])(stanza5)])\n",
    "    strutturaport=TEXTURE(\"texture/marmo2.jpeg\")(STRUCT([CUBOID([38,15,1])]))\n",
    "    return STRUCT([piano,T([1,2,3])([1,15,-1])(terzoasset),T([1,2,3])([16.5,0,-1])(strutturaport)])\n",
    "def soffitto(piano):\n",
    "    stanza1=TEXTURE(\"texture/parquet.jpg\")(CUBOID([25,13,1]))\n",
    "    stanza2=TEXTURE(\"texture/parquet.jpg\")(CUBOID([25,13,1]))\n",
    "    stanza3=TEXTURE(\"texture/marmo.jpeg\")(CUBOID([17,17,1]))\n",
    "    stanza4=TEXTURE(\"texture/marmo.jpeg\")(CUBOID([17,17,1]))\n",
    "    stanza5=TEXTURE(\"texture/pavimento.jpeg\")(CUBOID([17,13,1]))\n",
    "    stanza6=TEXTURE(\"texture/pavimento.jpeg\")(CUBOID([17,13,1]))\n",
    "    stanza7=TEXTURE(\"texture/parquet.jpeg\")(CUBOID([33,17,1]))\n",
    "    stanza8=TEXTURE(\"texture/parquet.jpeg\")(CUBOID([17,14,1]))\n",
    "    stanza9=TEXTURE(\"texture/parquet.jpeg\")(CUBOID([17,15,1]))\n",
    "    points=[[0,0],[4,0],[4,5],[7,5],[0,14],[7,14]]\n",
    "    edges = [[1,2,3,5],[3,4,6,5],[1,2],[2,3],[3,5],[5,1],[3,4],[4,6],[6,5],[5,3]]\n",
    "    stanza= MKPOL([points, edges, []])\n",
    "    stanza10=POWER([stanza,QUOTE([1])])\n",
    "    stanza10=TEXTURE(\"texture/parquet.jpg\")(stanza10)\n",
    "    primoasset=STRUCT([stanza1,T(1)(44)(stanza2),T(1)(26)(stanza8)])\n",
    "    secondoasset=STRUCT([primoasset,T(2)(14)(stanza4),T(2)(32)(stanza6),T([1,2])([26,31])(stanza9),T([1,2])([18,32])(stanza10),T([1,2])([44,32])(stanza10)])\n",
    "    terzoasset=STRUCT([secondoasset,T([1,2])([18,14])(stanza7),T([1,2])([52,14])(stanza3),T([1,2])([52,32])(stanza5)])\n",
    "    strutturaport=TEXTURE(\"texture/marmo2.jpeg\")(STRUCT([CUBOID([38,14,2])]))\n",
    "    return STRUCT([piano,T([1,2,3])([1,15,10])(terzoasset),T([1,2,3])([16.5,0,9.5])(strutturaport)])\n",
    "#VIEW(soffitto(pianofin))\n"
   ]
  },
  {
   "attachments": {},
   "cell_type": "markdown",
   "metadata": {},
   "source": [
    "Pianoterra con aggiunta di soffitto pavimento e Texture varie\n",
    "![pianoterraT.png](img/pianoterraT.png)"
   ]
  },
  {
   "cell_type": "code",
   "execution_count": 67,
   "metadata": {},
   "outputs": [
    {
     "name": "stdout",
     "output_type": "stream",
     "text": [
      "('Child', 3)\n",
      "('Child', 3)\n",
      "('Child', 3)\n",
      "('Child', 3)\n"
     ]
    },
    {
     "data": {
      "text/plain": [
       "<pyplasm.xgepy.Hpc; proxy of <Swig Object of type 'std::shared_ptr< Hpc > *' at 0x182f1ffa80> >"
      ]
     },
     "execution_count": 67,
     "metadata": {},
     "output_type": "execute_result"
    }
   ],
   "source": [
    "def columna2(dm,h,h_base):\n",
    "    cylndr=MY_CYLINDER([dm/2.2,h])(24)\n",
    "    torus_bot=COMP([JOIN,TORUS([dm/1.8,dm/3.])])([38,38])\n",
    "    torus_bot=STRUCT([torus_bot,T(3)(0.5)(TORUS([dm/2.1,dm/3.])([38,38]))])\n",
    "    torus_bot=JOIN([torus_bot,T(3)(0.5)(TORUS([dm/1.8,dm/3.])([38,38]))])\n",
    "    torus_bot=JOIN([torus_bot])\n",
    "    capitel=MY_CYLINDER([dm/2.2,h_base])(24)\n",
    "    ionic=MY_CYLINDER([dm/3,dm])(46)\n",
    "    ionico=JOIN([STRUCT([T(1)(dm/2)(R([2,3])(PI/2)(ionic)),T(2)(-1.9)(MY_CYLINDER([dm/2.2,1])(24)),T(1)(-dm/2)(R([2,3])(PI/2)(ionic))])])\n",
    "    return TOP([TOP([TOP([torus_bot,cylndr]),capitel]),ionico])\n",
    "def columna(dm,h,h_base):\n",
    "    \n",
    "    cylndr = COMP([JOIN,TRUNCONE([dm/1.8,0.8*(dm/1.8),h])])(24)\n",
    "    \n",
    "    #torus_bot = COMP([JOIN,TORUS([dm/12,dm/2])])([8,24])\n",
    "    torus_bot=COMP([JOIN,TORUS([dm/1.8,dm/3.])])([38,38])\n",
    "    torus_bot=STRUCT([torus_bot,T(3)(0.5)(TORUS([dm/2.1,dm/3.])([38,38]))])\n",
    "    torus_bot=JOIN([torus_bot,T(3)(0.5)(TORUS([dm/1.8,dm/3.])([38,38]))])\n",
    "    torus_bot=JOIN([torus_bot])\n",
    "    torus_top = COMP([JOIN,TORUS([0.8*(dm/12),0.8*(dm/2)])])([8,27])\n",
    "       \n",
    "    base = COMP([T([1,2])([7*(dm/-12),7*(dm/-23)]),CUBOID])([7*(dm/6),7*(dm/6),h_base])\n",
    "    \n",
    "    base_top = COMP([T([1,2])([7*(dm/-12),7*(dm/-12)]),CUBOID])([7*(dm/6),7*(dm/6),dm/6])\n",
    "    \n",
    "    capital = SUM([COMP([JOIN,TRUNCONE([0.8*dm/2, 1.2*dm/2,h/8])])(4),COMP([R([1,2])(PI/4),JOIN,TRUNCONE([0.8*dm/2,1.2*dm/2,\n",
    "                                                                                                         h/8])])(4)]) \n",
    "    return (TOP([TOP([TOP([TOP([TOP([base, torus_bot]), TEXTURE(\"texture/colonna.jpg\")(cylndr)]), torus_top]), capital]), base_top]))\n",
    "VIEW(columna(4,16,2))"
   ]
  },
  {
   "attachments": {},
   "cell_type": "markdown",
   "metadata": {},
   "source": [
    "Foto colonna\n",
    "![colonnaTemp.png](img/colonnaTemp.png)"
   ]
  },
  {
   "cell_type": "code",
   "execution_count": 11,
   "metadata": {},
   "outputs": [],
   "source": [
    "def colonnato(piano):\n",
    "    piano=piano\n",
    "    colonna=columna(2,15.5,16)\n",
    "    colonnato=STRUCT([T([1,2,3])([24.5,9,-4.5])(colonna),T([1,2,3])([31.5,9,-4.5])(colonna),\n",
    "                      T([1,2,3])([38.25,9,-4.5])(colonna),T([1,2,3])([46.75,9,-4.5])(colonna),\n",
    "                      T([1,2,3])([53,9,-4.5])(colonna),T([1,2,3])([60,9,-4.5])(colonna),\n",
    "                      T([1,2,3])([24.5,14,-4.5])(colonna),T([1,2,3])([24.5,19,-4.5])(colonna),\n",
    "                      T([1,2,3])([60,14,-4.5])(colonna),T([1,2,3])([60,19,-4.5])(colonna),piano])\n",
    "    return colonnato\n",
    "#VIEW(colonnato(pianofin))\n",
    "def Gable (radius,h,n): \n",
    "    lastX = n*3*(2*radius*1.2)\n",
    "    triangle = MKPOL([[[0,0],[lastX,0],[lastX/2.0,h/2]],[[1,2,3]],[[1]]])\n",
    "    return R([2,3])(PI/2)(POWER([triangle,QUOTE([radius*15])]))\n",
    "\n",
    "def triangolo(piano):\n",
    "    lastra=COLOR([0.59,0.46,0.32])(CUBOID([39.5,15,0.5]))\n",
    "    porticaten=STRUCT([piano,T([1,2,3])([15.5,-1,30])(lastra)])\n",
    "    gable=Gable(1,19,5.5)\n",
    "    c=Gable(1,15,4.75)\n",
    "    gable=DIFFERENCE([gable,T(2)([20])(CUBOID([75,20,9]))])\n",
    "    c=DIFFERENCE([c,T(2)([20.3])(CUBOID([75,20,9]))])\n",
    "    gable=COLOR([0.59,0.46,0.32])(gable)\n",
    "    c=COLOR(WHITE)(c)\n",
    "    gable=STRUCT([gable,T([1,2,3])([2.75,0,0.75])(c)])\n",
    "    struttura = STRUCT([porticaten,T([1,2,3])([15.5,14,30.5])(gable)])\n",
    "    return struttura\n",
    "#VIEW(triangolo(groundzero(3)))"
   ]
  },
  {
   "attachments": {},
   "cell_type": "markdown",
   "metadata": {},
   "source": [
    "Foto colonnato\n",
    "![colonnato.png](img/colonnato.png)"
   ]
  },
  {
   "cell_type": "code",
   "execution_count": 12,
   "metadata": {},
   "outputs": [],
   "source": [
    "def iusscalam():\n",
    "    gradus1=CUBOID([1,7,10.5])\n",
    "    gradus2=CUBOID([1,7,9.75])\n",
    "    gradus3=CUBOID([1,7,9])\n",
    "    gradus4=CUBOID([1,7,8.25])\n",
    "    gradus5=CUBOID([1,7,7.5])\n",
    "    gradus6=CUBOID([1,7,6.75])\n",
    "    gradus7=CUBOID([1,7,6])\n",
    "    gradus8=CUBOID([1,7,5.25])\n",
    "    gradi=STRUCT([gradus8,T(1)(1)(gradus7),T(1)(2)(gradus6),T(1)(3)(gradus5),T(1)(4)(gradus4),\n",
    "                 T(1)(5)(gradus3),T(1)(6)(gradus2),T(1)(7)(gradus1)])\n",
    "    plata=CUBOID([8.5,7,4.5])\n",
    "    gradi=STRUCT([plata,T(1)(8.5)(gradi)])\n",
    "    gradus0=CUBOID([8.5,1,4.25])\n",
    "    gradus01=CUBOID([8.5,1,4])\n",
    "    gradus02=CUBOID([8.5,1,3.75])\n",
    "    gradus03=CUBOID([8.5,1,3.5])\n",
    "    gradus04=CUBOID([8.5,1,3.25])\n",
    "    gradus05=CUBOID([8.5,1,3])\n",
    "    gradus06=CUBOID([8.5,1,2.75])\n",
    "    gradus07=CUBOID([8.5,1,2.5])\n",
    "    gradus08=CUBOID([8.5,1,2.25])\n",
    "    gradus09=CUBOID([8.5,1,2.0])\n",
    "    grada=STRUCT([gradus0,T(2)(-1)(gradus01),T(2)(-2)(gradus02),T(2)(-3)(gradus03),T(2)(-4)(gradus04),\n",
    "                 T(2)(-5)(gradus05),T(2)(-6)(gradus06),T(2)(-7)(gradus07),T(2)(-8)(gradus08),\n",
    "                 T(2)(-9)(gradus09),T(2)(-13)(CUBOID([8.5,4,1.75])),T(2)(-14)(CUBOID([8.5,1,1.25])),\n",
    "                 T(2)(-15)(CUBOID([8.5,1,0.55])),T(2)(-16)(CUBOID([8.5,1,0.25]))])\n",
    "    gradinata=STRUCT([gradi,T(2)(-1)(grada)])\n",
    "    return gradinata\n",
    "#VIEW(iusscalam())\n"
   ]
  },
  {
   "cell_type": "code",
   "execution_count": 13,
   "metadata": {},
   "outputs": [],
   "source": [
    "def gradussinistram():\n",
    "    gradus1=CUBOID([1,7,10.5])\n",
    "    gradus2=CUBOID([1,7,9.75])\n",
    "    gradus3=CUBOID([1,7,9])\n",
    "    gradus4=CUBOID([1,7,8.25])\n",
    "    gradus5=CUBOID([1,7,7.5])\n",
    "    gradus6=CUBOID([1,7,6.75])\n",
    "    gradus7=CUBOID([1,7,6])\n",
    "    gradus8=CUBOID([1,7,5.25])\n",
    "    gradi=STRUCT([gradus1,T(1)(1)(gradus2),T(1)(2)(gradus3),T(1)(3)(gradus4),T(1)(4)(gradus5),\n",
    "                 T(1)(5)(gradus6),T(1)(6)(gradus7),T(1)(7)(gradus8)])\n",
    "    plata=CUBOID([8.5,7,4.5])\n",
    "    gradi=STRUCT([plata,T(1)(-8)(gradi)])\n",
    "    gradus0=CUBOID([8.5,1,4.25])\n",
    "    gradus01=CUBOID([8.5,1,4])\n",
    "    gradus02=CUBOID([8.5,1,3.75])\n",
    "    gradus03=CUBOID([8.5,1,3.5])\n",
    "    gradus04=CUBOID([8.5,1,3.25])\n",
    "    gradus05=CUBOID([8.5,1,3])\n",
    "    gradus06=CUBOID([8.5,1,2.75])\n",
    "    gradus07=CUBOID([8.5,1,2.5])\n",
    "    gradus08=CUBOID([8.5,1,2.25])\n",
    "    gradus09=CUBOID([8.5,1,2.0])\n",
    "    grada=STRUCT([gradus0,T(2)(-1)(gradus01),T(2)(-2)(gradus02),T(2)(-3)(gradus03),T(2)(-4)(gradus04),\n",
    "                 T(2)(-5)(gradus05),T(2)(-6)(gradus06),T(2)(-7)(gradus07),T(2)(-8)(gradus08),\n",
    "                 T(2)(-9)(gradus09),T(2)(-13)(CUBOID([8.5,4,1.75])),T(2)(-14)(CUBOID([8.5,1,1.25])),\n",
    "                 T(2)(-15)(CUBOID([8.5,1,0.55])),T(2)(-16)(CUBOID([8.5,1,0.25]))])\n",
    "    gradinata=STRUCT([gradi,T([2])([-1])(grada)])\n",
    "    return gradinata\n",
    "#VIEW(gradussinistram())"
   ]
  },
  {
   "attachments": {},
   "cell_type": "markdown",
   "metadata": {},
   "source": [
    "Foto scalinate\n",
    "![scalinata2.png](img/scalinata2.png)\n",
    "![scalinata1.png](img/scalinata1.png)"
   ]
  },
  {
   "cell_type": "code",
   "execution_count": 15,
   "metadata": {},
   "outputs": [],
   "source": [
    "def completamentopianoterra(pianocolonnato):\n",
    "    gradinoSX=gradussinistram()\n",
    "    gradinoDX=iusscalam()\n",
    "    return STRUCT([T([1,2])([62.5,7])(gradinoSX),pianocolonnato,T([2])([7])(gradinoDX)])\n",
    "#VIEW(completamentopianoterra(pianocolonnato))"
   ]
  },
  {
   "attachments": {},
   "cell_type": "markdown",
   "metadata": {},
   "source": [
    "![pianoconcolonnato.png](img/pianoconcolonnato.png)"
   ]
  },
  {
   "cell_type": "code",
   "execution_count": 16,
   "metadata": {},
   "outputs": [],
   "source": [
    "def firstfloor(h):\n",
    "    attic=groundzero(h)\n",
    "    finestregrandi=CUBOID([4,3,8])\n",
    "    finestregrandiF=CUBOID([3,3,8])\n",
    "    finestrepiccoline=CUBOID([4,3,6])\n",
    "    finestrelaterali=CUBOID([3,4,8])\n",
    "    finestrefrontali=STRUCT([T([2,3])([6,2])(finestrelaterali),T([2,3])([22,2])(finestrelaterali),T([2,3])([36,2])(finestrelaterali),\n",
    "                     T([1,2,3])([6,46,2])(finestregrandi),T([1,2,3])([62,46,2])(finestregrandi),T([1,2,3])([6,45,16])(CUBOID([4,3,3])),\n",
    "                    T([1,2,3])([68,6,2])(finestrelaterali),T([1,2,3])([68,22,2])(finestrelaterali),T([1,2,3])([68,36,2])(finestrelaterali),\n",
    "                    T([1,2,3])([20,46,2])(finestrepiccoline),T([1,2,3])([20,46,16])(CUBOID([4,3,3])),T([1,2,3])([29,46,2])(finestregrandiF),T([1,2,3])([34,45,2])(finestregrandi),\n",
    "                             T([1,2,3])([46.5,46,16])(CUBOID([4,3,3])),T([1,2,3])([39,46,2])(finestregrandiF),T([1,2,3])([62,45,16])(CUBOID([4,3,3])),\n",
    "                    T([1,2,3])([46.5,46,2])(finestrepiccoline),T([1,3])([20,2])(finestregrandi),T([1,2,3])([28,2])(finestregrandi),\n",
    "                    T([1,3])([6,2])(finestregrandi),T([1,3])([62,2])(finestregrandi),T([1,3])([46,2])(finestregrandi)])\n",
    "    porta=CUBOID([3,6,8])\n",
    "    portaprincipale=CUBOID([5,6,8])\n",
    "    portalaterale=CUBOID([6,3,8])\n",
    "    finestrefrontali=STRUCT([finestrefrontali,T(1)(33)(portaprincipale),T([1,2])([24,6])(portalaterale),T([1,2])([40,6])(portalaterale)\n",
    "                ,T([1,2])([8,12])(porta),T([1,2])([62,12])(porta)\n",
    "                ,T([1,2])([8,28])(porta),T([1,2])([62,28])(porta),T([1,2])([16,23])(portalaterale),T([1,2])([48,23])(portalaterale),\n",
    "                  T([1,2])([16,38])(portalaterale),T([1,2])([48,38])(portalaterale),\n",
    "                 T([1,2])([22,38])(portalaterale),T([1,2])([42,38])(portalaterale)])\n",
    "    attic=DIFFERENCE([attic,finestrefrontali])\n",
    "    return attic\n",
    "#VIEW(firstfloor(20))"
   ]
  },
  {
   "attachments": {},
   "cell_type": "markdown",
   "metadata": {},
   "source": [
    "foto primo piano con porte e finestre\n",
    "![primopiano.png](img/primopiano.png)"
   ]
  },
  {
   "cell_type": "code",
   "execution_count": 17,
   "metadata": {},
   "outputs": [],
   "source": [
    "def mansarda(h):\n",
    "    #costruisco stanza per stanza \n",
    "    stanza1=stanza(24,12,h)\n",
    "    stanza2=stanza(24,12,h)\n",
    "    stanza3=stanza(16,16,h)\n",
    "    stanza4=stanza(16,16,h)\n",
    "    stanza5=stanza(16,12,h)\n",
    "    stanza6=stanza(16,12,h)\n",
    "    stanza7=stanza(6,13,h)\n",
    "    stanza8=stanza(6,13,h)\n",
    "    primoasset=STRUCT([stanza1,T(1)(44)(stanza2)])\n",
    "    secondoasset=STRUCT([primoasset,T(2)(14)(stanza4),T(2)(32)(stanza6),T([1,2])([18,32])(stanza8)])\n",
    "    terzoasset=STRUCT([secondoasset,T([1,2])([52,14])(stanza3),T([1,2])([52,32])(stanza5),T([1,2])([44,32])(stanza7)])\n",
    "    porte=STRUCT([T([1,2])([34,45])(CUBOID([3,6,6])),T(1)(34)(CUBOID([3,6,6])),T([1,2])([24,6])(CUBOID([6,3,6])),T([1,2])([40,6])(CUBOID([6,3,6]))\n",
    "                ,T([1,2])([8,12])(CUBOID([3,6,6])),T([1,2])([62,12])(CUBOID([3,6,6]))\n",
    "                ,T([1,2])([8,28])(CUBOID([3,6,6])),T([1,2])([62,28])(CUBOID([3,6,6])),T([1,2])([16,23])(CUBOID([6,3,6])),T([1,2])([48,23])(CUBOID([6,3,6])),\n",
    "                  T([1,2])([16,38])(CUBOID([6,3,6])),T([1,2])([48,38])(CUBOID([6,3,6])),\n",
    "                 T([1,2])([22,38])(CUBOID([6,3,6])),T([1,2])([42,38])(CUBOID([6,3,6]))])\n",
    "    portefinestre=STRUCT([porte,T([1,2,3])([6,0,2])(CUBOID([4.01,4.01,5.01])),T([1,2,3])([62,0,2])(CUBOID([4.01,4.01,5.01])),T([2,3])([6,2])(CUBOID([4,4,5])),T([2,3])([22,2])(CUBOID([4,4,5])),T([2,3])([36,2])(CUBOID([4,4,5])),\n",
    "                     T([1,2,3])([6,46,2])(CUBOID([4,4,5])),T([1,2,3])([62,46,2])(CUBOID([4,4,5])),\n",
    "                    T([1,2,3])([68,6,2])(CUBOID([4,4,5])),T([1,2,3])([68,22,2])(CUBOID([4,4,5])),T([1,2,3])([68,36,2])(CUBOID([4,4,5])),\n",
    "                    T([1,2,3])([20,46,2])(CUBOID([4,4,5])),T([1,2,3])([28,46,2])(CUBOID([4,4,5])),T([1,2,3])([39,46,2])(CUBOID([4,4,5])),\n",
    "                    T([1,2,3])([46.5,46,2])(CUBOID([4,4,5]))])\n",
    "    terzoasset=DIFFERENCE([terzoasset,portefinestre])\n",
    "    return STRUCT([terzoasset,T(1)(27)(CUBOID([17,1,h])),T([1,2])([27,47])(CUBOID([17,1,h]))])\n",
    "#VIEW(mansarda(8))"
   ]
  },
  {
   "cell_type": "code",
   "execution_count": 18,
   "metadata": {},
   "outputs": [],
   "source": [
    "def soffittoatt(piano,h):\n",
    "    stanza1=TEXTURE(\"texture/parquet.jpg\")(CUBOID([25,13,1]))\n",
    "    stanza2=TEXTURE(\"texture/parquet.jpg\")(CUBOID([25,13,1]))\n",
    "    stanza3=TEXTURE(\"texture/marmo.jpeg\")(CUBOID([17,17,1]))\n",
    "    stanza4=TEXTURE(\"texture/marmo.jpeg\")(CUBOID([17,17,1]))\n",
    "    stanza5=TEXTURE(\"texture/pavimento.jpeg\")(CUBOID([17,13,1]))\n",
    "    stanza6=TEXTURE(\"texture/pavimento.jpeg\")(CUBOID([17,13,1]))\n",
    "    stanza7=TEXTURE(\"texture/parquet.jpeg\")(CUBOID([33,17,1]))\n",
    "    points=[[0,0],[3,0],[3,5.5],[7,5.5],[0,14],[7,14]]\n",
    "    edges = [[1,2,3,5],[3,4,6,5],[1,2],[2,3],[3,5],[5,1],[3,4],[4,6],[6,5],[5,3]]\n",
    "    stanza= MKPOL([points, edges, []])\n",
    "    stanza10=POWER([stanza,QUOTE([1])])\n",
    "    stanza10=TEXTURE(\"texture/parquet.jpg\")(stanza10)\n",
    "    stanza10=R([1,3])(PI)(stanza10)\n",
    "    stanza10=R([2,3])(PI)(stanza10)\n",
    "    primoasset=STRUCT([stanza1,T(1)(44)(stanza2)])\n",
    "    secondoasset=STRUCT([primoasset,T(2)(14)(stanza4),T(2)(32)(stanza6)])\n",
    "    terzoasset=STRUCT([secondoasset,T([1,2])([52,14])(stanza3),T([1,2])([52,32])(stanza5),T([1,2])([25,46])(stanza10),T([1,2])([51,46])(stanza10)])\n",
    "    pianta=STRUCT([piano,T([1,2,3])([1,1,h-1])(terzoasset)])\n",
    "    return pianta\n",
    "#VIEW(soffittoatt(firstfloor(20),20))"
   ]
  },
  {
   "cell_type": "code",
   "execution_count": null,
   "metadata": {},
   "outputs": [],
   "source": [
    "def tetto():\n",
    "    points=[[0,0,0],[71,0,0],[0,47,0],[71,47,0],[17.75,23.5,10],[53.25,23.5,10]]\n",
    "   # points=[[0,0,0],[0,32,0],[32,0,0],[32,32,0],[16,16,10]]\n",
    "    edges = [[1,2,3,4],[1,5,3],[2,6,4],[1,2,6,5],[4,5,6,3]]\n",
    "    tetto= MKPOL([points, edges, []])\n",
    "    return tetto\n",
    "VIEW(tetto())\n",
    "#edificio=STRUCT([edificio,T([2,3])([200,755])(tetto())])\n",
    "#VIEW(edificio)"
   ]
  },
  {
   "attachments": {},
   "cell_type": "markdown",
   "metadata": {},
   "source": [
    "![tetto.png](img/tetto.png)\n",
    "![tettocompleto.png](img/tettocompleto.png)\n",
    "![primopianosoffitto.png](img/primopianosoffitto.png)\n",
    "![primopianopavimento.png](img/primopianopavimento.png)"
   ]
  },
  {
   "cell_type": "code",
   "execution_count": 20,
   "metadata": {},
   "outputs": [],
   "source": [
    "def posizionafinestre(piano,livello):\n",
    "    if(livello==0):\n",
    "        finestra=R([1,2])(PI)(finestrepiccole())\n",
    "        finestralat=R([1,2])(-PI/2)(finestrepiccole())\n",
    "        finestralatd=R([1,2])(PI/2)(finestrepiccole())\n",
    "        nuovopiano=STRUCT([piano,T([2,3])([10,4])(finestralat),T([2,3])([26,4])(finestralat),T([2,3])([40,4])(finestralat),\n",
    "                     T([1,2,3])([10,47,4])(finestra),T([1,2,3])([66,47,4])(finestra),\n",
    "                    T([1,2,3])([71,6,4])(finestralatd),T([1,2,3])([71,22,4])(finestralatd),T([1,2,3])([71,36,4])(finestralatd),\n",
    "                    T([1,2,3])([24,48,4])(finestra),T([1,2,3])([32,48,4])(finestra),T([1,2,3])([43,48,4])(finestra),\n",
    "                    T([1,2,3])([50.5,48,4])(finestra)])\n",
    "    elif(livello==1):\n",
    "        finestregrand=finestregrandi()\n",
    "        finestregrandF=finestregrandiF()\n",
    "        finestrepiccolne=finestrepiccoline()\n",
    "        finestrelateral=R([1,2])(PI/2)(finestregrandi())\n",
    "        nuovopiano=STRUCT([piano,T([1,2,3])([1,6,2])(finestrelateral),T([1,2,3])([1,22,2])(finestrelateral),T([1,2,3])([1,36,2])(finestrelateral),\n",
    "                    T([1,2,3])([6,46,2])(finestregrandi()),T([1,2,3])([62,46,2])(finestregrandi()),T([1,2,3])([6,46,16])(buco()),\n",
    "                    T([1,2,3])([71,6,2])(finestrelateral),T([1,2,3])([71,22,2])(finestrelateral),T([1,2,3])([71,36,2])(finestrelateral),\n",
    "                    T([1,2,3])([20,47,2])(finestrepiccolne),T([1,2,3])([20,47,16])(buco()),T([1,2,3])([29,47,2])(finestregrandF),T([1,2,3])([34,47,2])(finestregrand),\n",
    "                    T([1,2,3])([46.5,47,16])(buco()),T([1,2,3])([39,47,2])(finestregrandF),T([1,2,3])([62,46,16])(buco()),\n",
    "                    T([1,2,3])([46.5,47,2])(finestrepiccolne),T([1,3])([20,2])(finestregrand),\n",
    "                    T([1,3])([6,2])(finestregrand),T([1,3])([62,2])(finestregrand),T([1,3])([46,2])(finestregrand)])\n",
    "    else:\n",
    "        finbal=finestraconbalaustra()\n",
    "        finbalL=R([1,2])(-PI/2)(finestraconbalaustra())\n",
    "        finbalR=R([1,2])(PI/2)(finestraconbalaustra())\n",
    "        finbalP=R([1,2])(PI)(finestraconbalaustra())\n",
    "        strutturabal=STRUCT([T([1,2,3])([6,0,2])(finbal),T([1,2,3])([62,0,2])(finbal),\n",
    "                             T([2,3])([10,2])(finbalL),T([2,3])([26,2])(finbalL),T([2,3])([40,2])(finbalL),\n",
    "                             T([1,2,3])([10,47,2])(finbalP),T([1,2,3])([66,47,2])(finbalP),\n",
    "                            T([1,2,3])([71,6,2])(finbalR),T([1,2,3])([71,22,2])(finbalR),T([1,2,3])([71,36,2])(finbalR),\n",
    "                            T([1,2,3])([24,48,2])(finbalP),\n",
    "                            T([1,2,3])([50.5,48,2])(finbalP)])\n",
    "        nuovopiano=STRUCT([piano,strutturabal])\n",
    "    return nuovopiano"
   ]
  },
  {
   "cell_type": "code",
   "execution_count": 42,
   "metadata": {},
   "outputs": [
    {
     "data": {
      "text/plain": [
       "<pyplasm.xgepy.Hpc; proxy of <Swig Object of type 'std::shared_ptr< Hpc > *' at 0x183d8d6d80> >"
      ]
     },
     "execution_count": 42,
     "metadata": {},
     "output_type": "execute_result"
    }
   ],
   "source": [
    "def pianocroce(h):\n",
    "    croce1=(stanza(16,45,h))\n",
    "    croce2=stanza(32,16,h)\n",
    "    croce=STRUCT([T([1,2])([-8,14])(croce2),croce1])\n",
    "    stanzacentrale=DIFFERENCE([croce,T(2)(15)(stanza(16,14,h))])\n",
    "    stanzacentrale=DIFFERENCE([stanzacentrale,T([1,2])([1,14])(stanza(14,16,h))])\n",
    "    finestre=STRUCT([T([1,3])([3,1])(CUBOID([3,2,3])),T([1,3])([7.5,1])(CUBOID([4,2,3])),T([1,3])([13,1])(CUBOID([3,2,3])),\n",
    "                    T([1,2,3])([3,46,1])(CUBOID([3,2,3])),T([1,2,3])([7.5,46,1])(CUBOID([4,2,3])),T([1,2,3])([13,46,1])(CUBOID([3,2,3]))])\n",
    "    points=[[0,0,0],[19,0,0],[0,48,0],[19,48,0],[9.5,0,5],[9.5,48,5]]\n",
    "    edges = [[1,2,6],[3,4,5],[1,3,5,6],[2,4,5,6]]\n",
    "    stanz=DIFFERENCE([stanzacentrale,finestre])\n",
    "    stanz=COLOR([0.9,0.8,0.7])(stanz)\n",
    "    finestramansarda_piccol=finestramansarda_piccola()\n",
    "    finestramansarda_grand=finestramansarda_grande()\n",
    "    finestre=STRUCT([T([1,3])([3,1])(finestramansarda_piccol),T([1,3])([7.5,1])(finestramansarda_grand),T([1,3])([13,1])(finestramansarda_piccol),\n",
    "                    T([1,2,3])([3,47,1])(finestramansarda_piccol),T([1,2,3])([7.5,47,1])(finestramansarda_grand),T([1,2,3])([13,47,1])(finestramansarda_piccol)])\n",
    "    stanz=STRUCT([stanz,finestre])\n",
    "    tetto= MKPOL([points, edges, []])\n",
    "    tetto=JOIN([tetto])\n",
    "    tetto=TEXTURE([\"texture/tetto2.jpg\",True,True,0.0,0.0,0.0,4.0,4.0,0.0,0.0])(tetto)\n",
    "    return TOP([stanz,tetto])\n",
    "#VIEW(pianocroce(5))"
   ]
  },
  {
   "attachments": {
    "mansardaconfinestre.png": {
     "image/png": "[encoded data removed]"
    }
   },
   "cell_type": "markdown",
   "metadata": {},
   "source": [
    "![finestre.png](img/finestre.png)\n",
    "![mansardaconfinestre.png](attachment:mansardaconfinestre.png)\n",
    "![tettocompleto.png](img/tettocompleto.png)"
   ]
  },
  {
   "cell_type": "code",
   "execution_count": 23,
   "metadata": {},
   "outputs": [],
   "source": [
    "### SCALE ###\n",
    "def CIRCLE(R):\n",
    "  \"\"\"\n",
    "  >>> CIRCLE(1.0)([8,8]).box()\n",
    "  Box([-1.0, -1.0], [1.0, 1.0])\n",
    "  \"\"\"\n",
    "  def CIRCLE0(subs):\n",
    "    N , M = subs\n",
    "    domain= POWER([INTERVALS(PI/9)(N), INTERVALS(R)(M)])\n",
    "    fun=lambda p: [p[1]*cos(p[0]),p[1]*sin(p[0])]\n",
    "    return MAP(fun)(domain)\n",
    "  return CIRCLE0\n",
    "def chiocciola(h,w,n):\n",
    "    step=[POWER([CIRCLE(5)([8,8]),QUOTE([1])])]\n",
    "    step.append(T([1,3])([0,-w]))\n",
    "    step.append(R([1,2])(PI/9))\n",
    "    step.append(T(3)(1)(MY_CYLINDER([1,1])(24)))\n",
    "    return T(3)((n-1)*h)(COMP([STRUCT, NN(n)])(step))\n",
    "#VIEW(chiocciola(10,1,10))"
   ]
  },
  {
   "attachments": {},
   "cell_type": "markdown",
   "metadata": {},
   "source": [
    "scale a chiocciola con se senza texture\n",
    "![scala.png](img/scala.png)"
   ]
  },
  {
   "cell_type": "code",
   "execution_count": null,
   "metadata": {},
   "outputs": [],
   "source": [
    "def halfSphere (radius):\n",
    "    '''\n",
    "    generates the model of the upper half of a sphere\n",
    "    @param: radius\n",
    "    '''\n",
    "    def GSPHERE0 (subds):\n",
    "        N , M = subds\n",
    "        domain = Hpc(Grid([N*[PI/N],M*[PI/M]]))\n",
    "        domain = MAT([[1,0,0,0],[-PI*2,1,0,0],[-PI,0,1,0],[0,0,0,1]])(domain)\n",
    "        fx  = lambda p: radius * math.cos(p[0]) * math.sin  (p[1])\n",
    "        fy  = lambda p: radius * math.cos(p[0]) * math.cos (p[1])\n",
    "        fz  = lambda p: radius * math.sin(p[0])\n",
    "        ret=  GMAP([fx, fy, fz])(domain)\n",
    "        return R([1,2])(PI)(ret)\n",
    "    return GSPHERE0\n",
    "#VIEW(JOIN(halfSphere(1.25)([12,12])))\n",
    "def camino(dm,h):\n",
    "    cylndr = COMP([JOIN,TRUNCONE([dm/2.75,dm/2.75,h])])(32) \n",
    "    cylndr3 = COMP([JOIN,TRUNCONE([dm/2.4,0.9*(dm/2),2])])(16)    \n",
    "    base_top=TOP([R([1,3])(PI)(cylndr3),halfSphere(2.1)([12,12])])\n",
    "    cubo=CUBOID([4,4,10])\n",
    "    cylndr2=COMP([JOIN,TRUNCONE([0.25,0.8*(0.25),h/5])])(32)\n",
    "    sfera2=JOIN(SPHERE(0.25)([12,12]))\n",
    "    topo=TOP([cylndr2,sfera2])\n",
    "    topo=TOP([base_top,topo])\n",
    "    cylndr=TOP([cylndr,topo])\n",
    "    return TOP([cubo,cylndr])\n",
    "#VIEW(camino(5,10))"
   ]
  },
  {
   "attachments": {},
   "cell_type": "markdown",
   "metadata": {},
   "source": [
    "![camino.png](img/camino\n",
    ".png)"
   ]
  },
  {
   "cell_type": "code",
   "execution_count": null,
   "metadata": {},
   "outputs": [
    {
     "name": "stdout",
     "output_type": "stream",
     "text": [
      "('Child', 3)\n",
      "('Child', 3)\n",
      "('Child', 3)\n",
      "('Child', 3)\n",
      "('Child', 3)\n",
      "('Child', 3)\n",
      "('Child', 3)\n",
      "('Child', 3)\n",
      "('Child', 3)\n",
      "('Child', 3)\n",
      "('Child', 3)\n",
      "('Child', 3)\n",
      "('Child', 3)\n",
      "('Child', 3)\n",
      "('Child', 3)\n",
      "('Child', 3)\n",
      "('Child', 3)\n",
      "('Child', 3)\n",
      "('Child', 3)\n",
      "('Child', 3)\n"
     ]
    },
    {
     "data": {
      "text/plain": [
       "<pyplasm.xgepy.Hpc; proxy of <Swig Object of type 'std::shared_ptr< Hpc > *' at 0x182f1ff750> >"
      ]
     },
     "execution_count": 69,
     "metadata": {},
     "output_type": "execute_result"
    }
   ],
   "source": [
    "piano=mettiporte()\n",
    "pianofin=COLOR([0.9,0.8,0.7])(mettifinestre(piano))\n",
    "pianofin=posizionafinestre(pianofin,0)\n",
    "#VIEW(pianofin)\n",
    "pianofin=porticatofrontale(pianofin)\n",
    "pianofin=pavimento(pianofin)\n",
    "VIEW(pianofin)\n",
    "scala=R([1,2])(-PI/2)(chiocciola(22,1,22))\n",
    "scala2=scala\n",
    "scala=S([1,2,3])([0.5,0.5,0.5])(scala)\n",
    "scala2=S([1,2,3])([0.5,0.5,0.5])(scala2)\n",
    "\n",
    "pianofin=STRUCT([pianofin,T([1,2,3])([23,49.5,-220])(scala),T([1,2,3])([49,49.5,-220])(scala2)])\n",
    "pianofin=soffitto(pianofin)\n",
    "#VIEW(pianofin)\n",
    "pianocolonnato=colonnato(pianofin)\n",
    "pianoterra=triangolo(pianocolonnato)\n",
    "pianoterra=completamentopianoterra(pianoterra)\n",
    "VIEW(pianoterra)\n",
    "c=Gable(1,16,4.75)\n",
    "c=COLOR(WHITE)(c)\n",
    "\n",
    "\n",
    "#VIEW(pianoterra)\n",
    "attic =COLOR([0.9,0.8,0.7])(firstfloor(20))\n",
    "attic =posizionafinestre(attic,1)\n",
    "#VIEW(attic)\n",
    "scala=R([1,2])(-PI/2-((PI/9)*9))(chiocciola(40,1,40))\n",
    "scala2=scala\n",
    "scala=S([1,2,3])([0.5,0.5,0.5])(scala)\n",
    "scala2=S([1,2,3])([0.5,0.5,0.5])(scala2)\n",
    "\n",
    "attic=STRUCT([attic,T([1,2,3])([23,43.5,-760.5])(scala),T([1,2,3])([49,43.5,-760.5])(scala2)])\n",
    "\n",
    "attic=soffittoatt(attic,20)\n",
    "#VIEW(STRUCT([pianoterra,T([2,3])([14,11])(attic)]))\n",
    "\n",
    "mansardas=COLOR([0.9,0.8,0.7])(mansarda(8))\n",
    "mansardas=soffittoatt(mansardas,8)\n",
    "mansardas=posizionafinestre(mansardas,3)\n",
    "VIEW(mansardas)\n",
    "#VIEW(STRUCT([pianoterra,T([2,3])([14,11])(attic),T([2,3])([14,31])(mansardas)])\n",
    "#tettos=TEXTURE([\"texture/tetto2.jpg\",True,True,0.0,0.0,0.0,4.0,4.0,0.0,0.0])(tetto())\n",
    "#edificio=STRUCT([pianoterra,T([2,3])([14,11])(attic),T([2,3])([14,31])(mansardas)])\n",
    "#edificio=STRUCT([edificio,T([2,3])([14,39])(tettos)])\n",
    "#edificio=STRUCT([edificio,T([1,2,3])([26,14,39])(pianocroce(5))])\n",
    "#VIEW(edificio)\n"
   ]
  },
  {
   "cell_type": "code",
   "execution_count": 25,
   "metadata": {},
   "outputs": [],
   "source": []
  },
  {
   "cell_type": "code",
   "execution_count": 52,
   "metadata": {},
   "outputs": [
    {
     "data": {
      "text/plain": [
       "<pyplasm.xgepy.Hpc; proxy of <Swig Object of type 'std::shared_ptr< Hpc > *' at 0x182f1e4360> >"
      ]
     },
     "execution_count": 52,
     "metadata": {},
     "output_type": "execute_result"
    }
   ],
   "source": []
  },
  {
   "cell_type": "code",
   "execution_count": 29,
   "metadata": {},
   "outputs": [
    {
     "data": {
      "text/plain": [
       "<pyplasm.xgepy.Hpc; proxy of <Swig Object of type 'std::shared_ptr< Hpc > *' at 0x180e358f00> >"
      ]
     },
     "execution_count": 29,
     "metadata": {},
     "output_type": "execute_result"
    }
   ],
   "source": [
    "VIEW(pianocroce(5))"
   ]
  },
  {
   "cell_type": "code",
   "execution_count": 27,
   "metadata": {},
   "outputs": [],
   "source": []
  },
  {
   "cell_type": "code",
   "execution_count": null,
   "metadata": {},
   "outputs": [],
   "source": []
  },
  {
   "cell_type": "code",
   "execution_count": null,
   "metadata": {},
   "outputs": [],
   "source": []
  },
  {
   "cell_type": "code",
   "execution_count": null,
   "metadata": {},
   "outputs": [],
   "source": []
  },
  {
   "cell_type": "code",
   "execution_count": null,
   "metadata": {},
   "outputs": [],
   "source": []
  },
  {
   "cell_type": "code",
   "execution_count": null,
   "metadata": {},
   "outputs": [],
   "source": []
  },
  {
   "cell_type": "code",
   "execution_count": null,
   "metadata": {},
   "outputs": [],
   "source": []
  },
  {
   "cell_type": "code",
   "execution_count": null,
   "metadata": {},
   "outputs": [],
   "source": []
  }
 ],
 "metadata": {
  "kernelspec": {
   "display_name": "Python 2",
   "language": "python",
   "name": "python2"
  },
  "language_info": {
   "codemirror_mode": {
    "name": "ipython",
    "version": 2
   },
   "file_extension": ".py",
   "mimetype": "text/x-python",
   "name": "python",
   "nbconvert_exporter": "python",
   "pygments_lexer": "ipython2",
   "version": "2.7.14"
  }
 },
 "nbformat": 4,
 "nbformat_minor": 2
}
