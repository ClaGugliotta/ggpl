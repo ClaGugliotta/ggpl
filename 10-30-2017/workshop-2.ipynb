{
 "cells": [
  {
   "cell_type": "markdown",
   "metadata": {},
   "source": [
    "My Library \n",
    "======"
   ]
  },
  {
   "cell_type": "markdown",
   "metadata": {},
   "source": [
    "http://www.ikea.com/it/it/catalog/products/00263850/\n",
    "![Billy.png](attachment:Billy.png)"
   ]
  },
  {
   "cell_type": "markdown",
   "metadata": {},
   "source": [
    "costruisce una libreria simile alla libreria Billy,\n",
    "n serve ad impostare quante librerie affiancate ci sono.\n",
    "m l'altezza e k la profondità.\n",
    "La libreria che viene prodotta è di un color marrone."
   ]
  },
  {
   "cell_type": "code",
   "execution_count": 1,
   "metadata": {},
   "outputs": [
    {
     "name": "stdout",
     "output_type": "stream",
     "text": [
      "Evaluating fenvs.py..\n",
      "...fenvs.py imported in 0.005932 seconds\n"
     ]
    }
   ],
   "source": [
    "from pyplasm import *"
   ]
  },
  {
   "cell_type": "code",
   "execution_count": null,
   "metadata": {},
   "outputs": [],
   "source": [
    "def mylibrary(n,m,k):\n",
    "    xRithm = [0.7, -15]*n\n",
    "    xRithm.append(0.7)\n",
    "    yRithm = [-5, 0.7]*m\n",
    "    yRithm.append(-1.5)\n",
    "    yRithm = yRithm[::-1]\n",
    "    yRithm.append(0.7)\n",
    "    xVoid = [ -x for x in xRithm ]\n",
    "    yVoid = [ -y for y in yRithm ]\n",
    "    zRithm = [k]\n",
    "    temp1 = PROD([PROD([QUOTE(xRithm), QUOTE(yRithm)]), QUOTE(zRithm)])\n",
    "    temp2 = PROD([PROD([QUOTE(xVoid), QUOTE(yRithm)]), QUOTE(zRithm)])\n",
    "    temp3 = PROD([PROD([QUOTE(xRithm), QUOTE(yVoid)]), QUOTE(zRithm)])\n",
    "    facade = STRUCT([temp1,temp2,temp3])\n",
    "    xCoord = (0.7+15)*n + 0.7\n",
    "    yCoord = (0.7+5)*m + 2.2\n",
    "    zCoord = 0.7\n",
    "    backPanel = CUBOID([xCoord, yCoord, zCoord])\n",
    "    basePanel = CUBOID([xCoord, 1.5, k-0.7])\n",
    "    return STRUCT([COLOR(BROWN),facade,COLOR(BROWN), backPanel,COLOR(BROWN), basePanel])"
   ]
  },
  {
   "cell_type": "code",
   "execution_count": null,
   "metadata": {},
   "outputs": [],
   "source": [
    "VIEW(mylibrary(1,5,8))"
   ]
  },
  {
   "cell_type": "markdown",
   "metadata": {},
   "source": [
    "![billy-python.png](attachment:billy-python.png)"
   ]
  },
  {
   "cell_type": "markdown",
   "metadata": {},
   "source": [
    "![billy-python2.png](attachment:billy-python2.png)"
   ]
  },
  {
   "cell_type": "code",
   "execution_count": null,
   "metadata": {
    "collapsed": true
   },
   "outputs": [],
   "source": []
  }
 ],
 "metadata": {
  "kernelspec": {
   "display_name": "Python 2",
   "language": "python",
   "name": "python2"
  },
  "language_info": {
   "codemirror_mode": {
    "name": "ipython",
    "version": 2
   },
   "file_extension": ".py",
   "mimetype": "text/x-python",
   "name": "python",
   "nbconvert_exporter": "python",
   "pygments_lexer": "ipython2",
   "version": "2.7.14"
  }
 },
 "nbformat": 4,
 "nbformat_minor": 1
}
