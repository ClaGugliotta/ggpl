{
 "cells": [
  {
   "cell_type": "markdown",
   "metadata": {},
   "source": [
    "Facade\n",
    "======\n",
    "Script 1.5.6 pagina 44\n",
    "---------------------"
   ]
  },
  {
   "cell_type": "raw",
   "metadata": {},
   "source": [
    "Codice PLaSM\n",
    "1.5.6\n",
    "\n",
    "DEF facade (n,m::IsIntPos) = STRUCT:<Q:xRithm * Q:yRithm,Q:xVoid * Q:yRithm,Q:xRithm * Q:yVoid ,@1:(Q:xVoid * Q:yVoid) >\n",
    "WHERE\n",
    "    xRithm = ##:n:<5,-2,-5,-2> AR 5,\n",
    "    yRithm = ##:m:<7,-5,-2> AR 7,\n",
    "    xVoid = AA:-:xRithm,\n",
    "    yVoid = AA:-:yRithm\n",
    "END;"
   ]
  },
  {
   "cell_type": "code",
   "execution_count": 1,
   "metadata": {},
   "outputs": [
    {
     "name": "stdout",
     "output_type": "stream",
     "text": [
      "Evaluating fenvs.py..\n",
      "...fenvs.py imported in 0.005164 seconds\n"
     ]
    }
   ],
   "source": [
    "import larlib"
   ]
  },
  {
   "cell_type": "code",
   "execution_count": 2,
   "metadata": {},
   "outputs": [],
   "source": [
    "def facade(n,m) :\n",
    "    xRithm = [5,-2,-5,-2]\n",
    "    xRithm = xRithm * n\n",
    "    xRithm.append(5)\n",
    "    yRithm = [7,-5,-2]\n",
    "    yRithm = yRithm * m \n",
    "    yRithm.append(7)\n",
    "    xVoid=[]\n",
    "    yVoid=[]\n",
    "    for x in range (0,len(xRithm),1):\n",
    "        xVoid.append(-xRithm[x])\n",
    "    for y in range (0,len(yRithm),1):\n",
    "        yVoid.append(-yRithm[y])\n",
    "    \n",
    "    results = STRUCT([PROD(Q(xRithm),Q(yRithm)),PROD(xVoid,yRithm),PROD(xRithm,yVoid)])\n",
    "    return results\n",
    "    "
   ]
  },
  {
   "cell_type": "code",
   "execution_count": 3,
   "metadata": {},
   "outputs": [
    {
     "ename": "NameError",
     "evalue": "global name 'STRUCT' is not defined",
     "output_type": "error",
     "traceback": [
      "\u001b[0;31m---------------------------------------------------------------------------\u001b[0m",
      "\u001b[0;31mNameError\u001b[0m                                 Traceback (most recent call last)",
      "\u001b[0;32m<ipython-input-3-65b8e427a66b>\u001b[0m in \u001b[0;36m<module>\u001b[0;34m()\u001b[0m\n\u001b[0;32m----> 1\u001b[0;31m \u001b[0mfacade\u001b[0m\u001b[0;34m(\u001b[0m\u001b[0;36m4\u001b[0m\u001b[0;34m,\u001b[0m\u001b[0;36m6\u001b[0m\u001b[0;34m)\u001b[0m\u001b[0;34m\u001b[0m\u001b[0m\n\u001b[0m",
      "\u001b[0;32m<ipython-input-2-de3d1e2cd99b>\u001b[0m in \u001b[0;36mfacade\u001b[0;34m(n, m)\u001b[0m\n\u001b[1;32m     12\u001b[0m     \u001b[0;32mfor\u001b[0m \u001b[0my\u001b[0m \u001b[0;32min\u001b[0m \u001b[0mrange\u001b[0m \u001b[0;34m(\u001b[0m\u001b[0;36m0\u001b[0m\u001b[0;34m,\u001b[0m\u001b[0mlen\u001b[0m\u001b[0;34m(\u001b[0m\u001b[0myRithm\u001b[0m\u001b[0;34m)\u001b[0m\u001b[0;34m,\u001b[0m\u001b[0;36m1\u001b[0m\u001b[0;34m)\u001b[0m\u001b[0;34m:\u001b[0m\u001b[0;34m\u001b[0m\u001b[0m\n\u001b[1;32m     13\u001b[0m         \u001b[0myVoid\u001b[0m\u001b[0;34m.\u001b[0m\u001b[0mappend\u001b[0m\u001b[0;34m(\u001b[0m\u001b[0;34m-\u001b[0m\u001b[0myRithm\u001b[0m\u001b[0;34m[\u001b[0m\u001b[0my\u001b[0m\u001b[0;34m]\u001b[0m\u001b[0;34m)\u001b[0m\u001b[0;34m\u001b[0m\u001b[0m\n\u001b[0;32m---> 14\u001b[0;31m     \u001b[0mresults\u001b[0m \u001b[0;34m=\u001b[0m \u001b[0mSTRUCT\u001b[0m\u001b[0;34m(\u001b[0m\u001b[0;34m[\u001b[0m\u001b[0mPROD\u001b[0m\u001b[0;34m(\u001b[0m\u001b[0mQ\u001b[0m\u001b[0;34m(\u001b[0m\u001b[0mxRithm\u001b[0m\u001b[0;34m)\u001b[0m\u001b[0;34m,\u001b[0m\u001b[0mQ\u001b[0m\u001b[0;34m(\u001b[0m\u001b[0myRithm\u001b[0m\u001b[0;34m)\u001b[0m\u001b[0;34m)\u001b[0m\u001b[0;34m,\u001b[0m\u001b[0mPROD\u001b[0m\u001b[0;34m(\u001b[0m\u001b[0mxVoid\u001b[0m\u001b[0;34m,\u001b[0m\u001b[0myRithm\u001b[0m\u001b[0;34m)\u001b[0m\u001b[0;34m,\u001b[0m\u001b[0mPROD\u001b[0m\u001b[0;34m(\u001b[0m\u001b[0mxRithm\u001b[0m\u001b[0;34m,\u001b[0m\u001b[0myVoid\u001b[0m\u001b[0;34m)\u001b[0m\u001b[0;34m]\u001b[0m\u001b[0;34m)\u001b[0m\u001b[0;34m\u001b[0m\u001b[0m\n\u001b[0m\u001b[1;32m     15\u001b[0m     \u001b[0;32mreturn\u001b[0m \u001b[0mresults\u001b[0m\u001b[0;34m\u001b[0m\u001b[0m\n\u001b[1;32m     16\u001b[0m \u001b[0;34m\u001b[0m\u001b[0m\n",
      "\u001b[0;31mNameError\u001b[0m: global name 'STRUCT' is not defined"
     ]
    }
   ],
   "source": [
    "facade(4,6)"
   ]
  },
  {
   "cell_type": "code",
   "execution_count": null,
   "metadata": {
    "collapsed": true
   },
   "outputs": [],
   "source": []
  }
 ],
 "metadata": {
  "kernelspec": {
   "display_name": "Python 2",
   "language": "python",
   "name": "python2"
  },
  "language_info": {
   "codemirror_mode": {
    "name": "ipython",
    "version": 2
   },
   "file_extension": ".py",
   "mimetype": "text/x-python",
   "name": "python",
   "nbconvert_exporter": "python",
   "pygments_lexer": "ipython2",
   "version": "2.7.13"
  }
 },
 "nbformat": 4,
 "nbformat_minor": 2
}
