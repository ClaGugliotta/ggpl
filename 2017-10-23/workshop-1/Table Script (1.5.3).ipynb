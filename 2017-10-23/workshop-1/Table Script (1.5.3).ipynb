{
 "cells": [
  {
   "cell_type": "markdown",
   "metadata": {},
   "source": [
    "Table\n",
    "===\n",
    "script 1.5.3 (Table Model) pagina 27\n",
    "----------------------------------"
   ]
  },
  {
   "cell_type": "raw",
   "metadata": {},
   "source": [
    " Codice PLaSM \n",
    "DEF Leg = CUBOID:< 0.1,0.1,0.7 >;\n",
    "DEF Plane = CUBOID:< 1, 1, 0.2>;\n",
    "DEF Table = STRUCT:<Leg, T:1:0.9, Leg, T:2:0.9, Leg, T:1:-0.9, Leg,T:<2,3>:<-0.9,0.7>, Plane >;\n",
    "DEF Table1 = STRUCT:<Leg, T:1:0.9:Leg, T:<1,2><0.9,0.9>:Leg, T:2:0.9:Leg, T:3:0.7:Plane >;\n",
    "VRML: Table:'out.wrl';"
   ]
  },
  {
   "cell_type": "markdown",
   "metadata": {},
   "source": [
    "    * Codice PyPlasm ( Python ) *\n",
    "Di seguito la trasformazione del codice PLaSM in codice PyPlasm.\n",
    "Che crea due tavoli:\n",
    "- Table : trasla i piedi ( Leg ) e il piano ( Plane ) rispetto alla traslazione totale di tutti gli oggetti che lo precedono \n",
    "- Table1 : la traslazione di ogni oggetto è assoluta rispetto all'origine (0,0,0)"
   ]
  },
  {
   "cell_type": "code",
   "execution_count": 6,
   "metadata": {},
   "outputs": [],
   "source": [
    "from pyplasm import *"
   ]
  },
  {
   "cell_type": "code",
   "execution_count": 8,
   "metadata": {},
   "outputs": [],
   "source": [
    "Leg=CUBOID([0.1,0.1,0.7])\n",
    "plane=CUBOID([1,1,0.2])\n",
    "Table=STRUCT([Leg, T(1)(0.9), Leg , T(2)(0.9), Leg , T(1)(-0.9) ,Leg , T([2,3])([-0.9,0.7]),plane])\n",
    "Table1=STRUCT([Leg, T(1)(0.9)(Leg), T([1,2])([0.9,0.9])(Leg), T(2)(0.9)(Leg), T(3)(0.7)(plane)])"
   ]
  },
  {
   "cell_type": "code",
   "execution_count": null,
   "metadata": {
    "collapsed": true
   },
   "outputs": [],
   "source": [
    "VIEW(Table)"
   ]
  },
  {
   "cell_type": "markdown",
   "metadata": {
    "collapsed": true
   },
   "source": [
    "![Table.png](attachment:Table.png)"
   ]
  },
  {
   "cell_type": "code",
   "execution_count": null,
   "metadata": {
    "collapsed": true
   },
   "outputs": [],
   "source": [
    ""
   ]
  }
 ],
 "metadata": {
  "kernelspec": {
   "display_name": "Python 2",
   "language": "python",
   "name": "python2"
  },
  "language_info": {
   "codemirror_mode": {
    "name": "ipython",
    "version": 2.0
   },
   "file_extension": ".py",
   "mimetype": "text/x-python",
   "name": "python",
   "nbconvert_exporter": "python",
   "pygments_lexer": "ipython2",
   "version": "2.7.13"
  }
 },
 "nbformat": 4,
 "nbformat_minor": 0
}