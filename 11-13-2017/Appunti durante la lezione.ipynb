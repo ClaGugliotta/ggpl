{
 "cells": [
  {
   "cell_type": "markdown",
   "metadata": {},
   "source": [
    "Appunti del 13 novembre\n",
    "======================="
   ]
  },
  {
   "cell_type": "markdown",
   "metadata": {},
   "source": [
    "Funzione Map( [x,y] )( Dom ): applica una funzione vettoriale ai vertici di un intervallo tra 0 e 2Pi( Dom )\n",
    "\t\t\t   Dom non è altro che un array. \n",
    "\t\t\t   x=lamda p: r * cos( p[0] )"
   ]
  },
  {
   "cell_type": "code",
   "execution_count": 1,
   "metadata": {},
   "outputs": [
    {
     "name": "stdout",
     "output_type": "stream",
     "text": [
      "Evaluating fenvs.py..\n",
      "...fenvs.py imported in 0.00473592023059 seconds\n"
     ]
    },
    {
     "name": "stderr",
     "output_type": "stream",
     "text": [
      "c:\\programmi\\python27\\lib\\site-packages\\larlib\\larstruct.py:233: FutureWarning: comparison to `None` will result in an elementwise object comparison in the future.\n",
      "  self.body = [item for item in data if item != None]\n"
     ]
    },
    {
     "data": {
      "text/plain": [
       "<pyplasm.xgepy.Hpc; proxy of <Swig Object of type 'std::shared_ptr< Hpc > *' at 0x000000000DC6CED0> >"
      ]
     },
     "execution_count": 1,
     "metadata": {},
     "output_type": "execute_result"
    }
   ],
   "source": [
    "from larlib import *\n",
    "\n",
    "x= lambda p : cos( p[0] ) \n",
    "y= lambda p : sin( p[0] )\n",
    "dom= INTERVALS(2*PI)(32)  \n",
    "MAP([x,y])(dom) # ho generato un valore geometrico una circonferenza, se voglio una porzione di circonferenza dovrò lavorare sul dominio\t\n",
    "dom= T(1)(PI/4)(INTERVALS(2*PI)(32)) # traslo la circonferenza di Pi greco quarti \n",
    "VIEW(MAP([x,y])(dom))"
   ]
  },
  {
   "cell_type": "markdown",
   "metadata": {},
   "source": [
    "![cerchi.PNG](attachment:cerchi.PNG)"
   ]
  },
  {
   "cell_type": "code",
   "execution_count": 2,
   "metadata": {},
   "outputs": [
    {
     "data": {
      "text/plain": [
       "<pyplasm.xgepy.Hpc; proxy of <Swig Object of type 'std::shared_ptr< Hpc > *' at 0x000000000D966060> >"
      ]
     },
     "execution_count": 2,
     "metadata": {},
     "output_type": "execute_result"
    }
   ],
   "source": [
    "#voglio costruire una corona circolare\n",
    "# il raggio lo chiamo v, l'angolo u. Ora v non è più fisso, varia tra un minimo e un massimo.\n",
    "# u varia sempre tra 0 e 2PI, v tra 0 e R \n",
    "\n",
    "R = 1\n",
    "x = lambda (v,u) : v * cos(u)\n",
    "y = lambda (v,u) : v * cos(u)\n",
    "dom = PROD([INTERVALS(2*PI)(32),INTERVALS(R)(32)])\n",
    "MAP([x,y])(dom)\n",
    "VIEW(MAP([x,y])(dom))"
   ]
  },
  {
   "cell_type": "markdown",
   "metadata": {},
   "source": [
    "![linea.PNG](attachment:linea.PNG)"
   ]
  },
  {
   "cell_type": "code",
   "execution_count": 3,
   "metadata": {},
   "outputs": [
    {
     "data": {
      "text/plain": [
       "<pyplasm.xgepy.Hpc; proxy of <Swig Object of type 'std::shared_ptr< Hpc > *' at 0x000000000D883990> >"
      ]
     },
     "execution_count": 3,
     "metadata": {},
     "output_type": "execute_result"
    }
   ],
   "source": [
    "#per trasformarlo in una corona devo cambiare il dominio\n",
    "\n",
    "dom = T(2)(0.5)(PROD([INTERVALS(2*PI)(32),INTERVALS(R/2)(32)]))\n",
    "VIEW(MAP([x,y])(dom))"
   ]
  },
  {
   "cell_type": "markdown",
   "metadata": {},
   "source": [
    "![linea.PNG](attachment:linea.PNG)"
   ]
  },
  {
   "cell_type": "code",
   "execution_count": 21,
   "metadata": {},
   "outputs": [
    {
     "data": {
      "text/plain": [
       "<pyplasm.xgepy.Hpc; proxy of <Swig Object of type 'std::shared_ptr< Hpc > *' at 0x000000000DDDD960> >"
      ]
     },
     "execution_count": 21,
     "metadata": {},
     "output_type": "execute_result"
    }
   ],
   "source": [
    "#funzione per una corona circolare\n",
    "\n",
    "\n",
    "def ring(args):\n",
    "    R1, R2 = args\n",
    "    x = lambda (u,v): v*cos(u)\n",
    "    y = lambda (u,v): v*sin(u)\n",
    "    dom = T(2)(R1)(PROD([INTERVALS(2*PI)(32), INTERVALS(R2-R1)(32)]))\n",
    "    return MAP([x,y])(dom)\n",
    "VIEW(ring([2,3]))"
   ]
  },
  {
   "cell_type": "code",
   "execution_count": 4,
   "metadata": {},
   "outputs": [
    {
     "data": {
      "text/plain": [
       "<pyplasm.xgepy.Hpc; proxy of <Swig Object of type 'std::shared_ptr< Hpc > *' at 0x000000000DEA8930> >"
      ]
     },
     "execution_count": 4,
     "metadata": {},
     "output_type": "execute_result"
    }
   ],
   "source": [
    "#CURVA DI BEZIER \n",
    "\n",
    "b=BEZIER(S1)([[0,0],[1,0],[0,1],[0,0]])\n",
    "VIEW(MAP(b)(INTERVALS(1)(32)))"
   ]
  },
  {
   "cell_type": "markdown",
   "metadata": {},
   "source": [
    "![Curva%20di%20Berzier%201.PNG](attachment:Curva%20di%20Berzier%201.PNG)"
   ]
  },
  {
   "cell_type": "code",
   "execution_count": 22,
   "metadata": {},
   "outputs": [
    {
     "data": {
      "text/plain": [
       "<pyplasm.xgepy.Hpc; proxy of <Swig Object of type 'std::shared_ptr< Hpc > *' at 0x000000000DDDD0C0> >"
      ]
     },
     "execution_count": 22,
     "metadata": {},
     "output_type": "execute_result"
    }
   ],
   "source": [
    "b=BEZIER(S1)([[0,0],[1,0],[0,0],[0,1],[0,0]])\n",
    "VIEW(MAP(b)(INTERVALS(1)(32)))"
   ]
  },
  {
   "cell_type": "markdown",
   "metadata": {},
   "source": [
    "![Curva%20di%20Berzier%202.PNG](attachment:Curva%20di%20Berzier%202.PNG)"
   ]
  },
  {
   "cell_type": "code",
   "execution_count": 24,
   "metadata": {},
   "outputs": [
    {
     "ename": "SyntaxError",
     "evalue": "invalid syntax (<ipython-input-24-cf0ab1984bf6>, line 14)",
     "output_type": "error",
     "traceback": [
      "\u001b[1;36m  File \u001b[1;32m\"<ipython-input-24-cf0ab1984bf6>\"\u001b[1;36m, line \u001b[1;32m14\u001b[0m\n\u001b[1;33m    dom = PROD([INTERVALS(1)(32), INTERVALS(1)(1)])\u001b[0m\n\u001b[1;37m      ^\u001b[0m\n\u001b[1;31mSyntaxError\u001b[0m\u001b[1;31m:\u001b[0m invalid syntax\n"
     ]
    }
   ],
   "source": [
    "b1=BEZIER(S1)([[0,0],[1,0],[-1,-1],[0,1],[0,0]])\n",
    "MAP(b)(INTERVALS(1)(32))\n",
    "VIEW(MAP(b)(INTERVALS(1)(32)))\n",
    "b2=BEZIER(S1)([[0,0],[1,0],[-2,-2],[0,1],[0,0]])\n",
    "MAP(b)(INTERVALS(1)(32))\n",
    "VIEW(MAP(b)(INTERVALS(1)(32)))\n",
    "bb=BEZIER(S2)([b1,b2])\n",
    "\n",
    "dom=PROD([INTERVALS(1)(32),INTERVALS(1)(1)])\n",
    "VIEW(MAP(bb)(dom))\n",
    "#interpolazione transfinita\n",
    "VIEW(SKEL_1(MAP(bb)(dom))\n",
    "#dividendo il sercondo intervallo per 4\n",
    "dom = PROD([INTERVALS(1)(32), INTERVALS(1)(1)])\n",
    "VIEW(MAP(bb)(dom))"
   ]
  },
  {
   "cell_type": "markdown",
   "metadata": {},
   "source": []
  },
  {
   "cell_type": "code",
   "execution_count": 25,
   "metadata": {},
   "outputs": [
    {
     "ename": "NameError",
     "evalue": "name 'BZ' is not defined",
     "output_type": "error",
     "traceback": [
      "\u001b[1;31m---------------------------------------------------------------------------\u001b[0m",
      "\u001b[1;31mNameError\u001b[0m                                 Traceback (most recent call last)",
      "\u001b[1;32m<ipython-input-25-771f4c186eff>\u001b[0m in \u001b[0;36m<module>\u001b[1;34m()\u001b[0m\n\u001b[1;32m----> 1\u001b[1;33m \u001b[0mVIEW\u001b[0m\u001b[1;33m(\u001b[0m\u001b[0mSKEL_1\u001b[0m\u001b[1;33m(\u001b[0m\u001b[0mMAP\u001b[0m\u001b[1;33m(\u001b[0m\u001b[0mBZ\u001b[0m\u001b[1;33m)\u001b[0m\u001b[1;33m(\u001b[0m\u001b[0mdom\u001b[0m\u001b[1;33m)\u001b[0m\u001b[1;33m)\u001b[0m\u001b[1;33m)\u001b[0m\u001b[1;33m\u001b[0m\u001b[0m\n\u001b[0m",
      "\u001b[1;31mNameError\u001b[0m: name 'BZ' is not defined"
     ]
    }
   ],
   "source": [
    "VIEW(SKEL_1(MAP(BZ)(dom)))"
   ]
  },
  {
   "cell_type": "code",
   "execution_count": 11,
   "metadata": {},
   "outputs": [
    {
     "ename": "IndexError",
     "evalue": "list index out of range",
     "output_type": "error",
     "traceback": [
      "\u001b[1;31m---------------------------------------------------------------------------\u001b[0m",
      "\u001b[1;31mIndexError\u001b[0m                                Traceback (most recent call last)",
      "\u001b[1;32m<ipython-input-11-39c95704f89b>\u001b[0m in \u001b[0;36m<module>\u001b[1;34m()\u001b[0m\n\u001b[0;32m      4\u001b[0m \u001b[0mb\u001b[0m \u001b[1;33m=\u001b[0m \u001b[0mBEZIER\u001b[0m\u001b[1;33m(\u001b[0m\u001b[0mS1\u001b[0m\u001b[1;33m)\u001b[0m\u001b[1;33m(\u001b[0m\u001b[1;33m[\u001b[0m\u001b[1;33m[\u001b[0m\u001b[1;36m1\u001b[0m\u001b[1;33m,\u001b[0m\u001b[1;36m0.5\u001b[0m\u001b[1;33m]\u001b[0m\u001b[1;33m,\u001b[0m\u001b[1;33m[\u001b[0m\u001b[1;36m1\u001b[0m\u001b[1;33m,\u001b[0m\u001b[1;36m1\u001b[0m\u001b[1;33m]\u001b[0m\u001b[1;33m,\u001b[0m\u001b[1;33m[\u001b[0m\u001b[1;36m0.5\u001b[0m\u001b[1;33m,\u001b[0m\u001b[1;36m1\u001b[0m\u001b[1;33m]\u001b[0m\u001b[1;33m]\u001b[0m\u001b[1;33m)\u001b[0m\u001b[1;33m\u001b[0m\u001b[0m\n\u001b[0;32m      5\u001b[0m \u001b[0mbb\u001b[0m \u001b[1;33m=\u001b[0m \u001b[0mBEZIER\u001b[0m\u001b[1;33m(\u001b[0m\u001b[0mS2\u001b[0m\u001b[1;33m)\u001b[0m\u001b[1;33m(\u001b[0m\u001b[1;33m[\u001b[0m\u001b[1;33m[\u001b[0m\u001b[0mb\u001b[0m\u001b[1;33m,\u001b[0m\u001b[0mCONS\u001b[0m\u001b[1;33m(\u001b[0m\u001b[1;33m[\u001b[0m\u001b[0mx\u001b[0m\u001b[1;33m,\u001b[0m\u001b[0my\u001b[0m\u001b[1;33m]\u001b[0m\u001b[1;33m)\u001b[0m\u001b[1;33m]\u001b[0m\u001b[1;33m]\u001b[0m\u001b[1;33m)\u001b[0m\u001b[1;33m\u001b[0m\u001b[0m\n\u001b[1;32m----> 6\u001b[1;33m \u001b[0mVIEW\u001b[0m\u001b[1;33m(\u001b[0m\u001b[0mSKEL_1\u001b[0m\u001b[1;33m(\u001b[0m\u001b[0mMAP\u001b[0m\u001b[1;33m(\u001b[0m\u001b[0mbb\u001b[0m\u001b[1;33m)\u001b[0m\u001b[1;33m(\u001b[0m\u001b[0mdom\u001b[0m\u001b[1;33m)\u001b[0m\u001b[1;33m)\u001b[0m\u001b[1;33m)\u001b[0m\u001b[1;33m\u001b[0m\u001b[0m\n\u001b[0m",
      "\u001b[1;32mc:\\programmi\\python27\\lib\\site-packages\\pyplasm\\fenvs.py\u001b[0m in \u001b[0;36m<lambda>\u001b[1;34m(pol)\u001b[0m\n\u001b[0;32m   1651\u001b[0m                 \u001b[1;32mreturn\u001b[0m \u001b[0mMKPOL\u001b[0m\u001b[1;33m(\u001b[0m\u001b[1;33m[\u001b[0m\u001b[0mmapped_points\u001b[0m\u001b[1;33m,\u001b[0m \u001b[0mhulls\u001b[0m\u001b[1;33m,\u001b[0m \u001b[0mpols\u001b[0m\u001b[1;33m]\u001b[0m\u001b[1;33m)\u001b[0m\u001b[1;33m\u001b[0m\u001b[0m\n\u001b[0;32m   1652\u001b[0m \u001b[1;33m\u001b[0m\u001b[0m\n\u001b[1;32m-> 1653\u001b[1;33m         \u001b[1;32mreturn\u001b[0m \u001b[1;32mlambda\u001b[0m \u001b[0mpol\u001b[0m\u001b[1;33m:\u001b[0m \u001b[0mMAP0\u001b[0m\u001b[1;33m(\u001b[0m\u001b[0mfun\u001b[0m\u001b[1;33m,\u001b[0m\u001b[0mpol\u001b[0m\u001b[1;33m)\u001b[0m\u001b[1;33m\u001b[0m\u001b[0m\n\u001b[0m\u001b[0;32m   1654\u001b[0m \u001b[1;33m\u001b[0m\u001b[0m\n\u001b[0;32m   1655\u001b[0m \u001b[1;33m\u001b[0m\u001b[0m\n",
      "\u001b[1;32mc:\\programmi\\python27\\lib\\site-packages\\pyplasm\\fenvs.py\u001b[0m in \u001b[0;36mMAP0\u001b[1;34m(fun, pol)\u001b[0m\n\u001b[0;32m   1644\u001b[0m                         \u001b[1;32melse\u001b[0m\u001b[1;33m:\u001b[0m\u001b[1;33m\u001b[0m\u001b[0m\n\u001b[0;32m   1645\u001b[0m                                 \u001b[1;31m# to calculate (slow!)\u001b[0m\u001b[1;33m\u001b[0m\u001b[1;33m\u001b[0m\u001b[0m\n\u001b[1;32m-> 1646\u001b[1;33m                                 \u001b[0mmapped_point\u001b[0m\u001b[1;33m=\u001b[0m\u001b[0mfun\u001b[0m\u001b[1;33m(\u001b[0m\u001b[0mpoint\u001b[0m\u001b[1;33m)\u001b[0m\u001b[1;33m\u001b[0m\u001b[0m\n\u001b[0m\u001b[0;32m   1647\u001b[0m                                 \u001b[0mcache\u001b[0m\u001b[1;33m[\u001b[0m\u001b[0mkey\u001b[0m\u001b[1;33m]\u001b[0m\u001b[1;33m=\u001b[0m\u001b[0mmapped_point\u001b[0m\u001b[1;33m\u001b[0m\u001b[0m\n\u001b[0;32m   1648\u001b[0m \u001b[1;33m\u001b[0m\u001b[0m\n",
      "\u001b[1;32mc:\\programmi\\python27\\lib\\site-packages\\pyplasm\\fenvs.py\u001b[0m in \u001b[0;36mmap_fn\u001b[1;34m(point)\u001b[0m\n\u001b[0;32m   2031\u001b[0m \u001b[1;33m\u001b[0m\u001b[0m\n\u001b[0;32m   2032\u001b[0m                 \u001b[1;32mdef\u001b[0m \u001b[0mmap_fn\u001b[0m\u001b[1;33m(\u001b[0m\u001b[0mpoint\u001b[0m\u001b[1;33m)\u001b[0m\u001b[1;33m:\u001b[0m\u001b[1;33m\u001b[0m\u001b[0m\n\u001b[1;32m-> 2033\u001b[1;33m                         \u001b[0mt\u001b[0m\u001b[1;33m=\u001b[0m\u001b[0mU\u001b[0m\u001b[1;33m(\u001b[0m\u001b[0mpoint\u001b[0m\u001b[1;33m)\u001b[0m\u001b[1;33m\u001b[0m\u001b[0m\n\u001b[0m\u001b[0;32m   2034\u001b[0m                         \u001b[0mcontroldata\u001b[0m\u001b[1;33m=\u001b[0m\u001b[1;33m[\u001b[0m\u001b[0mfun\u001b[0m\u001b[1;33m(\u001b[0m\u001b[0mpoint\u001b[0m\u001b[1;33m)\u001b[0m \u001b[1;32mif\u001b[0m \u001b[0mcallable\u001b[0m\u001b[1;33m(\u001b[0m\u001b[0mfun\u001b[0m\u001b[1;33m)\u001b[0m \u001b[1;32melse\u001b[0m \u001b[0mfun\u001b[0m \u001b[1;32mfor\u001b[0m \u001b[0mfun\u001b[0m \u001b[1;32min\u001b[0m \u001b[0mcontroldata_fn\u001b[0m\u001b[1;33m]\u001b[0m\u001b[1;33m\u001b[0m\u001b[0m\n\u001b[0;32m   2035\u001b[0m                         \u001b[0mret\u001b[0m\u001b[1;33m=\u001b[0m\u001b[1;33m[\u001b[0m\u001b[1;36m0.0\u001b[0m \u001b[1;32mfor\u001b[0m \u001b[0mi\u001b[0m \u001b[1;32min\u001b[0m \u001b[0mrange\u001b[0m\u001b[1;33m(\u001b[0m\u001b[0mlen\u001b[0m\u001b[1;33m(\u001b[0m\u001b[0mcontroldata\u001b[0m\u001b[1;33m[\u001b[0m\u001b[1;36m0\u001b[0m\u001b[1;33m]\u001b[0m\u001b[1;33m)\u001b[0m\u001b[1;33m)\u001b[0m\u001b[1;33m]\u001b[0m\u001b[1;33m\u001b[0m\u001b[0m\n",
      "\u001b[1;32mc:\\programmi\\python27\\lib\\site-packages\\pyplasm\\fenvs.py\u001b[0m in \u001b[0;36m<lambda>\u001b[1;34m(lista)\u001b[0m\n\u001b[0;32m    708\u001b[0m \u001b[1;33m\u001b[0m\u001b[0m\n\u001b[0;32m    709\u001b[0m \u001b[1;32mdef\u001b[0m \u001b[0mSEL\u001b[0m \u001b[1;33m(\u001b[0m\u001b[0mn\u001b[0m\u001b[1;33m)\u001b[0m\u001b[1;33m:\u001b[0m\u001b[1;33m\u001b[0m\u001b[0m\n\u001b[1;32m--> 710\u001b[1;33m         \u001b[1;32mreturn\u001b[0m \u001b[1;32mlambda\u001b[0m \u001b[0mlista\u001b[0m\u001b[1;33m:\u001b[0m \u001b[0mlista\u001b[0m\u001b[1;33m[\u001b[0m\u001b[0mint\u001b[0m\u001b[1;33m(\u001b[0m\u001b[0mn\u001b[0m\u001b[1;33m)\u001b[0m\u001b[1;33m-\u001b[0m\u001b[1;36m1\u001b[0m\u001b[1;33m]\u001b[0m\u001b[1;33m\u001b[0m\u001b[0m\n\u001b[0m\u001b[0;32m    711\u001b[0m \u001b[1;33m\u001b[0m\u001b[0m\n\u001b[0;32m    712\u001b[0m \u001b[1;33m\u001b[0m\u001b[0m\n",
      "\u001b[1;31mIndexError\u001b[0m: list index out of range"
     ]
    }
   ],
   "source": [
    "#esempio\n",
    "x = lambda (u,v) : 1.5 * cos(u)\n",
    "y = lambda (u,v) : 1.5 * cos(u)\n",
    "b = BEZIER(S1)([[1,0.5],[1,1],[0.5,1]])\n",
    "bb = BEZIER(S2)([[b,CONS([x,y])]])\n",
    "VIEW(SKEL_1(MAP(bb)(dom)))"
   ]
  },
  {
   "cell_type": "markdown",
   "metadata": {},
   "source": []
  },
  {
   "cell_type": "code",
   "execution_count": 27,
   "metadata": {
    "scrolled": true
   },
   "outputs": [
    {
     "ename": "IndexError",
     "evalue": "list index out of range",
     "output_type": "error",
     "traceback": [
      "\u001b[1;31m---------------------------------------------------------------------------\u001b[0m",
      "\u001b[1;31mIndexError\u001b[0m                                Traceback (most recent call last)",
      "\u001b[1;32m<ipython-input-27-42f764f82579>\u001b[0m in \u001b[0;36m<module>\u001b[1;34m()\u001b[0m\n\u001b[0;32m      4\u001b[0m \u001b[0mb\u001b[0m \u001b[1;33m=\u001b[0m \u001b[0mBEZIER\u001b[0m\u001b[1;33m(\u001b[0m\u001b[0mS1\u001b[0m\u001b[1;33m)\u001b[0m\u001b[1;33m(\u001b[0m\u001b[1;33m[\u001b[0m\u001b[1;33m[\u001b[0m\u001b[1;36m1\u001b[0m\u001b[1;33m,\u001b[0m\u001b[1;36m.5\u001b[0m\u001b[1;33m,\u001b[0m\u001b[1;36m1\u001b[0m\u001b[1;33m]\u001b[0m\u001b[1;33m,\u001b[0m\u001b[1;33m[\u001b[0m\u001b[1;36m1\u001b[0m\u001b[1;33m,\u001b[0m\u001b[1;36m1\u001b[0m\u001b[1;33m,\u001b[0m\u001b[1;36m2\u001b[0m\u001b[1;33m]\u001b[0m\u001b[1;33m,\u001b[0m\u001b[1;33m[\u001b[0m\u001b[1;36m.5\u001b[0m\u001b[1;33m,\u001b[0m\u001b[1;36m1\u001b[0m\u001b[1;33m,\u001b[0m\u001b[1;36m3\u001b[0m\u001b[1;33m]\u001b[0m\u001b[1;33m]\u001b[0m\u001b[1;33m)\u001b[0m\u001b[1;33m\u001b[0m\u001b[0m\n\u001b[0;32m      5\u001b[0m \u001b[0mbb\u001b[0m \u001b[1;33m=\u001b[0m \u001b[0mBEZIER\u001b[0m\u001b[1;33m(\u001b[0m\u001b[0mS2\u001b[0m\u001b[1;33m)\u001b[0m\u001b[1;33m(\u001b[0m\u001b[1;33m[\u001b[0m\u001b[0mb\u001b[0m\u001b[1;33m,\u001b[0m\u001b[0mCONS\u001b[0m\u001b[1;33m(\u001b[0m\u001b[1;33m[\u001b[0m\u001b[0mx\u001b[0m\u001b[1;33m,\u001b[0m\u001b[0my\u001b[0m\u001b[1;33m,\u001b[0m\u001b[0mz\u001b[0m\u001b[1;33m]\u001b[0m\u001b[1;33m)\u001b[0m\u001b[1;33m]\u001b[0m\u001b[1;33m)\u001b[0m\u001b[1;33m\u001b[0m\u001b[0m\n\u001b[1;32m----> 6\u001b[1;33m \u001b[0mVIEW\u001b[0m\u001b[1;33m(\u001b[0m\u001b[0mSKEL_1\u001b[0m\u001b[1;33m(\u001b[0m\u001b[0mMAP\u001b[0m\u001b[1;33m(\u001b[0m\u001b[0mbb\u001b[0m\u001b[1;33m)\u001b[0m\u001b[1;33m(\u001b[0m\u001b[0mdom\u001b[0m\u001b[1;33m)\u001b[0m\u001b[1;33m)\u001b[0m\u001b[1;33m)\u001b[0m\u001b[1;33m\u001b[0m\u001b[0m\n\u001b[0m\u001b[0;32m      7\u001b[0m \u001b[1;33m\u001b[0m\u001b[0m\n\u001b[0;32m      8\u001b[0m \u001b[1;31m#altro esempio\u001b[0m\u001b[1;33m\u001b[0m\u001b[1;33m\u001b[0m\u001b[0m\n",
      "\u001b[1;32mc:\\programmi\\python27\\lib\\site-packages\\pyplasm\\fenvs.py\u001b[0m in \u001b[0;36m<lambda>\u001b[1;34m(pol)\u001b[0m\n\u001b[0;32m   1651\u001b[0m                 \u001b[1;32mreturn\u001b[0m \u001b[0mMKPOL\u001b[0m\u001b[1;33m(\u001b[0m\u001b[1;33m[\u001b[0m\u001b[0mmapped_points\u001b[0m\u001b[1;33m,\u001b[0m \u001b[0mhulls\u001b[0m\u001b[1;33m,\u001b[0m \u001b[0mpols\u001b[0m\u001b[1;33m]\u001b[0m\u001b[1;33m)\u001b[0m\u001b[1;33m\u001b[0m\u001b[0m\n\u001b[0;32m   1652\u001b[0m \u001b[1;33m\u001b[0m\u001b[0m\n\u001b[1;32m-> 1653\u001b[1;33m         \u001b[1;32mreturn\u001b[0m \u001b[1;32mlambda\u001b[0m \u001b[0mpol\u001b[0m\u001b[1;33m:\u001b[0m \u001b[0mMAP0\u001b[0m\u001b[1;33m(\u001b[0m\u001b[0mfun\u001b[0m\u001b[1;33m,\u001b[0m\u001b[0mpol\u001b[0m\u001b[1;33m)\u001b[0m\u001b[1;33m\u001b[0m\u001b[0m\n\u001b[0m\u001b[0;32m   1654\u001b[0m \u001b[1;33m\u001b[0m\u001b[0m\n\u001b[0;32m   1655\u001b[0m \u001b[1;33m\u001b[0m\u001b[0m\n",
      "\u001b[1;32mc:\\programmi\\python27\\lib\\site-packages\\pyplasm\\fenvs.py\u001b[0m in \u001b[0;36mMAP0\u001b[1;34m(fun, pol)\u001b[0m\n\u001b[0;32m   1644\u001b[0m                         \u001b[1;32melse\u001b[0m\u001b[1;33m:\u001b[0m\u001b[1;33m\u001b[0m\u001b[0m\n\u001b[0;32m   1645\u001b[0m                                 \u001b[1;31m# to calculate (slow!)\u001b[0m\u001b[1;33m\u001b[0m\u001b[1;33m\u001b[0m\u001b[0m\n\u001b[1;32m-> 1646\u001b[1;33m                                 \u001b[0mmapped_point\u001b[0m\u001b[1;33m=\u001b[0m\u001b[0mfun\u001b[0m\u001b[1;33m(\u001b[0m\u001b[0mpoint\u001b[0m\u001b[1;33m)\u001b[0m\u001b[1;33m\u001b[0m\u001b[0m\n\u001b[0m\u001b[0;32m   1647\u001b[0m                                 \u001b[0mcache\u001b[0m\u001b[1;33m[\u001b[0m\u001b[0mkey\u001b[0m\u001b[1;33m]\u001b[0m\u001b[1;33m=\u001b[0m\u001b[0mmapped_point\u001b[0m\u001b[1;33m\u001b[0m\u001b[0m\n\u001b[0;32m   1648\u001b[0m \u001b[1;33m\u001b[0m\u001b[0m\n",
      "\u001b[1;32mc:\\programmi\\python27\\lib\\site-packages\\pyplasm\\fenvs.py\u001b[0m in \u001b[0;36mmap_fn\u001b[1;34m(point)\u001b[0m\n\u001b[0;32m   2031\u001b[0m \u001b[1;33m\u001b[0m\u001b[0m\n\u001b[0;32m   2032\u001b[0m                 \u001b[1;32mdef\u001b[0m \u001b[0mmap_fn\u001b[0m\u001b[1;33m(\u001b[0m\u001b[0mpoint\u001b[0m\u001b[1;33m)\u001b[0m\u001b[1;33m:\u001b[0m\u001b[1;33m\u001b[0m\u001b[0m\n\u001b[1;32m-> 2033\u001b[1;33m                         \u001b[0mt\u001b[0m\u001b[1;33m=\u001b[0m\u001b[0mU\u001b[0m\u001b[1;33m(\u001b[0m\u001b[0mpoint\u001b[0m\u001b[1;33m)\u001b[0m\u001b[1;33m\u001b[0m\u001b[0m\n\u001b[0m\u001b[0;32m   2034\u001b[0m                         \u001b[0mcontroldata\u001b[0m\u001b[1;33m=\u001b[0m\u001b[1;33m[\u001b[0m\u001b[0mfun\u001b[0m\u001b[1;33m(\u001b[0m\u001b[0mpoint\u001b[0m\u001b[1;33m)\u001b[0m \u001b[1;32mif\u001b[0m \u001b[0mcallable\u001b[0m\u001b[1;33m(\u001b[0m\u001b[0mfun\u001b[0m\u001b[1;33m)\u001b[0m \u001b[1;32melse\u001b[0m \u001b[0mfun\u001b[0m \u001b[1;32mfor\u001b[0m \u001b[0mfun\u001b[0m \u001b[1;32min\u001b[0m \u001b[0mcontroldata_fn\u001b[0m\u001b[1;33m]\u001b[0m\u001b[1;33m\u001b[0m\u001b[0m\n\u001b[0;32m   2035\u001b[0m                         \u001b[0mret\u001b[0m\u001b[1;33m=\u001b[0m\u001b[1;33m[\u001b[0m\u001b[1;36m0.0\u001b[0m \u001b[1;32mfor\u001b[0m \u001b[0mi\u001b[0m \u001b[1;32min\u001b[0m \u001b[0mrange\u001b[0m\u001b[1;33m(\u001b[0m\u001b[0mlen\u001b[0m\u001b[1;33m(\u001b[0m\u001b[0mcontroldata\u001b[0m\u001b[1;33m[\u001b[0m\u001b[1;36m0\u001b[0m\u001b[1;33m]\u001b[0m\u001b[1;33m)\u001b[0m\u001b[1;33m)\u001b[0m\u001b[1;33m]\u001b[0m\u001b[1;33m\u001b[0m\u001b[0m\n",
      "\u001b[1;32mc:\\programmi\\python27\\lib\\site-packages\\pyplasm\\fenvs.py\u001b[0m in \u001b[0;36m<lambda>\u001b[1;34m(lista)\u001b[0m\n\u001b[0;32m    708\u001b[0m \u001b[1;33m\u001b[0m\u001b[0m\n\u001b[0;32m    709\u001b[0m \u001b[1;32mdef\u001b[0m \u001b[0mSEL\u001b[0m \u001b[1;33m(\u001b[0m\u001b[0mn\u001b[0m\u001b[1;33m)\u001b[0m\u001b[1;33m:\u001b[0m\u001b[1;33m\u001b[0m\u001b[0m\n\u001b[1;32m--> 710\u001b[1;33m         \u001b[1;32mreturn\u001b[0m \u001b[1;32mlambda\u001b[0m \u001b[0mlista\u001b[0m\u001b[1;33m:\u001b[0m \u001b[0mlista\u001b[0m\u001b[1;33m[\u001b[0m\u001b[0mint\u001b[0m\u001b[1;33m(\u001b[0m\u001b[0mn\u001b[0m\u001b[1;33m)\u001b[0m\u001b[1;33m-\u001b[0m\u001b[1;36m1\u001b[0m\u001b[1;33m]\u001b[0m\u001b[1;33m\u001b[0m\u001b[0m\n\u001b[0m\u001b[0;32m    711\u001b[0m \u001b[1;33m\u001b[0m\u001b[0m\n\u001b[0;32m    712\u001b[0m \u001b[1;33m\u001b[0m\u001b[0m\n",
      "\u001b[1;31mIndexError\u001b[0m: list index out of range"
     ]
    }
   ],
   "source": [
    "x = lambda (u,v): 1.5*cos(u)\n",
    "y = lambda (u,v): 1.5*sin(u)\n",
    "z = lambda p: 1\n",
    "b = BEZIER(S1)([[1,.5,1],[1,1,2],[.5,1,3]])\n",
    "bb = BEZIER(S2)([b,CONS([x,y,z])])\n",
    "VIEW(SKEL_1(MAP(bb)(dom)))\n",
    "\n",
    "#altro esempio \n",
    "x = lambda u : cos(u)\n",
    "y = lambda u : cos(u)\n",
    "z = lambda u : u/(2*PI) # in questo modo mi fermo a quota 1, se mi voglio fermare ad una quota h devo moltiplicare il tutto per h \n",
    "\n",
    "# in questo modo ottengo una spirale che parte da 0 a 2PI\n",
    "dom = INTERVALS(2*PI)(18)\n",
    "\n",
    "def spiral(r,h,n):\n",
    "    x = lambda (u,) : cos(u)\n",
    "    y = lambda (u,) : cos(u)\n",
    "    z = lambda (u,) : h*u/(2*PI)\n",
    "    dom = INTERVALS(2*n*PI)(36*n)\n",
    "    return MAP(CONS([x,y,z]))(dom)\n",
    "VIEW(spiral(0.5,0.1,20))"
   ]
  },
  {
   "cell_type": "code",
   "execution_count": 28,
   "metadata": {},
   "outputs": [
    {
     "ename": "TypeError",
     "evalue": "spiralObject() takes exactly 1 argument (2 given)",
     "output_type": "error",
     "traceback": [
      "\u001b[1;31m---------------------------------------------------------------------------\u001b[0m",
      "\u001b[1;31mTypeError\u001b[0m                                 Traceback (most recent call last)",
      "\u001b[1;32m<ipython-input-28-c1b427d841f2>\u001b[0m in \u001b[0;36m<module>\u001b[1;34m()\u001b[0m\n\u001b[0;32m     10\u001b[0m \u001b[0mVIEW\u001b[0m\u001b[1;33m(\u001b[0m\u001b[0mspiralObject\u001b[0m\u001b[1;33m(\u001b[0m\u001b[1;33m[\u001b[0m\u001b[1;36m2\u001b[0m\u001b[1;33m,\u001b[0m\u001b[1;36m1\u001b[0m\u001b[1;33m,\u001b[0m\u001b[1;36m4\u001b[0m\u001b[1;33m]\u001b[0m\u001b[1;33m)\u001b[0m\u001b[1;33m)\u001b[0m\u001b[1;33m\u001b[0m\u001b[0m\n\u001b[0;32m     11\u001b[0m \u001b[1;33m\u001b[0m\u001b[0m\n\u001b[1;32m---> 12\u001b[1;33m \u001b[0mspiral1\u001b[0m \u001b[1;33m=\u001b[0m \u001b[0mspiralObject\u001b[0m\u001b[1;33m(\u001b[0m\u001b[1;36m0.5\u001b[0m\u001b[1;33m,\u001b[0m\u001b[1;36m0.2\u001b[0m\u001b[1;33m)\u001b[0m\u001b[1;33m\u001b[0m\u001b[0m\n\u001b[0m\u001b[0;32m     13\u001b[0m \u001b[0mspiral2\u001b[0m \u001b[1;33m=\u001b[0m \u001b[0mspiralObject\u001b[0m\u001b[1;33m(\u001b[0m\u001b[1;36m1\u001b[0m\u001b[1;33m,\u001b[0m\u001b[1;36m0.2\u001b[0m\u001b[1;33m)\u001b[0m\u001b[1;33m\u001b[0m\u001b[0m\n\u001b[0;32m     14\u001b[0m \u001b[0msb\u001b[0m \u001b[1;33m=\u001b[0m \u001b[0mBEZIER\u001b[0m\u001b[1;33m(\u001b[0m\u001b[0mS2\u001b[0m\u001b[1;33m)\u001b[0m\u001b[1;33m(\u001b[0m\u001b[1;33m[\u001b[0m\u001b[0mspiral1\u001b[0m\u001b[1;33m,\u001b[0m\u001b[0mspiral2\u001b[0m\u001b[1;33m]\u001b[0m\u001b[1;33m)\u001b[0m\u001b[1;33m\u001b[0m\u001b[0m\n",
      "\u001b[1;31mTypeError\u001b[0m: spiralObject() takes exactly 1 argument (2 given)"
     ]
    }
   ],
   "source": [
    "#usiamo due spirali per creare una superficie sfruttando bezier\n",
    "def spiralObject(args):\n",
    "    R, h, n = args\n",
    "    x = lambda (u,): R*cos(u)\n",
    "    y = lambda (u,): R*sin(u)\n",
    "    z = lambda (u,): h*u/(2*PI)\n",
    "    dom = INTERVALS(n*2*PI)(36*n)\n",
    "    return MAP(CONS([x,y,z]))(dom)\n",
    "\n",
    "VIEW(spiralObject([2,1,4]))"
   ]
  },
  {
   "cell_type": "markdown",
   "metadata": {},
   "source": [
    "![spirale.PNG](attachment:spirale.PNG)"
   ]
  },
  {
   "cell_type": "code",
   "execution_count": 30,
   "metadata": {},
   "outputs": [
    {
     "data": {
      "text/plain": [
       "<pyplasm.xgepy.Hpc; proxy of <Swig Object of type 'std::shared_ptr< Hpc > *' at 0x000000000DDE1960> >"
      ]
     },
     "execution_count": 30,
     "metadata": {},
     "output_type": "execute_result"
    }
   ],
   "source": [
    "def spiral(args):\n",
    "    R, h = args\n",
    "    x = lambda (u,v): R*cos(u)\n",
    "    y = lambda (u,v): R*sin(u)\n",
    "    z = lambda (u,v): h*u/(2*PI)\n",
    "    return CONS([x,y,z])\n",
    "\n",
    "s1 = spiral([.5,.2])\n",
    "s2 = spiral([1,.2])\n",
    "sup = BEZIER(S2)([s1,s2])\n",
    "dom = lambda n: PROD([INTERVALS(2*n*PI)(36*n),INTERVALS(1)(1)])\n",
    "VIEW(MAP(sup)(dom(10)))\n",
    "# Il dominio sono tetraedri. Per ottenere una resa perfetta il dominio dovrebbe essere suddiviso in triangoli in modo\n",
    "# che tutti gli oggetti del dominio siano complanari."
   ]
  },
  {
   "cell_type": "markdown",
   "metadata": {},
   "source": [
    "![spirale2.PNG](attachment:spirale2.PNG)"
   ]
  },
  {
   "cell_type": "code",
   "execution_count": null,
   "metadata": {},
   "outputs": [],
   "source": []
  },
  {
   "cell_type": "code",
   "execution_count": null,
   "metadata": {},
   "outputs": [],
   "source": []
  },
  {
   "cell_type": "code",
   "execution_count": null,
   "metadata": {},
   "outputs": [],
   "source": []
  }
 ],
 "metadata": {
  "kernelspec": {
   "display_name": "Python 2",
   "language": "python",
   "name": "python2"
  },
  "language_info": {
   "codemirror_mode": {
    "name": "ipython",
    "version": 2
   },
   "file_extension": ".py",
   "mimetype": "text/x-python",
   "name": "python",
   "nbconvert_exporter": "python",
   "pygments_lexer": "ipython2",
   "version": "2.7.14"
  }
 },
 "nbformat": 4,
 "nbformat_minor": 2
}
