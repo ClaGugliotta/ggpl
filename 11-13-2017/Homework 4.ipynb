{
 "cells": [
  {
   "cell_type": "markdown",
   "metadata": {},
   "source": [
    "HomeWork 4\n",
    "======\n"
   ]
  },
  {
   "cell_type": "code",
   "execution_count": 2,
   "metadata": {},
   "outputs": [
    {
     "name": "stdout",
     "output_type": "stream",
     "text": [
      "Evaluating fenvs.py..\n",
      "...fenvs.py imported in 0.008997 seconds\n"
     ]
    }
   ],
   "source": [
    "from larlib import *"
   ]
  },
  {
   "cell_type": "code",
   "execution_count": null,
   "metadata": {
    "collapsed": true
   },
   "outputs": [],
   "source": [
    "def ArchSurf(args):\n",
    "    \"\"\"\n",
    "    Return a Bezier function from 2 circumferences\n",
    "    \"\"\"\n",
    "    rr, w, h = args\n",
    "    x1 = lambda p: rr*cos(p[0])\n",
    "    y1 = lambda p: rr*sin(p[0])\n",
    "    x2 = lambda p: (rr-w)*cos(p[0])\n",
    "    y2 = lambda p: (rr-w)*sin(p[0])\n",
    "    z = lambda p: h\n",
    "    bz11 = BEZIER(S1)([CONS([x1,y1,z])])\n",
    "    bz12 = BEZIER(S1)([CONS([x2,y2,z])])\n",
    "    return BEZIER(S2)([bz11, bz12])"
   ]
  },
  {
   "cell_type": "code",
   "execution_count": null,
   "metadata": {
    "collapsed": true
   },
   "outputs": [],
   "source": [
    "def Arch(args,angle):\n",
    "    length, w, depth = args\n",
    "    radius = (length/2) / cos(angle/2)\n",
    "    # ceiling per traslazione, per ora non è necessario\n",
    "    domain2D = PROD([T(1)(angle/2)(INTERVALS(PI-angle)(16)), QUOTE([1])])\n",
    "    domain3D = PROD([domain2D, QUOTE([1])])\n",
    "    ArchSurf2D_0 = ArchSurf([radius,w,0])\n",
    "    ArchSurf2D_1 = ArchSurf([radius,w,depth])\n",
    "    SolidMap = BEZIER(S3)([ArchSurf2D_0, ArchSurf2D_1])\n",
    "    return MAP(SolidMap)(domain3D)"
   ]
  },
  {
   "cell_type": "code",
   "execution_count": null,
   "metadata": {
    "collapsed": true
   },
   "outputs": [],
   "source": [
    "VIEW(Arch([10,1,1], 0.3*PI))"
   ]
  },
  {
   "cell_type": "markdown",
   "metadata": {},
   "source": [
    "![Arch.png](attachment:Arch.png)"
   ]
  },
  {
   "cell_type": "code",
   "execution_count": null,
   "metadata": {
    "collapsed": true
   },
   "outputs": [],
   "source": []
  }
 ],
 "metadata": {
  "kernelspec": {
   "display_name": "Python 2",
   "language": "python",
   "name": "python2"
  },
  "language_info": {
   "codemirror_mode": {
    "name": "ipython",
    "version": 2
   },
   "file_extension": ".py",
   "mimetype": "text/x-python",
   "name": "python",
   "nbconvert_exporter": "python",
   "pygments_lexer": "ipython2",
   "version": "2.7.13"
  }
 },
 "nbformat": 4,
 "nbformat_minor": 2
}
